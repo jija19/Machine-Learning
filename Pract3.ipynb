{
  "cells": [
    {
      "cell_type": "code",
      "execution_count": null,
      "id": "41e5183b",
      "metadata": {
        "id": "41e5183b"
      },
      "outputs": [],
      "source": [
        "import numpy as np"
      ]
    },
    {
      "cell_type": "code",
      "execution_count": null,
      "id": "5f40e8f9",
      "metadata": {
        "id": "5f40e8f9"
      },
      "outputs": [],
      "source": [
        "arr=np.array([1,3,4,6,4])"
      ]
    },
    {
      "cell_type": "code",
      "execution_count": null,
      "id": "bf460b9a",
      "metadata": {
        "id": "bf460b9a"
      },
      "outputs": [],
      "source": [
        ""
      ]
    },
    {
      "cell_type": "code",
      "execution_count": null,
      "id": "057d0110",
      "metadata": {
        "id": "057d0110",
        "outputId": "a60c6e03-5591-45fc-d661-ce98e05ea49b"
      },
      "outputs": [
        {
          "data": {
            "text/plain": [
              "array([1, 3, 4, 6, 4])"
            ]
          },
          "execution_count": 5,
          "metadata": {},
          "output_type": "execute_result"
        }
      ],
      "source": [
        "arr"
      ]
    },
    {
      "cell_type": "code",
      "execution_count": null,
      "id": "c4772af0",
      "metadata": {
        "id": "c4772af0"
      },
      "outputs": [],
      "source": [
        "arr2=np.array([[2,5,3],[5,6,2],[7,88,21]])"
      ]
    },
    {
      "cell_type": "code",
      "execution_count": null,
      "id": "4517f852",
      "metadata": {
        "id": "4517f852",
        "outputId": "d1cde324-60eb-4495-f186-00cc0afc4bdd"
      },
      "outputs": [
        {
          "data": {
            "text/plain": [
              "array([[ 2,  5,  3],\n",
              "       [ 5,  6,  2],\n",
              "       [ 7, 88, 21]])"
            ]
          },
          "execution_count": 10,
          "metadata": {},
          "output_type": "execute_result"
        }
      ],
      "source": [
        "arr2"
      ]
    },
    {
      "cell_type": "code",
      "execution_count": null,
      "id": "bd134559",
      "metadata": {
        "id": "bd134559",
        "outputId": "1578761f-5dee-4998-ae57-ef34c5ff25dd"
      },
      "outputs": [
        {
          "data": {
            "text/plain": [
              "(5,)"
            ]
          },
          "execution_count": 11,
          "metadata": {},
          "output_type": "execute_result"
        }
      ],
      "source": [
        "arr.shape"
      ]
    },
    {
      "cell_type": "code",
      "execution_count": null,
      "id": "26503b69",
      "metadata": {
        "id": "26503b69",
        "outputId": "9af15037-5fbd-4cc2-88fc-0038cd7fc8b3"
      },
      "outputs": [
        {
          "data": {
            "text/plain": [
              "(3, 3)"
            ]
          },
          "execution_count": 12,
          "metadata": {},
          "output_type": "execute_result"
        }
      ],
      "source": [
        "arr2.shape"
      ]
    },
    {
      "cell_type": "code",
      "execution_count": null,
      "id": "d4f43b04",
      "metadata": {
        "id": "d4f43b04"
      },
      "outputs": [],
      "source": [
        "list=[2,3,63,32,13,42]"
      ]
    },
    {
      "cell_type": "code",
      "execution_count": null,
      "id": "cee3105f",
      "metadata": {
        "id": "cee3105f",
        "outputId": "15967adf-a60c-437c-ad38-15dcb1c56682"
      },
      "outputs": [
        {
          "data": {
            "text/plain": [
              "array([ 2,  3, 63, 32, 13, 42])"
            ]
          },
          "execution_count": 15,
          "metadata": {},
          "output_type": "execute_result"
        }
      ],
      "source": [
        "np.array(list)"
      ]
    },
    {
      "cell_type": "code",
      "execution_count": null,
      "id": "1fc7c4c7",
      "metadata": {
        "id": "1fc7c4c7"
      },
      "outputs": [],
      "source": [
        "list2=[[1,2,4,3],[23,4,4,2]]"
      ]
    },
    {
      "cell_type": "code",
      "execution_count": null,
      "id": "4b32d97f",
      "metadata": {
        "id": "4b32d97f"
      },
      "outputs": [],
      "source": [
        "arr4=np.array(list2)"
      ]
    },
    {
      "cell_type": "code",
      "execution_count": null,
      "id": "4e409b92",
      "metadata": {
        "id": "4e409b92",
        "outputId": "2724bd2e-95c2-47e0-e9e9-320920ff6c55"
      },
      "outputs": [
        {
          "data": {
            "text/plain": [
              "(2, 4)"
            ]
          },
          "execution_count": 20,
          "metadata": {},
          "output_type": "execute_result"
        }
      ],
      "source": [
        "arr4.shape"
      ]
    },
    {
      "cell_type": "code",
      "execution_count": null,
      "id": "2dc3ff6a",
      "metadata": {
        "id": "2dc3ff6a",
        "outputId": "70d68c42-cc60-4c00-f37e-6029bb1cf74c"
      },
      "outputs": [
        {
          "data": {
            "text/plain": [
              "array([[ 1,  2,  4,  3],\n",
              "       [23,  4,  4,  2]])"
            ]
          },
          "execution_count": 21,
          "metadata": {},
          "output_type": "execute_result"
        }
      ],
      "source": [
        "arr4"
      ]
    },
    {
      "cell_type": "code",
      "execution_count": null,
      "id": "c4cf8f71",
      "metadata": {
        "id": "c4cf8f71",
        "outputId": "86e55635-1e01-4cd8-d2b7-9bfad91181eb"
      },
      "outputs": [
        {
          "data": {
            "text/plain": [
              "array([ 1,  2,  3,  4,  5,  6,  7,  8,  9, 10, 11])"
            ]
          },
          "execution_count": 33,
          "metadata": {},
          "output_type": "execute_result"
        }
      ],
      "source": [
        "np.arange(1,12)"
      ]
    },
    {
      "cell_type": "code",
      "execution_count": null,
      "id": "e1a8221a",
      "metadata": {
        "id": "e1a8221a",
        "outputId": "972cab6f-f26d-47c2-f6d5-116af65d01fa"
      },
      "outputs": [
        {
          "data": {
            "text/plain": [
              "array([1, 5, 9])"
            ]
          },
          "execution_count": 26,
          "metadata": {},
          "output_type": "execute_result"
        }
      ],
      "source": [
        "np.arange(1,12,4)"
      ]
    },
    {
      "cell_type": "code",
      "execution_count": null,
      "id": "8473f171",
      "metadata": {
        "id": "8473f171",
        "outputId": "dc2cdbae-a745-47f8-e2ea-f8a3b8a23287"
      },
      "outputs": [
        {
          "data": {
            "text/plain": [
              "array([0., 0., 0., 0., 0., 0., 0.])"
            ]
          },
          "execution_count": 27,
          "metadata": {},
          "output_type": "execute_result"
        }
      ],
      "source": [
        "np.zeros(7)"
      ]
    },
    {
      "cell_type": "code",
      "execution_count": null,
      "id": "007378bb",
      "metadata": {
        "id": "007378bb",
        "outputId": "ada50474-15bd-4fc8-90ba-cad8dc2f850b"
      },
      "outputs": [
        {
          "data": {
            "text/plain": [
              "array([[0., 0., 0.],\n",
              "       [0., 0., 0.],\n",
              "       [0., 0., 0.],\n",
              "       [0., 0., 0.]])"
            ]
          },
          "execution_count": 28,
          "metadata": {},
          "output_type": "execute_result"
        }
      ],
      "source": [
        "np.zeros([4,3])"
      ]
    },
    {
      "cell_type": "code",
      "execution_count": null,
      "id": "b210fc49",
      "metadata": {
        "id": "b210fc49",
        "outputId": "b32a8b6e-0181-405a-9f28-47d42d82eadb"
      },
      "outputs": [
        {
          "data": {
            "text/plain": [
              "array([1., 1., 1., 1., 1., 1., 1.])"
            ]
          },
          "execution_count": 29,
          "metadata": {},
          "output_type": "execute_result"
        }
      ],
      "source": [
        "np.ones(7)"
      ]
    },
    {
      "cell_type": "code",
      "execution_count": null,
      "id": "3bad2350",
      "metadata": {
        "id": "3bad2350",
        "outputId": "c07a754a-27ff-4f33-8965-0fd4993fb9c6"
      },
      "outputs": [
        {
          "data": {
            "text/plain": [
              "array([[1., 1., 1., 1., 1.],\n",
              "       [1., 1., 1., 1., 1.],\n",
              "       [1., 1., 1., 1., 1.],\n",
              "       [1., 1., 1., 1., 1.],\n",
              "       [1., 1., 1., 1., 1.]])"
            ]
          },
          "execution_count": 31,
          "metadata": {},
          "output_type": "execute_result"
        }
      ],
      "source": [
        "np.ones((5,5))"
      ]
    },
    {
      "cell_type": "code",
      "execution_count": null,
      "id": "013827b0",
      "metadata": {
        "id": "013827b0",
        "outputId": "ab4c0f83-b136-419a-b994-98f365450f1d"
      },
      "outputs": [
        {
          "data": {
            "text/plain": [
              "array([ 7.   ,  8.375,  9.75 , 11.125, 12.5  , 13.875, 15.25 , 16.625,\n",
              "       18.   ])"
            ]
          },
          "execution_count": 38,
          "metadata": {},
          "output_type": "execute_result"
        }
      ],
      "source": [
        "np.linspace(7,18,9)"
      ]
    },
    {
      "cell_type": "code",
      "execution_count": null,
      "id": "76f766c6",
      "metadata": {
        "id": "76f766c6",
        "outputId": "3cdd1f8f-e51b-442f-e4a2-6a2e24301f23"
      },
      "outputs": [
        {
          "data": {
            "text/plain": [
              "array([ 1.        ,  1.90909091,  2.81818182,  3.72727273,  4.63636364,\n",
              "        5.54545455,  6.45454545,  7.36363636,  8.27272727,  9.18181818,\n",
              "       10.09090909, 11.        ])"
            ]
          },
          "execution_count": 39,
          "metadata": {},
          "output_type": "execute_result"
        }
      ],
      "source": [
        "np.linspace(1,11,12)"
      ]
    },
    {
      "cell_type": "code",
      "execution_count": null,
      "id": "a1919031",
      "metadata": {
        "id": "a1919031",
        "outputId": "04318139-11f9-4efb-c993-4f5cd878228e"
      },
      "outputs": [
        {
          "data": {
            "text/plain": [
              "array([[1., 0., 0., 0., 0., 0., 0.],\n",
              "       [0., 1., 0., 0., 0., 0., 0.],\n",
              "       [0., 0., 1., 0., 0., 0., 0.],\n",
              "       [0., 0., 0., 1., 0., 0., 0.],\n",
              "       [0., 0., 0., 0., 1., 0., 0.],\n",
              "       [0., 0., 0., 0., 0., 1., 0.],\n",
              "       [0., 0., 0., 0., 0., 0., 1.]])"
            ]
          },
          "execution_count": 40,
          "metadata": {},
          "output_type": "execute_result"
        }
      ],
      "source": [
        "np.eye(7)"
      ]
    },
    {
      "cell_type": "code",
      "execution_count": null,
      "id": "288252d6",
      "metadata": {
        "id": "288252d6",
        "outputId": "f2f0c615-ecf6-4964-c706-de0b4b28dd29"
      },
      "outputs": [
        {
          "data": {
            "text/plain": [
              "array([0.64033755, 0.00097125, 0.82294403, 0.85765549, 0.93616737,\n",
              "       0.88400586])"
            ]
          },
          "execution_count": 41,
          "metadata": {},
          "output_type": "execute_result"
        }
      ],
      "source": [
        "np.random.rand(6)"
      ]
    },
    {
      "cell_type": "code",
      "execution_count": null,
      "id": "1f4fe042",
      "metadata": {
        "id": "1f4fe042",
        "outputId": "7e492e73-1737-4ea9-c631-b68efdcfc32e"
      },
      "outputs": [
        {
          "data": {
            "text/plain": [
              "array([[0.32942215, 0.582403  , 0.13797912, 0.51922816, 0.53621457,\n",
              "        0.66794909],\n",
              "       [0.97136609, 0.28686853, 0.04576614, 0.39642854, 0.03888202,\n",
              "        0.8922563 ],\n",
              "       [0.34799863, 0.3981054 , 0.39890316, 0.66794039, 0.14566001,\n",
              "        0.23657538],\n",
              "       [0.87807832, 0.72740488, 0.55313391, 0.01086696, 0.62895206,\n",
              "        0.89363965],\n",
              "       [0.66379854, 0.80262025, 0.49418463, 0.04502896, 0.43710589,\n",
              "        0.65029398],\n",
              "       [0.47132376, 0.4642948 , 0.91849043, 0.58980329, 0.34192581,\n",
              "        0.26152087]])"
            ]
          },
          "execution_count": 42,
          "metadata": {},
          "output_type": "execute_result"
        }
      ],
      "source": [
        "np.random.rand(6,6)"
      ]
    },
    {
      "cell_type": "code",
      "execution_count": null,
      "id": "e7fda575",
      "metadata": {
        "id": "e7fda575",
        "outputId": "b6721a51-2477-4b13-e859-bd9bc766b1bd"
      },
      "outputs": [
        {
          "data": {
            "text/plain": [
              "array([[-0.3241387 ,  2.29682658,  0.20026568,  0.72471655,  1.11013345,\n",
              "        -2.23821014,  1.79459388],\n",
              "       [ 0.19624125,  0.71736821,  1.7567098 ,  0.69030743,  0.21941941,\n",
              "         0.12052781,  0.61755178],\n",
              "       [ 0.3624653 , -0.18458584, -0.77695772, -0.30499742, -0.68597661,\n",
              "        -0.59098301, -1.46630582],\n",
              "       [ 1.50808249, -0.67480168,  0.05531001,  0.32159924,  0.21419583,\n",
              "         1.86908727, -0.34817207],\n",
              "       [-0.74790621, -1.00980671, -0.36115352,  1.0247586 , -0.79905735,\n",
              "        -1.0112269 ,  0.19170372],\n",
              "       [ 0.7381096 , -0.1554141 , -2.29402604,  0.83428663, -0.10084607,\n",
              "         0.64161554,  0.87468588]])"
            ]
          },
          "execution_count": 44,
          "metadata": {},
          "output_type": "execute_result"
        }
      ],
      "source": [
        "np.random.randn(6,7)"
      ]
    },
    {
      "cell_type": "code",
      "execution_count": null,
      "id": "cffa74ce",
      "metadata": {
        "id": "cffa74ce",
        "outputId": "cffc0d91-6882-42a0-b769-48751b6d7501"
      },
      "outputs": [
        {
          "data": {
            "text/plain": [
              "44"
            ]
          },
          "execution_count": 45,
          "metadata": {},
          "output_type": "execute_result"
        }
      ],
      "source": [
        "np.random.randint(6,54)"
      ]
    },
    {
      "cell_type": "code",
      "execution_count": null,
      "id": "1399a447",
      "metadata": {
        "id": "1399a447",
        "outputId": "42f02059-db9c-4a9a-d104-389be2ed9ebf"
      },
      "outputs": [
        {
          "data": {
            "text/plain": [
              "array([17, 13, 28,  7, 29, 26, 21, 24])"
            ]
          },
          "execution_count": 51,
          "metadata": {},
          "output_type": "execute_result"
        }
      ],
      "source": [
        "np.random.randint(6,45,8)"
      ]
    },
    {
      "cell_type": "code",
      "execution_count": null,
      "id": "5d4f6c9d",
      "metadata": {
        "id": "5d4f6c9d"
      },
      "outputs": [],
      "source": [
        "arr5=np.random.randint(6,45,8)"
      ]
    },
    {
      "cell_type": "code",
      "execution_count": null,
      "id": "e7af710b",
      "metadata": {
        "id": "e7af710b",
        "outputId": "ca7418da-fecf-408f-e39c-b99011d56793"
      },
      "outputs": [
        {
          "data": {
            "text/plain": [
              "array([35, 16, 21,  6, 39, 12,  9, 16])"
            ]
          },
          "execution_count": 53,
          "metadata": {},
          "output_type": "execute_result"
        }
      ],
      "source": [
        "arr5"
      ]
    },
    {
      "cell_type": "code",
      "execution_count": null,
      "id": "60e1576c",
      "metadata": {
        "id": "60e1576c",
        "outputId": "af2f4cee-f5ab-4c08-de56-c6d125e2a5de"
      },
      "outputs": [
        {
          "data": {
            "text/plain": [
              "39"
            ]
          },
          "execution_count": 54,
          "metadata": {},
          "output_type": "execute_result"
        }
      ],
      "source": [
        "arr5.max()"
      ]
    },
    {
      "cell_type": "code",
      "execution_count": null,
      "id": "89a333e1",
      "metadata": {
        "id": "89a333e1",
        "outputId": "d11ed6ea-02cc-46e1-a8f2-a12d6ff34c8f"
      },
      "outputs": [
        {
          "data": {
            "text/plain": [
              "6"
            ]
          },
          "execution_count": 55,
          "metadata": {},
          "output_type": "execute_result"
        }
      ],
      "source": [
        "arr5.min()"
      ]
    },
    {
      "cell_type": "code",
      "execution_count": null,
      "id": "d79702e9",
      "metadata": {
        "id": "d79702e9",
        "outputId": "2c629fd4-da45-4b2e-c2d2-cf3b7f870884"
      },
      "outputs": [
        {
          "data": {
            "text/plain": [
              "4"
            ]
          },
          "execution_count": 56,
          "metadata": {},
          "output_type": "execute_result"
        }
      ],
      "source": [
        "arr5.argmax()"
      ]
    },
    {
      "cell_type": "code",
      "execution_count": null,
      "id": "851e0031",
      "metadata": {
        "id": "851e0031",
        "outputId": "7f9c1ba4-2db5-4cdd-b714-facf009244fe"
      },
      "outputs": [
        {
          "data": {
            "text/plain": [
              "3"
            ]
          },
          "execution_count": 57,
          "metadata": {},
          "output_type": "execute_result"
        }
      ],
      "source": [
        "arr5.argmin()"
      ]
    },
    {
      "cell_type": "code",
      "execution_count": null,
      "id": "0d658902",
      "metadata": {
        "id": "0d658902",
        "outputId": "daad1309-b14f-4eb7-c0d0-f6895210f0cb"
      },
      "outputs": [
        {
          "data": {
            "text/plain": [
              "6"
            ]
          },
          "execution_count": 59,
          "metadata": {},
          "output_type": "execute_result"
        }
      ],
      "source": [
        "arr5.min()"
      ]
    },
    {
      "cell_type": "code",
      "execution_count": null,
      "id": "32859134",
      "metadata": {
        "id": "32859134"
      },
      "outputs": [],
      "source": [
        ""
      ]
    }
  ],
  "metadata": {
    "kernelspec": {
      "display_name": "Python 3",
      "language": "python",
      "name": "python3"
    },
    "language_info": {
      "codemirror_mode": {
        "name": "ipython",
        "version": 3
      },
      "file_extension": ".py",
      "mimetype": "text/x-python",
      "name": "python",
      "nbconvert_exporter": "python",
      "pygments_lexer": "ipython3",
      "version": "3.8.8"
    },
    "colab": {
      "name": "Pract3.ipynb",
      "provenance": [],
      "collapsed_sections": []
    }
  },
  "nbformat": 4,
  "nbformat_minor": 5
}