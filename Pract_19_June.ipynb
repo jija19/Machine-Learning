{
  "cells": [
    {
      "cell_type": "code",
      "execution_count": null,
      "id": "f4bbe1f5",
      "metadata": {
        "id": "f4bbe1f5"
      },
      "outputs": [],
      "source": [
        "import numpy as np\n",
        "import pandas as pd"
      ]
    },
    {
      "cell_type": "code",
      "execution_count": null,
      "id": "18af4f22",
      "metadata": {
        "id": "18af4f22"
      },
      "outputs": [],
      "source": [
        "df = pd.DataFrame(np.random.randn(5,4),columns=['W', 'X', 'Y', 'Z'])"
      ]
    },
    {
      "cell_type": "code",
      "execution_count": null,
      "id": "aeb81a6b",
      "metadata": {
        "id": "aeb81a6b",
        "outputId": "ff2336d1-aa38-4b18-a351-10f3ba5a072d"
      },
      "outputs": [
        {
          "data": {
            "text/html": [
              "<div>\n",
              "<style scoped>\n",
              "    .dataframe tbody tr th:only-of-type {\n",
              "        vertical-align: middle;\n",
              "    }\n",
              "\n",
              "    .dataframe tbody tr th {\n",
              "        vertical-align: top;\n",
              "    }\n",
              "\n",
              "    .dataframe thead th {\n",
              "        text-align: right;\n",
              "    }\n",
              "</style>\n",
              "<table border=\"1\" class=\"dataframe\">\n",
              "  <thead>\n",
              "    <tr style=\"text-align: right;\">\n",
              "      <th></th>\n",
              "      <th>W</th>\n",
              "      <th>X</th>\n",
              "      <th>Y</th>\n",
              "      <th>Z</th>\n",
              "    </tr>\n",
              "  </thead>\n",
              "  <tbody>\n",
              "    <tr>\n",
              "      <th>0</th>\n",
              "      <td>0.211787</td>\n",
              "      <td>0.342902</td>\n",
              "      <td>-1.747914</td>\n",
              "      <td>1.487625</td>\n",
              "    </tr>\n",
              "    <tr>\n",
              "      <th>1</th>\n",
              "      <td>0.463285</td>\n",
              "      <td>-0.072762</td>\n",
              "      <td>1.009836</td>\n",
              "      <td>-0.200941</td>\n",
              "    </tr>\n",
              "    <tr>\n",
              "      <th>2</th>\n",
              "      <td>0.333399</td>\n",
              "      <td>-0.628554</td>\n",
              "      <td>-0.015660</td>\n",
              "      <td>-0.818696</td>\n",
              "    </tr>\n",
              "    <tr>\n",
              "      <th>3</th>\n",
              "      <td>0.937112</td>\n",
              "      <td>-0.227547</td>\n",
              "      <td>0.319022</td>\n",
              "      <td>-1.207901</td>\n",
              "    </tr>\n",
              "    <tr>\n",
              "      <th>4</th>\n",
              "      <td>1.026363</td>\n",
              "      <td>-2.901594</td>\n",
              "      <td>0.539600</td>\n",
              "      <td>0.826822</td>\n",
              "    </tr>\n",
              "  </tbody>\n",
              "</table>\n",
              "</div>"
            ],
            "text/plain": [
              "          W         X         Y         Z\n",
              "0  0.211787  0.342902 -1.747914  1.487625\n",
              "1  0.463285 -0.072762  1.009836 -0.200941\n",
              "2  0.333399 -0.628554 -0.015660 -0.818696\n",
              "3  0.937112 -0.227547  0.319022 -1.207901\n",
              "4  1.026363 -2.901594  0.539600  0.826822"
            ]
          },
          "execution_count": 3,
          "metadata": {},
          "output_type": "execute_result"
        }
      ],
      "source": [
        "df"
      ]
    },
    {
      "cell_type": "code",
      "execution_count": null,
      "id": "95c864ed",
      "metadata": {
        "id": "95c864ed",
        "outputId": "12c7eec6-9ce0-4166-8377-3a83bcd83c1d"
      },
      "outputs": [
        {
          "data": {
            "text/plain": [
              "0    0.211787\n",
              "1    0.463285\n",
              "2    0.333399\n",
              "3    0.937112\n",
              "4    1.026363\n",
              "Name: W, dtype: float64"
            ]
          },
          "execution_count": 13,
          "metadata": {},
          "output_type": "execute_result"
        }
      ],
      "source": [
        "df['W'] #return in series"
      ]
    },
    {
      "cell_type": "code",
      "execution_count": null,
      "id": "6c56cca9",
      "metadata": {
        "id": "6c56cca9",
        "outputId": "0335e666-00d4-4996-d44f-cfb82e8ef5f5"
      },
      "outputs": [
        {
          "data": {
            "text/plain": [
              "pandas.core.series.Series"
            ]
          },
          "execution_count": 15,
          "metadata": {},
          "output_type": "execute_result"
        }
      ],
      "source": [
        "type (df['W'])"
      ]
    },
    {
      "cell_type": "code",
      "execution_count": null,
      "id": "9d5b645f",
      "metadata": {
        "id": "9d5b645f",
        "outputId": "94320fe7-6dcd-4ed2-972f-e555fa731027"
      },
      "outputs": [
        {
          "data": {
            "text/html": [
              "<div>\n",
              "<style scoped>\n",
              "    .dataframe tbody tr th:only-of-type {\n",
              "        vertical-align: middle;\n",
              "    }\n",
              "\n",
              "    .dataframe tbody tr th {\n",
              "        vertical-align: top;\n",
              "    }\n",
              "\n",
              "    .dataframe thead th {\n",
              "        text-align: right;\n",
              "    }\n",
              "</style>\n",
              "<table border=\"1\" class=\"dataframe\">\n",
              "  <thead>\n",
              "    <tr style=\"text-align: right;\">\n",
              "      <th></th>\n",
              "      <th>X</th>\n",
              "      <th>Z</th>\n",
              "    </tr>\n",
              "  </thead>\n",
              "  <tbody>\n",
              "    <tr>\n",
              "      <th>0</th>\n",
              "      <td>0.342902</td>\n",
              "      <td>1.487625</td>\n",
              "    </tr>\n",
              "    <tr>\n",
              "      <th>1</th>\n",
              "      <td>-0.072762</td>\n",
              "      <td>-0.200941</td>\n",
              "    </tr>\n",
              "    <tr>\n",
              "      <th>2</th>\n",
              "      <td>-0.628554</td>\n",
              "      <td>-0.818696</td>\n",
              "    </tr>\n",
              "    <tr>\n",
              "      <th>3</th>\n",
              "      <td>-0.227547</td>\n",
              "      <td>-1.207901</td>\n",
              "    </tr>\n",
              "    <tr>\n",
              "      <th>4</th>\n",
              "      <td>-2.901594</td>\n",
              "      <td>0.826822</td>\n",
              "    </tr>\n",
              "  </tbody>\n",
              "</table>\n",
              "</div>"
            ],
            "text/plain": [
              "          X         Z\n",
              "0  0.342902  1.487625\n",
              "1 -0.072762 -0.200941\n",
              "2 -0.628554 -0.818696\n",
              "3 -0.227547 -1.207901\n",
              "4 -2.901594  0.826822"
            ]
          },
          "execution_count": 19,
          "metadata": {},
          "output_type": "execute_result"
        }
      ],
      "source": [
        "df [['X','Z']]"
      ]
    },
    {
      "cell_type": "code",
      "execution_count": null,
      "id": "7552dbf3",
      "metadata": {
        "id": "7552dbf3",
        "outputId": "c8c03383-1deb-4200-a5cd-a1cdc08df44f"
      },
      "outputs": [
        {
          "data": {
            "text/plain": [
              "pandas.core.frame.DataFrame"
            ]
          },
          "execution_count": 20,
          "metadata": {},
          "output_type": "execute_result"
        }
      ],
      "source": [
        "type(df [['X','Z']])"
      ]
    },
    {
      "cell_type": "code",
      "execution_count": null,
      "id": "5efdb3c2",
      "metadata": {
        "id": "5efdb3c2",
        "outputId": "240f38ad-8184-4caf-9617-fc9dded9d25c"
      },
      "outputs": [
        {
          "data": {
            "text/plain": [
              "0    0.211787\n",
              "1    0.463285\n",
              "2    0.333399\n",
              "3    0.937112\n",
              "4    1.026363\n",
              "Name: W, dtype: float64"
            ]
          },
          "execution_count": 21,
          "metadata": {},
          "output_type": "execute_result"
        }
      ],
      "source": [
        "df.W"
      ]
    },
    {
      "cell_type": "code",
      "execution_count": null,
      "id": "68b0a7ee",
      "metadata": {
        "id": "68b0a7ee",
        "outputId": "ea702e2f-5cd8-4e99-a97d-f3343001223b"
      },
      "outputs": [
        {
          "data": {
            "text/html": [
              "<div>\n",
              "<style scoped>\n",
              "    .dataframe tbody tr th:only-of-type {\n",
              "        vertical-align: middle;\n",
              "    }\n",
              "\n",
              "    .dataframe tbody tr th {\n",
              "        vertical-align: top;\n",
              "    }\n",
              "\n",
              "    .dataframe thead th {\n",
              "        text-align: right;\n",
              "    }\n",
              "</style>\n",
              "<table border=\"1\" class=\"dataframe\">\n",
              "  <thead>\n",
              "    <tr style=\"text-align: right;\">\n",
              "      <th></th>\n",
              "      <th>W</th>\n",
              "      <th>X</th>\n",
              "      <th>Y</th>\n",
              "      <th>Z</th>\n",
              "    </tr>\n",
              "  </thead>\n",
              "  <tbody>\n",
              "    <tr>\n",
              "      <th>0</th>\n",
              "      <td>0.211787</td>\n",
              "      <td>0.342902</td>\n",
              "      <td>-1.747914</td>\n",
              "      <td>1.487625</td>\n",
              "    </tr>\n",
              "    <tr>\n",
              "      <th>1</th>\n",
              "      <td>0.463285</td>\n",
              "      <td>-0.072762</td>\n",
              "      <td>1.009836</td>\n",
              "      <td>-0.200941</td>\n",
              "    </tr>\n",
              "    <tr>\n",
              "      <th>2</th>\n",
              "      <td>0.333399</td>\n",
              "      <td>-0.628554</td>\n",
              "      <td>-0.015660</td>\n",
              "      <td>-0.818696</td>\n",
              "    </tr>\n",
              "    <tr>\n",
              "      <th>3</th>\n",
              "      <td>0.937112</td>\n",
              "      <td>-0.227547</td>\n",
              "      <td>0.319022</td>\n",
              "      <td>-1.207901</td>\n",
              "    </tr>\n",
              "    <tr>\n",
              "      <th>4</th>\n",
              "      <td>1.026363</td>\n",
              "      <td>-2.901594</td>\n",
              "      <td>0.539600</td>\n",
              "      <td>0.826822</td>\n",
              "    </tr>\n",
              "  </tbody>\n",
              "</table>\n",
              "</div>"
            ],
            "text/plain": [
              "          W         X         Y         Z\n",
              "0  0.211787  0.342902 -1.747914  1.487625\n",
              "1  0.463285 -0.072762  1.009836 -0.200941\n",
              "2  0.333399 -0.628554 -0.015660 -0.818696\n",
              "3  0.937112 -0.227547  0.319022 -1.207901\n",
              "4  1.026363 -2.901594  0.539600  0.826822"
            ]
          },
          "execution_count": 22,
          "metadata": {},
          "output_type": "execute_result"
        }
      ],
      "source": [
        "df"
      ]
    },
    {
      "cell_type": "code",
      "execution_count": null,
      "id": "548ae252",
      "metadata": {
        "id": "548ae252"
      },
      "outputs": [],
      "source": [
        "df['ashish']= df['W'] + df['Z']"
      ]
    },
    {
      "cell_type": "code",
      "execution_count": null,
      "id": "3f26c068",
      "metadata": {
        "id": "3f26c068",
        "outputId": "945beb4f-79c7-419a-a0db-8241045d43a5"
      },
      "outputs": [
        {
          "data": {
            "text/html": [
              "<div>\n",
              "<style scoped>\n",
              "    .dataframe tbody tr th:only-of-type {\n",
              "        vertical-align: middle;\n",
              "    }\n",
              "\n",
              "    .dataframe tbody tr th {\n",
              "        vertical-align: top;\n",
              "    }\n",
              "\n",
              "    .dataframe thead th {\n",
              "        text-align: right;\n",
              "    }\n",
              "</style>\n",
              "<table border=\"1\" class=\"dataframe\">\n",
              "  <thead>\n",
              "    <tr style=\"text-align: right;\">\n",
              "      <th></th>\n",
              "      <th>W</th>\n",
              "      <th>X</th>\n",
              "      <th>Y</th>\n",
              "      <th>Z</th>\n",
              "      <th>ashish</th>\n",
              "    </tr>\n",
              "  </thead>\n",
              "  <tbody>\n",
              "    <tr>\n",
              "      <th>0</th>\n",
              "      <td>0.211787</td>\n",
              "      <td>0.342902</td>\n",
              "      <td>-1.747914</td>\n",
              "      <td>1.487625</td>\n",
              "      <td>1.699413</td>\n",
              "    </tr>\n",
              "    <tr>\n",
              "      <th>1</th>\n",
              "      <td>0.463285</td>\n",
              "      <td>-0.072762</td>\n",
              "      <td>1.009836</td>\n",
              "      <td>-0.200941</td>\n",
              "      <td>0.262343</td>\n",
              "    </tr>\n",
              "    <tr>\n",
              "      <th>2</th>\n",
              "      <td>0.333399</td>\n",
              "      <td>-0.628554</td>\n",
              "      <td>-0.015660</td>\n",
              "      <td>-0.818696</td>\n",
              "      <td>-0.485297</td>\n",
              "    </tr>\n",
              "    <tr>\n",
              "      <th>3</th>\n",
              "      <td>0.937112</td>\n",
              "      <td>-0.227547</td>\n",
              "      <td>0.319022</td>\n",
              "      <td>-1.207901</td>\n",
              "      <td>-0.270789</td>\n",
              "    </tr>\n",
              "    <tr>\n",
              "      <th>4</th>\n",
              "      <td>1.026363</td>\n",
              "      <td>-2.901594</td>\n",
              "      <td>0.539600</td>\n",
              "      <td>0.826822</td>\n",
              "      <td>1.853186</td>\n",
              "    </tr>\n",
              "  </tbody>\n",
              "</table>\n",
              "</div>"
            ],
            "text/plain": [
              "          W         X         Y         Z    ashish\n",
              "0  0.211787  0.342902 -1.747914  1.487625  1.699413\n",
              "1  0.463285 -0.072762  1.009836 -0.200941  0.262343\n",
              "2  0.333399 -0.628554 -0.015660 -0.818696 -0.485297\n",
              "3  0.937112 -0.227547  0.319022 -1.207901 -0.270789\n",
              "4  1.026363 -2.901594  0.539600  0.826822  1.853186"
            ]
          },
          "execution_count": 24,
          "metadata": {},
          "output_type": "execute_result"
        }
      ],
      "source": [
        "df"
      ]
    },
    {
      "cell_type": "code",
      "execution_count": null,
      "id": "e9beafda",
      "metadata": {
        "id": "e9beafda"
      },
      "outputs": [],
      "source": [
        "df['new'] = [1,2,3,4,5]"
      ]
    },
    {
      "cell_type": "code",
      "execution_count": null,
      "id": "70e8f4b6",
      "metadata": {
        "id": "70e8f4b6",
        "outputId": "eecb6afd-d7d4-4032-d897-e5be4100db2a"
      },
      "outputs": [
        {
          "data": {
            "text/html": [
              "<div>\n",
              "<style scoped>\n",
              "    .dataframe tbody tr th:only-of-type {\n",
              "        vertical-align: middle;\n",
              "    }\n",
              "\n",
              "    .dataframe tbody tr th {\n",
              "        vertical-align: top;\n",
              "    }\n",
              "\n",
              "    .dataframe thead th {\n",
              "        text-align: right;\n",
              "    }\n",
              "</style>\n",
              "<table border=\"1\" class=\"dataframe\">\n",
              "  <thead>\n",
              "    <tr style=\"text-align: right;\">\n",
              "      <th></th>\n",
              "      <th>W</th>\n",
              "      <th>X</th>\n",
              "      <th>Y</th>\n",
              "      <th>Z</th>\n",
              "      <th>ashish</th>\n",
              "      <th>new</th>\n",
              "    </tr>\n",
              "  </thead>\n",
              "  <tbody>\n",
              "    <tr>\n",
              "      <th>0</th>\n",
              "      <td>0.211787</td>\n",
              "      <td>0.342902</td>\n",
              "      <td>-1.747914</td>\n",
              "      <td>1.487625</td>\n",
              "      <td>1.699413</td>\n",
              "      <td>1</td>\n",
              "    </tr>\n",
              "    <tr>\n",
              "      <th>1</th>\n",
              "      <td>0.463285</td>\n",
              "      <td>-0.072762</td>\n",
              "      <td>1.009836</td>\n",
              "      <td>-0.200941</td>\n",
              "      <td>0.262343</td>\n",
              "      <td>2</td>\n",
              "    </tr>\n",
              "    <tr>\n",
              "      <th>2</th>\n",
              "      <td>0.333399</td>\n",
              "      <td>-0.628554</td>\n",
              "      <td>-0.015660</td>\n",
              "      <td>-0.818696</td>\n",
              "      <td>-0.485297</td>\n",
              "      <td>3</td>\n",
              "    </tr>\n",
              "    <tr>\n",
              "      <th>3</th>\n",
              "      <td>0.937112</td>\n",
              "      <td>-0.227547</td>\n",
              "      <td>0.319022</td>\n",
              "      <td>-1.207901</td>\n",
              "      <td>-0.270789</td>\n",
              "      <td>4</td>\n",
              "    </tr>\n",
              "    <tr>\n",
              "      <th>4</th>\n",
              "      <td>1.026363</td>\n",
              "      <td>-2.901594</td>\n",
              "      <td>0.539600</td>\n",
              "      <td>0.826822</td>\n",
              "      <td>1.853186</td>\n",
              "      <td>5</td>\n",
              "    </tr>\n",
              "  </tbody>\n",
              "</table>\n",
              "</div>"
            ],
            "text/plain": [
              "          W         X         Y         Z    ashish  new\n",
              "0  0.211787  0.342902 -1.747914  1.487625  1.699413    1\n",
              "1  0.463285 -0.072762  1.009836 -0.200941  0.262343    2\n",
              "2  0.333399 -0.628554 -0.015660 -0.818696 -0.485297    3\n",
              "3  0.937112 -0.227547  0.319022 -1.207901 -0.270789    4\n",
              "4  1.026363 -2.901594  0.539600  0.826822  1.853186    5"
            ]
          },
          "execution_count": 30,
          "metadata": {},
          "output_type": "execute_result"
        }
      ],
      "source": [
        "df"
      ]
    },
    {
      "cell_type": "code",
      "execution_count": null,
      "id": "78232870",
      "metadata": {
        "id": "78232870",
        "outputId": "34962179-b500-4814-82d4-a9f9fbc356e5"
      },
      "outputs": [
        {
          "data": {
            "text/html": [
              "<div>\n",
              "<style scoped>\n",
              "    .dataframe tbody tr th:only-of-type {\n",
              "        vertical-align: middle;\n",
              "    }\n",
              "\n",
              "    .dataframe tbody tr th {\n",
              "        vertical-align: top;\n",
              "    }\n",
              "\n",
              "    .dataframe thead th {\n",
              "        text-align: right;\n",
              "    }\n",
              "</style>\n",
              "<table border=\"1\" class=\"dataframe\">\n",
              "  <thead>\n",
              "    <tr style=\"text-align: right;\">\n",
              "      <th></th>\n",
              "      <th>W</th>\n",
              "      <th>X</th>\n",
              "      <th>Y</th>\n",
              "      <th>Z</th>\n",
              "      <th>ashish</th>\n",
              "    </tr>\n",
              "  </thead>\n",
              "  <tbody>\n",
              "    <tr>\n",
              "      <th>0</th>\n",
              "      <td>0.211787</td>\n",
              "      <td>0.342902</td>\n",
              "      <td>-1.747914</td>\n",
              "      <td>1.487625</td>\n",
              "      <td>1.699413</td>\n",
              "    </tr>\n",
              "    <tr>\n",
              "      <th>1</th>\n",
              "      <td>0.463285</td>\n",
              "      <td>-0.072762</td>\n",
              "      <td>1.009836</td>\n",
              "      <td>-0.200941</td>\n",
              "      <td>0.262343</td>\n",
              "    </tr>\n",
              "    <tr>\n",
              "      <th>2</th>\n",
              "      <td>0.333399</td>\n",
              "      <td>-0.628554</td>\n",
              "      <td>-0.015660</td>\n",
              "      <td>-0.818696</td>\n",
              "      <td>-0.485297</td>\n",
              "    </tr>\n",
              "    <tr>\n",
              "      <th>3</th>\n",
              "      <td>0.937112</td>\n",
              "      <td>-0.227547</td>\n",
              "      <td>0.319022</td>\n",
              "      <td>-1.207901</td>\n",
              "      <td>-0.270789</td>\n",
              "    </tr>\n",
              "    <tr>\n",
              "      <th>4</th>\n",
              "      <td>1.026363</td>\n",
              "      <td>-2.901594</td>\n",
              "      <td>0.539600</td>\n",
              "      <td>0.826822</td>\n",
              "      <td>1.853186</td>\n",
              "    </tr>\n",
              "  </tbody>\n",
              "</table>\n",
              "</div>"
            ],
            "text/plain": [
              "          W         X         Y         Z    ashish\n",
              "0  0.211787  0.342902 -1.747914  1.487625  1.699413\n",
              "1  0.463285 -0.072762  1.009836 -0.200941  0.262343\n",
              "2  0.333399 -0.628554 -0.015660 -0.818696 -0.485297\n",
              "3  0.937112 -0.227547  0.319022 -1.207901 -0.270789\n",
              "4  1.026363 -2.901594  0.539600  0.826822  1.853186"
            ]
          },
          "execution_count": 31,
          "metadata": {},
          "output_type": "execute_result"
        }
      ],
      "source": [
        "df.drop('new',axis=1) #axis = 0(row) , axis = 1(col)"
      ]
    },
    {
      "cell_type": "code",
      "execution_count": null,
      "id": "5d4801a4",
      "metadata": {
        "id": "5d4801a4",
        "outputId": "bdcc0b71-f5c6-402a-d3b9-98a0f3958a55"
      },
      "outputs": [
        {
          "data": {
            "text/html": [
              "<div>\n",
              "<style scoped>\n",
              "    .dataframe tbody tr th:only-of-type {\n",
              "        vertical-align: middle;\n",
              "    }\n",
              "\n",
              "    .dataframe tbody tr th {\n",
              "        vertical-align: top;\n",
              "    }\n",
              "\n",
              "    .dataframe thead th {\n",
              "        text-align: right;\n",
              "    }\n",
              "</style>\n",
              "<table border=\"1\" class=\"dataframe\">\n",
              "  <thead>\n",
              "    <tr style=\"text-align: right;\">\n",
              "      <th></th>\n",
              "      <th>W</th>\n",
              "      <th>X</th>\n",
              "      <th>Y</th>\n",
              "      <th>Z</th>\n",
              "      <th>ashish</th>\n",
              "      <th>new</th>\n",
              "    </tr>\n",
              "  </thead>\n",
              "  <tbody>\n",
              "    <tr>\n",
              "      <th>0</th>\n",
              "      <td>0.211787</td>\n",
              "      <td>0.342902</td>\n",
              "      <td>-1.747914</td>\n",
              "      <td>1.487625</td>\n",
              "      <td>1.699413</td>\n",
              "      <td>1</td>\n",
              "    </tr>\n",
              "    <tr>\n",
              "      <th>1</th>\n",
              "      <td>0.463285</td>\n",
              "      <td>-0.072762</td>\n",
              "      <td>1.009836</td>\n",
              "      <td>-0.200941</td>\n",
              "      <td>0.262343</td>\n",
              "      <td>2</td>\n",
              "    </tr>\n",
              "    <tr>\n",
              "      <th>2</th>\n",
              "      <td>0.333399</td>\n",
              "      <td>-0.628554</td>\n",
              "      <td>-0.015660</td>\n",
              "      <td>-0.818696</td>\n",
              "      <td>-0.485297</td>\n",
              "      <td>3</td>\n",
              "    </tr>\n",
              "    <tr>\n",
              "      <th>3</th>\n",
              "      <td>0.937112</td>\n",
              "      <td>-0.227547</td>\n",
              "      <td>0.319022</td>\n",
              "      <td>-1.207901</td>\n",
              "      <td>-0.270789</td>\n",
              "      <td>4</td>\n",
              "    </tr>\n",
              "    <tr>\n",
              "      <th>4</th>\n",
              "      <td>1.026363</td>\n",
              "      <td>-2.901594</td>\n",
              "      <td>0.539600</td>\n",
              "      <td>0.826822</td>\n",
              "      <td>1.853186</td>\n",
              "      <td>5</td>\n",
              "    </tr>\n",
              "  </tbody>\n",
              "</table>\n",
              "</div>"
            ],
            "text/plain": [
              "          W         X         Y         Z    ashish  new\n",
              "0  0.211787  0.342902 -1.747914  1.487625  1.699413    1\n",
              "1  0.463285 -0.072762  1.009836 -0.200941  0.262343    2\n",
              "2  0.333399 -0.628554 -0.015660 -0.818696 -0.485297    3\n",
              "3  0.937112 -0.227547  0.319022 -1.207901 -0.270789    4\n",
              "4  1.026363 -2.901594  0.539600  0.826822  1.853186    5"
            ]
          },
          "execution_count": 32,
          "metadata": {},
          "output_type": "execute_result"
        }
      ],
      "source": [
        "df"
      ]
    },
    {
      "cell_type": "code",
      "execution_count": null,
      "id": "29c5c3b3",
      "metadata": {
        "id": "29c5c3b3"
      },
      "outputs": [],
      "source": [
        "df.drop('ashish',axis=1,inplace=True)"
      ]
    },
    {
      "cell_type": "code",
      "execution_count": null,
      "id": "23fc4e50",
      "metadata": {
        "id": "23fc4e50",
        "outputId": "e602e824-45a7-4853-bfa8-3ce1bc046437"
      },
      "outputs": [
        {
          "data": {
            "text/html": [
              "<div>\n",
              "<style scoped>\n",
              "    .dataframe tbody tr th:only-of-type {\n",
              "        vertical-align: middle;\n",
              "    }\n",
              "\n",
              "    .dataframe tbody tr th {\n",
              "        vertical-align: top;\n",
              "    }\n",
              "\n",
              "    .dataframe thead th {\n",
              "        text-align: right;\n",
              "    }\n",
              "</style>\n",
              "<table border=\"1\" class=\"dataframe\">\n",
              "  <thead>\n",
              "    <tr style=\"text-align: right;\">\n",
              "      <th></th>\n",
              "      <th>W</th>\n",
              "      <th>X</th>\n",
              "      <th>Y</th>\n",
              "      <th>Z</th>\n",
              "      <th>new</th>\n",
              "    </tr>\n",
              "  </thead>\n",
              "  <tbody>\n",
              "    <tr>\n",
              "      <th>0</th>\n",
              "      <td>0.211787</td>\n",
              "      <td>0.342902</td>\n",
              "      <td>-1.747914</td>\n",
              "      <td>1.487625</td>\n",
              "      <td>1</td>\n",
              "    </tr>\n",
              "    <tr>\n",
              "      <th>1</th>\n",
              "      <td>0.463285</td>\n",
              "      <td>-0.072762</td>\n",
              "      <td>1.009836</td>\n",
              "      <td>-0.200941</td>\n",
              "      <td>2</td>\n",
              "    </tr>\n",
              "    <tr>\n",
              "      <th>2</th>\n",
              "      <td>0.333399</td>\n",
              "      <td>-0.628554</td>\n",
              "      <td>-0.015660</td>\n",
              "      <td>-0.818696</td>\n",
              "      <td>3</td>\n",
              "    </tr>\n",
              "    <tr>\n",
              "      <th>3</th>\n",
              "      <td>0.937112</td>\n",
              "      <td>-0.227547</td>\n",
              "      <td>0.319022</td>\n",
              "      <td>-1.207901</td>\n",
              "      <td>4</td>\n",
              "    </tr>\n",
              "    <tr>\n",
              "      <th>4</th>\n",
              "      <td>1.026363</td>\n",
              "      <td>-2.901594</td>\n",
              "      <td>0.539600</td>\n",
              "      <td>0.826822</td>\n",
              "      <td>5</td>\n",
              "    </tr>\n",
              "  </tbody>\n",
              "</table>\n",
              "</div>"
            ],
            "text/plain": [
              "          W         X         Y         Z  new\n",
              "0  0.211787  0.342902 -1.747914  1.487625    1\n",
              "1  0.463285 -0.072762  1.009836 -0.200941    2\n",
              "2  0.333399 -0.628554 -0.015660 -0.818696    3\n",
              "3  0.937112 -0.227547  0.319022 -1.207901    4\n",
              "4  1.026363 -2.901594  0.539600  0.826822    5"
            ]
          },
          "execution_count": 34,
          "metadata": {},
          "output_type": "execute_result"
        }
      ],
      "source": [
        "df"
      ]
    },
    {
      "cell_type": "code",
      "execution_count": null,
      "id": "28462b51",
      "metadata": {
        "id": "28462b51"
      },
      "outputs": [],
      "source": [
        "df.drop('new',axis=1,inplace=True)"
      ]
    },
    {
      "cell_type": "code",
      "execution_count": null,
      "id": "b7bd1c37",
      "metadata": {
        "id": "b7bd1c37",
        "outputId": "db99074a-8b2f-4e07-b3a5-0e07da552673"
      },
      "outputs": [
        {
          "data": {
            "text/html": [
              "<div>\n",
              "<style scoped>\n",
              "    .dataframe tbody tr th:only-of-type {\n",
              "        vertical-align: middle;\n",
              "    }\n",
              "\n",
              "    .dataframe tbody tr th {\n",
              "        vertical-align: top;\n",
              "    }\n",
              "\n",
              "    .dataframe thead th {\n",
              "        text-align: right;\n",
              "    }\n",
              "</style>\n",
              "<table border=\"1\" class=\"dataframe\">\n",
              "  <thead>\n",
              "    <tr style=\"text-align: right;\">\n",
              "      <th></th>\n",
              "      <th>W</th>\n",
              "      <th>X</th>\n",
              "      <th>Y</th>\n",
              "      <th>Z</th>\n",
              "    </tr>\n",
              "  </thead>\n",
              "  <tbody>\n",
              "    <tr>\n",
              "      <th>0</th>\n",
              "      <td>0.211787</td>\n",
              "      <td>0.342902</td>\n",
              "      <td>-1.747914</td>\n",
              "      <td>1.487625</td>\n",
              "    </tr>\n",
              "    <tr>\n",
              "      <th>1</th>\n",
              "      <td>0.463285</td>\n",
              "      <td>-0.072762</td>\n",
              "      <td>1.009836</td>\n",
              "      <td>-0.200941</td>\n",
              "    </tr>\n",
              "    <tr>\n",
              "      <th>2</th>\n",
              "      <td>0.333399</td>\n",
              "      <td>-0.628554</td>\n",
              "      <td>-0.015660</td>\n",
              "      <td>-0.818696</td>\n",
              "    </tr>\n",
              "    <tr>\n",
              "      <th>3</th>\n",
              "      <td>0.937112</td>\n",
              "      <td>-0.227547</td>\n",
              "      <td>0.319022</td>\n",
              "      <td>-1.207901</td>\n",
              "    </tr>\n",
              "    <tr>\n",
              "      <th>4</th>\n",
              "      <td>1.026363</td>\n",
              "      <td>-2.901594</td>\n",
              "      <td>0.539600</td>\n",
              "      <td>0.826822</td>\n",
              "    </tr>\n",
              "  </tbody>\n",
              "</table>\n",
              "</div>"
            ],
            "text/plain": [
              "          W         X         Y         Z\n",
              "0  0.211787  0.342902 -1.747914  1.487625\n",
              "1  0.463285 -0.072762  1.009836 -0.200941\n",
              "2  0.333399 -0.628554 -0.015660 -0.818696\n",
              "3  0.937112 -0.227547  0.319022 -1.207901\n",
              "4  1.026363 -2.901594  0.539600  0.826822"
            ]
          },
          "execution_count": 36,
          "metadata": {},
          "output_type": "execute_result"
        }
      ],
      "source": [
        "df"
      ]
    },
    {
      "cell_type": "code",
      "execution_count": null,
      "id": "14dcd34e",
      "metadata": {
        "id": "14dcd34e",
        "outputId": "0116f316-0c89-441f-cadc-2524155c3a3a"
      },
      "outputs": [
        {
          "data": {
            "text/html": [
              "<div>\n",
              "<style scoped>\n",
              "    .dataframe tbody tr th:only-of-type {\n",
              "        vertical-align: middle;\n",
              "    }\n",
              "\n",
              "    .dataframe tbody tr th {\n",
              "        vertical-align: top;\n",
              "    }\n",
              "\n",
              "    .dataframe thead th {\n",
              "        text-align: right;\n",
              "    }\n",
              "</style>\n",
              "<table border=\"1\" class=\"dataframe\">\n",
              "  <thead>\n",
              "    <tr style=\"text-align: right;\">\n",
              "      <th></th>\n",
              "      <th>W</th>\n",
              "      <th>X</th>\n",
              "      <th>Y</th>\n",
              "      <th>Z</th>\n",
              "    </tr>\n",
              "  </thead>\n",
              "  <tbody>\n",
              "    <tr>\n",
              "      <th>0</th>\n",
              "      <td>0.211787</td>\n",
              "      <td>0.342902</td>\n",
              "      <td>-1.747914</td>\n",
              "      <td>1.487625</td>\n",
              "    </tr>\n",
              "    <tr>\n",
              "      <th>1</th>\n",
              "      <td>0.463285</td>\n",
              "      <td>-0.072762</td>\n",
              "      <td>1.009836</td>\n",
              "      <td>-0.200941</td>\n",
              "    </tr>\n",
              "    <tr>\n",
              "      <th>2</th>\n",
              "      <td>0.333399</td>\n",
              "      <td>-0.628554</td>\n",
              "      <td>-0.015660</td>\n",
              "      <td>-0.818696</td>\n",
              "    </tr>\n",
              "    <tr>\n",
              "      <th>4</th>\n",
              "      <td>1.026363</td>\n",
              "      <td>-2.901594</td>\n",
              "      <td>0.539600</td>\n",
              "      <td>0.826822</td>\n",
              "    </tr>\n",
              "  </tbody>\n",
              "</table>\n",
              "</div>"
            ],
            "text/plain": [
              "          W         X         Y         Z\n",
              "0  0.211787  0.342902 -1.747914  1.487625\n",
              "1  0.463285 -0.072762  1.009836 -0.200941\n",
              "2  0.333399 -0.628554 -0.015660 -0.818696\n",
              "4  1.026363 -2.901594  0.539600  0.826822"
            ]
          },
          "execution_count": 37,
          "metadata": {},
          "output_type": "execute_result"
        }
      ],
      "source": [
        "df.drop(3,axis=0)"
      ]
    },
    {
      "cell_type": "code",
      "execution_count": null,
      "id": "966ba05e",
      "metadata": {
        "id": "966ba05e",
        "outputId": "8b8ca1d1-e7b5-406a-a7d8-9e6ab30cec1d"
      },
      "outputs": [
        {
          "data": {
            "text/html": [
              "<div>\n",
              "<style scoped>\n",
              "    .dataframe tbody tr th:only-of-type {\n",
              "        vertical-align: middle;\n",
              "    }\n",
              "\n",
              "    .dataframe tbody tr th {\n",
              "        vertical-align: top;\n",
              "    }\n",
              "\n",
              "    .dataframe thead th {\n",
              "        text-align: right;\n",
              "    }\n",
              "</style>\n",
              "<table border=\"1\" class=\"dataframe\">\n",
              "  <thead>\n",
              "    <tr style=\"text-align: right;\">\n",
              "      <th></th>\n",
              "      <th>W</th>\n",
              "      <th>X</th>\n",
              "      <th>Y</th>\n",
              "      <th>Z</th>\n",
              "    </tr>\n",
              "  </thead>\n",
              "  <tbody>\n",
              "    <tr>\n",
              "      <th>0</th>\n",
              "      <td>0.211787</td>\n",
              "      <td>0.342902</td>\n",
              "      <td>-1.747914</td>\n",
              "      <td>1.487625</td>\n",
              "    </tr>\n",
              "    <tr>\n",
              "      <th>1</th>\n",
              "      <td>0.463285</td>\n",
              "      <td>-0.072762</td>\n",
              "      <td>1.009836</td>\n",
              "      <td>-0.200941</td>\n",
              "    </tr>\n",
              "    <tr>\n",
              "      <th>2</th>\n",
              "      <td>0.333399</td>\n",
              "      <td>-0.628554</td>\n",
              "      <td>-0.015660</td>\n",
              "      <td>-0.818696</td>\n",
              "    </tr>\n",
              "    <tr>\n",
              "      <th>3</th>\n",
              "      <td>0.937112</td>\n",
              "      <td>-0.227547</td>\n",
              "      <td>0.319022</td>\n",
              "      <td>-1.207901</td>\n",
              "    </tr>\n",
              "    <tr>\n",
              "      <th>4</th>\n",
              "      <td>1.026363</td>\n",
              "      <td>-2.901594</td>\n",
              "      <td>0.539600</td>\n",
              "      <td>0.826822</td>\n",
              "    </tr>\n",
              "  </tbody>\n",
              "</table>\n",
              "</div>"
            ],
            "text/plain": [
              "          W         X         Y         Z\n",
              "0  0.211787  0.342902 -1.747914  1.487625\n",
              "1  0.463285 -0.072762  1.009836 -0.200941\n",
              "2  0.333399 -0.628554 -0.015660 -0.818696\n",
              "3  0.937112 -0.227547  0.319022 -1.207901\n",
              "4  1.026363 -2.901594  0.539600  0.826822"
            ]
          },
          "execution_count": 38,
          "metadata": {},
          "output_type": "execute_result"
        }
      ],
      "source": [
        "df"
      ]
    },
    {
      "cell_type": "code",
      "execution_count": null,
      "id": "e065432f",
      "metadata": {
        "id": "e065432f",
        "outputId": "b081ab8a-2a63-45a4-8712-7da3038c939d"
      },
      "outputs": [
        {
          "ename": "KeyError",
          "evalue": "'[3] not found in axis'",
          "output_type": "error",
          "traceback": [
            "\u001b[1;31m---------------------------------------------------------------------------\u001b[0m",
            "\u001b[1;31mKeyError\u001b[0m                                  Traceback (most recent call last)",
            "\u001b[1;32m<ipython-input-48-186389a3437a>\u001b[0m in \u001b[0;36m<module>\u001b[1;34m\u001b[0m\n\u001b[1;32m----> 1\u001b[1;33m \u001b[0mdf\u001b[0m\u001b[1;33m.\u001b[0m\u001b[0mdrop\u001b[0m\u001b[1;33m(\u001b[0m\u001b[1;36m3\u001b[0m\u001b[1;33m,\u001b[0m\u001b[0maxis\u001b[0m\u001b[1;33m=\u001b[0m\u001b[1;36m0\u001b[0m\u001b[1;33m,\u001b[0m\u001b[0minplace\u001b[0m\u001b[1;33m=\u001b[0m\u001b[1;32mTrue\u001b[0m\u001b[1;33m)\u001b[0m\u001b[1;33m\u001b[0m\u001b[1;33m\u001b[0m\u001b[0m\n\u001b[0m",
            "\u001b[1;32mC:\\Anaconda\\lib\\site-packages\\pandas\\core\\frame.py\u001b[0m in \u001b[0;36mdrop\u001b[1;34m(self, labels, axis, index, columns, level, inplace, errors)\u001b[0m\n\u001b[0;32m   4306\u001b[0m                 \u001b[0mweight\u001b[0m  \u001b[1;36m1.0\u001b[0m     \u001b[1;36m0.8\u001b[0m\u001b[1;33m\u001b[0m\u001b[1;33m\u001b[0m\u001b[0m\n\u001b[0;32m   4307\u001b[0m         \"\"\"\n\u001b[1;32m-> 4308\u001b[1;33m         return super().drop(\n\u001b[0m\u001b[0;32m   4309\u001b[0m             \u001b[0mlabels\u001b[0m\u001b[1;33m=\u001b[0m\u001b[0mlabels\u001b[0m\u001b[1;33m,\u001b[0m\u001b[1;33m\u001b[0m\u001b[1;33m\u001b[0m\u001b[0m\n\u001b[0;32m   4310\u001b[0m             \u001b[0maxis\u001b[0m\u001b[1;33m=\u001b[0m\u001b[0maxis\u001b[0m\u001b[1;33m,\u001b[0m\u001b[1;33m\u001b[0m\u001b[1;33m\u001b[0m\u001b[0m\n",
            "\u001b[1;32mC:\\Anaconda\\lib\\site-packages\\pandas\\core\\generic.py\u001b[0m in \u001b[0;36mdrop\u001b[1;34m(self, labels, axis, index, columns, level, inplace, errors)\u001b[0m\n\u001b[0;32m   4151\u001b[0m         \u001b[1;32mfor\u001b[0m \u001b[0maxis\u001b[0m\u001b[1;33m,\u001b[0m \u001b[0mlabels\u001b[0m \u001b[1;32min\u001b[0m \u001b[0maxes\u001b[0m\u001b[1;33m.\u001b[0m\u001b[0mitems\u001b[0m\u001b[1;33m(\u001b[0m\u001b[1;33m)\u001b[0m\u001b[1;33m:\u001b[0m\u001b[1;33m\u001b[0m\u001b[1;33m\u001b[0m\u001b[0m\n\u001b[0;32m   4152\u001b[0m             \u001b[1;32mif\u001b[0m \u001b[0mlabels\u001b[0m \u001b[1;32mis\u001b[0m \u001b[1;32mnot\u001b[0m \u001b[1;32mNone\u001b[0m\u001b[1;33m:\u001b[0m\u001b[1;33m\u001b[0m\u001b[1;33m\u001b[0m\u001b[0m\n\u001b[1;32m-> 4153\u001b[1;33m                 \u001b[0mobj\u001b[0m \u001b[1;33m=\u001b[0m \u001b[0mobj\u001b[0m\u001b[1;33m.\u001b[0m\u001b[0m_drop_axis\u001b[0m\u001b[1;33m(\u001b[0m\u001b[0mlabels\u001b[0m\u001b[1;33m,\u001b[0m \u001b[0maxis\u001b[0m\u001b[1;33m,\u001b[0m \u001b[0mlevel\u001b[0m\u001b[1;33m=\u001b[0m\u001b[0mlevel\u001b[0m\u001b[1;33m,\u001b[0m \u001b[0merrors\u001b[0m\u001b[1;33m=\u001b[0m\u001b[0merrors\u001b[0m\u001b[1;33m)\u001b[0m\u001b[1;33m\u001b[0m\u001b[1;33m\u001b[0m\u001b[0m\n\u001b[0m\u001b[0;32m   4154\u001b[0m \u001b[1;33m\u001b[0m\u001b[0m\n\u001b[0;32m   4155\u001b[0m         \u001b[1;32mif\u001b[0m \u001b[0minplace\u001b[0m\u001b[1;33m:\u001b[0m\u001b[1;33m\u001b[0m\u001b[1;33m\u001b[0m\u001b[0m\n",
            "\u001b[1;32mC:\\Anaconda\\lib\\site-packages\\pandas\\core\\generic.py\u001b[0m in \u001b[0;36m_drop_axis\u001b[1;34m(self, labels, axis, level, errors)\u001b[0m\n\u001b[0;32m   4186\u001b[0m                 \u001b[0mnew_axis\u001b[0m \u001b[1;33m=\u001b[0m \u001b[0maxis\u001b[0m\u001b[1;33m.\u001b[0m\u001b[0mdrop\u001b[0m\u001b[1;33m(\u001b[0m\u001b[0mlabels\u001b[0m\u001b[1;33m,\u001b[0m \u001b[0mlevel\u001b[0m\u001b[1;33m=\u001b[0m\u001b[0mlevel\u001b[0m\u001b[1;33m,\u001b[0m \u001b[0merrors\u001b[0m\u001b[1;33m=\u001b[0m\u001b[0merrors\u001b[0m\u001b[1;33m)\u001b[0m\u001b[1;33m\u001b[0m\u001b[1;33m\u001b[0m\u001b[0m\n\u001b[0;32m   4187\u001b[0m             \u001b[1;32melse\u001b[0m\u001b[1;33m:\u001b[0m\u001b[1;33m\u001b[0m\u001b[1;33m\u001b[0m\u001b[0m\n\u001b[1;32m-> 4188\u001b[1;33m                 \u001b[0mnew_axis\u001b[0m \u001b[1;33m=\u001b[0m \u001b[0maxis\u001b[0m\u001b[1;33m.\u001b[0m\u001b[0mdrop\u001b[0m\u001b[1;33m(\u001b[0m\u001b[0mlabels\u001b[0m\u001b[1;33m,\u001b[0m \u001b[0merrors\u001b[0m\u001b[1;33m=\u001b[0m\u001b[0merrors\u001b[0m\u001b[1;33m)\u001b[0m\u001b[1;33m\u001b[0m\u001b[1;33m\u001b[0m\u001b[0m\n\u001b[0m\u001b[0;32m   4189\u001b[0m             \u001b[0mresult\u001b[0m \u001b[1;33m=\u001b[0m \u001b[0mself\u001b[0m\u001b[1;33m.\u001b[0m\u001b[0mreindex\u001b[0m\u001b[1;33m(\u001b[0m\u001b[1;33m**\u001b[0m\u001b[1;33m{\u001b[0m\u001b[0maxis_name\u001b[0m\u001b[1;33m:\u001b[0m \u001b[0mnew_axis\u001b[0m\u001b[1;33m}\u001b[0m\u001b[1;33m)\u001b[0m\u001b[1;33m\u001b[0m\u001b[1;33m\u001b[0m\u001b[0m\n\u001b[0;32m   4190\u001b[0m \u001b[1;33m\u001b[0m\u001b[0m\n",
            "\u001b[1;32mC:\\Anaconda\\lib\\site-packages\\pandas\\core\\indexes\\base.py\u001b[0m in \u001b[0;36mdrop\u001b[1;34m(self, labels, errors)\u001b[0m\n\u001b[0;32m   5589\u001b[0m         \u001b[1;32mif\u001b[0m \u001b[0mmask\u001b[0m\u001b[1;33m.\u001b[0m\u001b[0many\u001b[0m\u001b[1;33m(\u001b[0m\u001b[1;33m)\u001b[0m\u001b[1;33m:\u001b[0m\u001b[1;33m\u001b[0m\u001b[1;33m\u001b[0m\u001b[0m\n\u001b[0;32m   5590\u001b[0m             \u001b[1;32mif\u001b[0m \u001b[0merrors\u001b[0m \u001b[1;33m!=\u001b[0m \u001b[1;34m\"ignore\"\u001b[0m\u001b[1;33m:\u001b[0m\u001b[1;33m\u001b[0m\u001b[1;33m\u001b[0m\u001b[0m\n\u001b[1;32m-> 5591\u001b[1;33m                 \u001b[1;32mraise\u001b[0m \u001b[0mKeyError\u001b[0m\u001b[1;33m(\u001b[0m\u001b[1;34mf\"{labels[mask]} not found in axis\"\u001b[0m\u001b[1;33m)\u001b[0m\u001b[1;33m\u001b[0m\u001b[1;33m\u001b[0m\u001b[0m\n\u001b[0m\u001b[0;32m   5592\u001b[0m             \u001b[0mindexer\u001b[0m \u001b[1;33m=\u001b[0m \u001b[0mindexer\u001b[0m\u001b[1;33m[\u001b[0m\u001b[1;33m~\u001b[0m\u001b[0mmask\u001b[0m\u001b[1;33m]\u001b[0m\u001b[1;33m\u001b[0m\u001b[1;33m\u001b[0m\u001b[0m\n\u001b[0;32m   5593\u001b[0m         \u001b[1;32mreturn\u001b[0m \u001b[0mself\u001b[0m\u001b[1;33m.\u001b[0m\u001b[0mdelete\u001b[0m\u001b[1;33m(\u001b[0m\u001b[0mindexer\u001b[0m\u001b[1;33m)\u001b[0m\u001b[1;33m\u001b[0m\u001b[1;33m\u001b[0m\u001b[0m\n",
            "\u001b[1;31mKeyError\u001b[0m: '[3] not found in axis'"
          ]
        }
      ],
      "source": [
        "df.drop(3,axis=0,inplace=True)"
      ]
    },
    {
      "cell_type": "code",
      "execution_count": null,
      "id": "18752094",
      "metadata": {
        "id": "18752094",
        "outputId": "07a9acf0-75b6-4551-b07b-c3a0fd36fd09"
      },
      "outputs": [
        {
          "data": {
            "text/html": [
              "<div>\n",
              "<style scoped>\n",
              "    .dataframe tbody tr th:only-of-type {\n",
              "        vertical-align: middle;\n",
              "    }\n",
              "\n",
              "    .dataframe tbody tr th {\n",
              "        vertical-align: top;\n",
              "    }\n",
              "\n",
              "    .dataframe thead th {\n",
              "        text-align: right;\n",
              "    }\n",
              "</style>\n",
              "<table border=\"1\" class=\"dataframe\">\n",
              "  <thead>\n",
              "    <tr style=\"text-align: right;\">\n",
              "      <th></th>\n",
              "      <th>W</th>\n",
              "      <th>X</th>\n",
              "      <th>Y</th>\n",
              "      <th>Z</th>\n",
              "    </tr>\n",
              "  </thead>\n",
              "  <tbody>\n",
              "    <tr>\n",
              "      <th>0</th>\n",
              "      <td>0.211787</td>\n",
              "      <td>0.342902</td>\n",
              "      <td>-1.747914</td>\n",
              "      <td>1.487625</td>\n",
              "    </tr>\n",
              "    <tr>\n",
              "      <th>1</th>\n",
              "      <td>0.463285</td>\n",
              "      <td>-0.072762</td>\n",
              "      <td>1.009836</td>\n",
              "      <td>-0.200941</td>\n",
              "    </tr>\n",
              "    <tr>\n",
              "      <th>2</th>\n",
              "      <td>0.333399</td>\n",
              "      <td>-0.628554</td>\n",
              "      <td>-0.015660</td>\n",
              "      <td>-0.818696</td>\n",
              "    </tr>\n",
              "    <tr>\n",
              "      <th>4</th>\n",
              "      <td>1.026363</td>\n",
              "      <td>-2.901594</td>\n",
              "      <td>0.539600</td>\n",
              "      <td>0.826822</td>\n",
              "    </tr>\n",
              "  </tbody>\n",
              "</table>\n",
              "</div>"
            ],
            "text/plain": [
              "          W         X         Y         Z\n",
              "0  0.211787  0.342902 -1.747914  1.487625\n",
              "1  0.463285 -0.072762  1.009836 -0.200941\n",
              "2  0.333399 -0.628554 -0.015660 -0.818696\n",
              "4  1.026363 -2.901594  0.539600  0.826822"
            ]
          },
          "execution_count": 49,
          "metadata": {},
          "output_type": "execute_result"
        }
      ],
      "source": [
        "df"
      ]
    },
    {
      "cell_type": "code",
      "execution_count": null,
      "id": "c2e5ef9f",
      "metadata": {
        "id": "c2e5ef9f",
        "outputId": "891445fe-45d0-4b7f-c172-1acae1901d6f"
      },
      "outputs": [
        {
          "data": {
            "text/plain": [
              "(4, 4)"
            ]
          },
          "execution_count": 50,
          "metadata": {},
          "output_type": "execute_result"
        }
      ],
      "source": [
        "df.shape"
      ]
    },
    {
      "cell_type": "code",
      "execution_count": null,
      "id": "76694208",
      "metadata": {
        "id": "76694208",
        "outputId": "e932df07-fce6-44de-e0c2-ce854f1f67ff"
      },
      "outputs": [
        {
          "data": {
            "text/plain": [
              "W    0.333399\n",
              "X   -0.628554\n",
              "Y   -0.015660\n",
              "Z   -0.818696\n",
              "Name: 2, dtype: float64"
            ]
          },
          "execution_count": 51,
          "metadata": {},
          "output_type": "execute_result"
        }
      ],
      "source": [
        "df.loc[2] "
      ]
    },
    {
      "cell_type": "code",
      "execution_count": null,
      "id": "7232f402",
      "metadata": {
        "id": "7232f402",
        "outputId": "de261cc1-4836-49cd-ef65-3a95248768ff"
      },
      "outputs": [
        {
          "data": {
            "text/plain": [
              "W    1.026363\n",
              "X   -2.901594\n",
              "Y    0.539600\n",
              "Z    0.826822\n",
              "Name: 4, dtype: float64"
            ]
          },
          "execution_count": 56,
          "metadata": {},
          "output_type": "execute_result"
        }
      ],
      "source": [
        "df.iloc[3]  "
      ]
    },
    {
      "cell_type": "code",
      "execution_count": null,
      "id": "e9b21837",
      "metadata": {
        "id": "e9b21837"
      },
      "outputs": [],
      "source": [
        "df = pd.DataFrame(np.random.randn(5,4),columns=['W', 'X', 'Y', 'Z'])"
      ]
    },
    {
      "cell_type": "code",
      "execution_count": null,
      "id": "6dc77ce7",
      "metadata": {
        "id": "6dc77ce7",
        "outputId": "7cceec67-ab49-44b5-89d6-ab5444bd6682"
      },
      "outputs": [
        {
          "data": {
            "text/html": [
              "<div>\n",
              "<style scoped>\n",
              "    .dataframe tbody tr th:only-of-type {\n",
              "        vertical-align: middle;\n",
              "    }\n",
              "\n",
              "    .dataframe tbody tr th {\n",
              "        vertical-align: top;\n",
              "    }\n",
              "\n",
              "    .dataframe thead th {\n",
              "        text-align: right;\n",
              "    }\n",
              "</style>\n",
              "<table border=\"1\" class=\"dataframe\">\n",
              "  <thead>\n",
              "    <tr style=\"text-align: right;\">\n",
              "      <th></th>\n",
              "      <th>W</th>\n",
              "      <th>X</th>\n",
              "      <th>Y</th>\n",
              "      <th>Z</th>\n",
              "    </tr>\n",
              "  </thead>\n",
              "  <tbody>\n",
              "    <tr>\n",
              "      <th>0</th>\n",
              "      <td>0.442811</td>\n",
              "      <td>0.040105</td>\n",
              "      <td>-0.054591</td>\n",
              "      <td>-1.842738</td>\n",
              "    </tr>\n",
              "    <tr>\n",
              "      <th>1</th>\n",
              "      <td>-1.000067</td>\n",
              "      <td>0.144106</td>\n",
              "      <td>1.579413</td>\n",
              "      <td>-0.653917</td>\n",
              "    </tr>\n",
              "    <tr>\n",
              "      <th>2</th>\n",
              "      <td>2.494694</td>\n",
              "      <td>-0.478949</td>\n",
              "      <td>0.555158</td>\n",
              "      <td>1.072675</td>\n",
              "    </tr>\n",
              "    <tr>\n",
              "      <th>3</th>\n",
              "      <td>0.712329</td>\n",
              "      <td>1.673059</td>\n",
              "      <td>1.916935</td>\n",
              "      <td>-0.585962</td>\n",
              "    </tr>\n",
              "    <tr>\n",
              "      <th>4</th>\n",
              "      <td>-0.444837</td>\n",
              "      <td>1.345929</td>\n",
              "      <td>1.748956</td>\n",
              "      <td>-1.114670</td>\n",
              "    </tr>\n",
              "  </tbody>\n",
              "</table>\n",
              "</div>"
            ],
            "text/plain": [
              "          W         X         Y         Z\n",
              "0  0.442811  0.040105 -0.054591 -1.842738\n",
              "1 -1.000067  0.144106  1.579413 -0.653917\n",
              "2  2.494694 -0.478949  0.555158  1.072675\n",
              "3  0.712329  1.673059  1.916935 -0.585962\n",
              "4 -0.444837  1.345929  1.748956 -1.114670"
            ]
          },
          "execution_count": 58,
          "metadata": {},
          "output_type": "execute_result"
        }
      ],
      "source": [
        "df"
      ]
    },
    {
      "cell_type": "code",
      "execution_count": null,
      "id": "ccc69273",
      "metadata": {
        "id": "ccc69273",
        "outputId": "f49a855d-1cd6-42f1-d265-00c9c9b3db18"
      },
      "outputs": [
        {
          "data": {
            "text/html": [
              "<div>\n",
              "<style scoped>\n",
              "    .dataframe tbody tr th:only-of-type {\n",
              "        vertical-align: middle;\n",
              "    }\n",
              "\n",
              "    .dataframe tbody tr th {\n",
              "        vertical-align: top;\n",
              "    }\n",
              "\n",
              "    .dataframe thead th {\n",
              "        text-align: right;\n",
              "    }\n",
              "</style>\n",
              "<table border=\"1\" class=\"dataframe\">\n",
              "  <thead>\n",
              "    <tr style=\"text-align: right;\">\n",
              "      <th></th>\n",
              "      <th>Y</th>\n",
              "      <th>Z</th>\n",
              "    </tr>\n",
              "  </thead>\n",
              "  <tbody>\n",
              "    <tr>\n",
              "      <th>0</th>\n",
              "      <td>-0.054591</td>\n",
              "      <td>-1.842738</td>\n",
              "    </tr>\n",
              "    <tr>\n",
              "      <th>1</th>\n",
              "      <td>1.579413</td>\n",
              "      <td>-0.653917</td>\n",
              "    </tr>\n",
              "    <tr>\n",
              "      <th>2</th>\n",
              "      <td>0.555158</td>\n",
              "      <td>1.072675</td>\n",
              "    </tr>\n",
              "    <tr>\n",
              "      <th>3</th>\n",
              "      <td>1.916935</td>\n",
              "      <td>-0.585962</td>\n",
              "    </tr>\n",
              "    <tr>\n",
              "      <th>4</th>\n",
              "      <td>1.748956</td>\n",
              "      <td>-1.114670</td>\n",
              "    </tr>\n",
              "  </tbody>\n",
              "</table>\n",
              "</div>"
            ],
            "text/plain": [
              "          Y         Z\n",
              "0 -0.054591 -1.842738\n",
              "1  1.579413 -0.653917\n",
              "2  0.555158  1.072675\n",
              "3  1.916935 -0.585962\n",
              "4  1.748956 -1.114670"
            ]
          },
          "execution_count": 59,
          "metadata": {},
          "output_type": "execute_result"
        }
      ],
      "source": [
        "df.iloc[0:, 2:]"
      ]
    },
    {
      "cell_type": "code",
      "execution_count": null,
      "id": "9d566702",
      "metadata": {
        "id": "9d566702",
        "outputId": "f312868d-4584-417e-f5f9-14d585876a1d"
      },
      "outputs": [
        {
          "data": {
            "text/html": [
              "<div>\n",
              "<style scoped>\n",
              "    .dataframe tbody tr th:only-of-type {\n",
              "        vertical-align: middle;\n",
              "    }\n",
              "\n",
              "    .dataframe tbody tr th {\n",
              "        vertical-align: top;\n",
              "    }\n",
              "\n",
              "    .dataframe thead th {\n",
              "        text-align: right;\n",
              "    }\n",
              "</style>\n",
              "<table border=\"1\" class=\"dataframe\">\n",
              "  <thead>\n",
              "    <tr style=\"text-align: right;\">\n",
              "      <th></th>\n",
              "      <th>Y</th>\n",
              "      <th>Z</th>\n",
              "    </tr>\n",
              "  </thead>\n",
              "  <tbody>\n",
              "    <tr>\n",
              "      <th>0</th>\n",
              "      <td>-0.054591</td>\n",
              "      <td>-1.842738</td>\n",
              "    </tr>\n",
              "    <tr>\n",
              "      <th>1</th>\n",
              "      <td>1.579413</td>\n",
              "      <td>-0.653917</td>\n",
              "    </tr>\n",
              "    <tr>\n",
              "      <th>2</th>\n",
              "      <td>0.555158</td>\n",
              "      <td>1.072675</td>\n",
              "    </tr>\n",
              "  </tbody>\n",
              "</table>\n",
              "</div>"
            ],
            "text/plain": [
              "          Y         Z\n",
              "0 -0.054591 -1.842738\n",
              "1  1.579413 -0.653917\n",
              "2  0.555158  1.072675"
            ]
          },
          "execution_count": 60,
          "metadata": {},
          "output_type": "execute_result"
        }
      ],
      "source": [
        "df.iloc[0:3,2:]"
      ]
    },
    {
      "cell_type": "markdown",
      "id": "4a63c39b",
      "metadata": {
        "id": "4a63c39b"
      },
      "source": [
        "# Matplotlib"
      ]
    },
    {
      "cell_type": "code",
      "execution_count": null,
      "id": "95d684ce",
      "metadata": {
        "id": "95d684ce"
      },
      "outputs": [],
      "source": [
        "import matplotlib.pyplot as plt"
      ]
    },
    {
      "cell_type": "code",
      "execution_count": null,
      "id": "8dac87ec",
      "metadata": {
        "id": "8dac87ec"
      },
      "outputs": [],
      "source": [
        "a = np.linspace(0,5,11)"
      ]
    },
    {
      "cell_type": "code",
      "execution_count": null,
      "id": "e095c177",
      "metadata": {
        "id": "e095c177",
        "outputId": "9e174ff1-3fe6-417a-dda2-042cbce65e03"
      },
      "outputs": [
        {
          "data": {
            "text/plain": [
              "array([0. , 0.5, 1. , 1.5, 2. , 2.5, 3. , 3.5, 4. , 4.5, 5. ])"
            ]
          },
          "execution_count": 10,
          "metadata": {},
          "output_type": "execute_result"
        }
      ],
      "source": [
        "a"
      ]
    },
    {
      "cell_type": "code",
      "execution_count": null,
      "id": "dab7c12c",
      "metadata": {
        "id": "dab7c12c"
      },
      "outputs": [],
      "source": [
        "b= a**2"
      ]
    },
    {
      "cell_type": "code",
      "execution_count": null,
      "id": "d749066a",
      "metadata": {
        "id": "d749066a",
        "outputId": "1cd229fa-f697-4eef-8180-510dd69b4142"
      },
      "outputs": [
        {
          "data": {
            "text/plain": [
              "array([ 0.  ,  0.25,  1.  ,  2.25,  4.  ,  6.25,  9.  , 12.25, 16.  ,\n",
              "       20.25, 25.  ])"
            ]
          },
          "execution_count": 25,
          "metadata": {},
          "output_type": "execute_result"
        }
      ],
      "source": [
        "b"
      ]
    },
    {
      "cell_type": "code",
      "execution_count": null,
      "id": "9e521542",
      "metadata": {
        "id": "9e521542"
      },
      "outputs": [],
      "source": [
        "c = np.array([2,4,2,5,6,2,8])"
      ]
    },
    {
      "cell_type": "code",
      "execution_count": null,
      "id": "83f34c91",
      "metadata": {
        "id": "83f34c91",
        "outputId": "85c666ae-b7fe-4a9c-928b-038b7c802b71"
      },
      "outputs": [
        {
          "data": {
            "text/plain": [
              "array([2, 4, 2, 5, 6, 2, 8])"
            ]
          },
          "execution_count": 27,
          "metadata": {},
          "output_type": "execute_result"
        }
      ],
      "source": [
        "c"
      ]
    },
    {
      "cell_type": "code",
      "execution_count": null,
      "id": "2fa73e5b",
      "metadata": {
        "id": "2fa73e5b",
        "outputId": "2c8cae5c-326a-4c06-80ab-25ab0dd15df0"
      },
      "outputs": [
        {
          "data": {
            "text/plain": [
              "Text(0, 0.5, 'B')"
            ]
          },
          "execution_count": 46,
          "metadata": {},
          "output_type": "execute_result"
        },
        {
          "data": {
            "image/png": "[encoded data removed]",
            "text/plain": [
              "<Figure size 432x288 with 1 Axes>"
            ]
          },
          "metadata": {
            "needs_background": "light"
          },
          "output_type": "display_data"
        }
      ],
      "source": [
        "plt.plot(a,b,'r')    #'r' is for colour red\n",
        "plt.title('ASHISH',fontsize=18)\n",
        "plt.xlabel('A',fontsize=18)\n",
        "plt.ylabel('B',fontsize=18)"
      ]
    },
    {
      "cell_type": "code",
      "execution_count": null,
      "id": "db933542",
      "metadata": {
        "id": "db933542",
        "outputId": "e2261cda-f086-441a-8f8a-bf28fd359351"
      },
      "outputs": [
        {
          "data": {
            "image/png": "[encoded data removed]",
            "text/plain": [
              "<Figure size 432x288 with 1 Axes>"
            ]
          },
          "metadata": {
            "needs_background": "light"
          },
          "output_type": "display_data"
        }
      ],
      "source": [
        "plt.scatter(a,b)\n",
        "plt.title('Ashish',fontsize=18)\n",
        "plt.xlabel('A',fontsize=18)\n",
        "plt.ylabel('B',fontsize=18)\n",
        "plt.show()"
      ]
    },
    {
      "cell_type": "code",
      "execution_count": null,
      "id": "f837c9fa",
      "metadata": {
        "id": "f837c9fa",
        "outputId": "eb9fb128-4506-4654-cbae-8df4974f37a0"
      },
      "outputs": [
        {
          "data": {
            "image/png": "[encoded data removed]",
            "text/plain": [
              "<Figure size 432x288 with 1 Axes>"
            ]
          },
          "metadata": {
            "needs_background": "light"
          },
          "output_type": "display_data"
        }
      ],
      "source": [
        "plt.bar(a,b)\n",
        "plt.title('Ashish',fontsize=18)\n",
        "plt.xlabel('A',fontsize=18)\n",
        "plt.ylabel('B',fontsize=18)\n",
        "plt.show()"
      ]
    },
    {
      "cell_type": "code",
      "execution_count": null,
      "id": "d574ebd6",
      "metadata": {
        "id": "d574ebd6",
        "outputId": "1c120c0a-87a3-48d2-9914-af7a6d78d4ff"
      },
      "outputs": [
        {
          "data": {
            "text/plain": [
              "([<matplotlib.patches.Wedge at 0x2f54ea58880>,\n",
              "  <matplotlib.patches.Wedge at 0x2f54ea58d60>,\n",
              "  <matplotlib.patches.Wedge at 0x2f54ea68220>,\n",
              "  <matplotlib.patches.Wedge at 0x2f54ea686a0>,\n",
              "  <matplotlib.patches.Wedge at 0x2f54ea68b20>,\n",
              "  <matplotlib.patches.Wedge at 0x2f54ea68fa0>,\n",
              "  <matplotlib.patches.Wedge at 0x2f54ea74460>,\n",
              "  <matplotlib.patches.Wedge at 0x2f54ea748e0>,\n",
              "  <matplotlib.patches.Wedge at 0x2f54ea74d60>,\n",
              "  <matplotlib.patches.Wedge at 0x2f54ea83220>,\n",
              "  <matplotlib.patches.Wedge at 0x2f54ea3b4f0>],\n",
              " [Text(1.1, 0.0, ''),\n",
              "  Text(1.0982060144323316, 0.06279768996272098, ''),\n",
              "  Text(1.0714131104390903, 0.24914643641688675, ''),\n",
              "  Text(0.9578206904715764, 0.5409062071233356, ''),\n",
              "  Text(0.6717126826129879, 0.871092458936974, ''),\n",
              "  Text(0.156546339476946, 1.0888035835706864, ''),\n",
              "  Text(-0.5133340491307307, 0.9728762274837682, ''),\n",
              "  Text(-1.0360287953626528, 0.36965434554379384, ''),\n",
              "  Text(-0.9578207031323998, -0.5409061847039242, ''),\n",
              "  Text(-0.09413258651866149, -1.0959648973189364, ''),\n",
              "  Text(0.9253788411904255, -0.5947049691040638, '')])"
            ]
          },
          "execution_count": 96,
          "metadata": {},
          "output_type": "execute_result"
        },
        {
          "data": {
            "image/png": "[encoded data removed]",
            "text/plain": [
              "<Figure size 432x288 with 1 Axes>"
            ]
          },
          "metadata": {},
          "output_type": "display_data"
        }
      ],
      "source": [
        "plt.pie(a)"
      ]
    },
    {
      "cell_type": "code",
      "execution_count": null,
      "id": "4d35426b",
      "metadata": {
        "id": "4d35426b",
        "outputId": "ea9e2475-151c-428d-e216-4e12f6c2a483"
      },
      "outputs": [
        {
          "data": {
            "image/png": "[encoded data removed]",
            "text/plain": [
              "<Figure size 432x288 with 1 Axes>"
            ]
          },
          "metadata": {
            "needs_background": "light"
          },
          "output_type": "display_data"
        },
        {
          "data": {
            "image/png": "[encoded data removed]",
            "text/plain": [
              "<Figure size 432x288 with 2 Axes>"
            ]
          },
          "metadata": {
            "needs_background": "light"
          },
          "output_type": "display_data"
        }
      ],
      "source": [
        "plt.subplot(3,1,1) # first two i.e 3,1 is size on x and y axis, last digit is sr. no\n",
        "plt.plot(a,b)\n",
        "plt.title('Ashish',fontsize=18)\n",
        "plt.xlabel('A',fontsize=18)\n",
        "plt.ylabel('B',fontsize=18)\n",
        "plt.show()\n",
        "plt.subplot(1,3,2)\n",
        "plt.plot(b,a)\n",
        "plt.subplot(1,3,3)\n",
        "plt.plot(a,a)\n",
        "plt.tight_layout()\n",
        "plt.show()"
      ]
    },
    {
      "cell_type": "code",
      "execution_count": null,
      "id": "723be036",
      "metadata": {
        "id": "723be036",
        "outputId": "86d86342-9fea-44f6-d21e-1747686ee887"
      },
      "outputs": [
        {
          "data": {
            "image/png": "[encoded data removed]",
            "text/plain": [
              "<Figure size 432x288 with 1 Axes>"
            ]
          },
          "metadata": {
            "needs_background": "light"
          },
          "output_type": "display_data"
        }
      ],
      "source": [
        "fig = plt.figure()\n",
        "axes = fig.add_axes([0.1,0.1,0.8,0.8])\n",
        "axes.plot(a,b)\n",
        "axes.set_title('Ashish')\n",
        "axes.set_xlabel('A')\n",
        "axes.set_ylabel('B')\n",
        "plt.show()"
      ]
    },
    {
      "cell_type": "code",
      "execution_count": null,
      "id": "98f6d9b6",
      "metadata": {
        "id": "98f6d9b6",
        "outputId": "3a0ae986-c662-44a3-c465-6584e7ca28b5"
      },
      "outputs": [
        {
          "data": {
            "image/png": "[encoded data removed]",
            "text/plain": [
              "<Figure size 432x288 with 2 Axes>"
            ]
          },
          "metadata": {
            "needs_background": "light"
          },
          "output_type": "display_data"
        }
      ],
      "source": [
        "fig = plt.figure()\n",
        "axes1 = fig.add_axes([0.1,0.1,0.8,0.8]) #left,bottom, width, height\n",
        "axes2 = fig.add_axes([0.2,0.5,0.4,0.3])\n",
        "axes1.plot(a,b)\n",
        "axes2.plot(b,a)\n",
        "axes1.set_title('Ashish')\n",
        "axes1.set_xlabel('A')\n",
        "axes1.set_ylabel('B')\n",
        "plt.show()"
      ]
    },
    {
      "cell_type": "code",
      "execution_count": null,
      "id": "b0e92717",
      "metadata": {
        "id": "b0e92717"
      },
      "outputs": [],
      "source": [
        ""
      ]
    }
  ],
  "metadata": {
    "kernelspec": {
      "display_name": "Python 3",
      "language": "python",
      "name": "python3"
    },
    "language_info": {
      "codemirror_mode": {
        "name": "ipython",
        "version": 3
      },
      "file_extension": ".py",
      "mimetype": "text/x-python",
      "name": "python",
      "nbconvert_exporter": "python",
      "pygments_lexer": "ipython3",
      "version": "3.8.8"
    },
    "colab": {
      "name": "Pract-19 June.ipynb",
      "provenance": [],
      "collapsed_sections": [
        "4a63c39b"
      ]
    }
  },
  "nbformat": 4,
  "nbformat_minor": 5
}