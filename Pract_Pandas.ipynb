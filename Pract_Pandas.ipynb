{
  "cells": [
    {
      "cell_type": "markdown",
      "id": "5258c076",
      "metadata": {
        "id": "5258c076"
      },
      "source": [
        "import numpy as np"
      ]
    },
    {
      "cell_type": "code",
      "execution_count": null,
      "id": "029b7361",
      "metadata": {
        "id": "029b7361"
      },
      "outputs": [],
      "source": [
        "arr= np.arange(20,31)"
      ]
    },
    {
      "cell_type": "code",
      "execution_count": null,
      "id": "56bc6741",
      "metadata": {
        "id": "56bc6741",
        "outputId": "ae1182d1-5dcf-498a-d6a7-6451defe958b"
      },
      "outputs": [
        {
          "data": {
            "text/plain": [
              "array([20, 21, 22, 23, 24, 25, 26, 27, 28, 29, 30])"
            ]
          },
          "execution_count": 3,
          "metadata": {},
          "output_type": "execute_result"
        }
      ],
      "source": [
        "arr"
      ]
    },
    {
      "cell_type": "code",
      "execution_count": null,
      "id": "cb705e59",
      "metadata": {
        "id": "cb705e59",
        "outputId": "e1352383-7c91-4abe-e09b-98e5e061c040"
      },
      "outputs": [
        {
          "data": {
            "text/plain": [
              "28"
            ]
          },
          "execution_count": 5,
          "metadata": {},
          "output_type": "execute_result"
        }
      ],
      "source": [
        "arr[8]"
      ]
    },
    {
      "cell_type": "code",
      "execution_count": null,
      "id": "74b7d150",
      "metadata": {
        "id": "74b7d150",
        "outputId": "8e3a5655-1a75-4bd5-c1e4-42546d6b3f81"
      },
      "outputs": [
        {
          "data": {
            "text/plain": [
              "array([22, 23, 24, 25, 26])"
            ]
          },
          "execution_count": 6,
          "metadata": {},
          "output_type": "execute_result"
        }
      ],
      "source": [
        "arr[2:7]"
      ]
    },
    {
      "cell_type": "code",
      "execution_count": null,
      "id": "ac7d4dcf",
      "metadata": {
        "id": "ac7d4dcf"
      },
      "outputs": [],
      "source": [
        "arr[2:7]=99"
      ]
    },
    {
      "cell_type": "code",
      "execution_count": null,
      "id": "4d20ca8e",
      "metadata": {
        "id": "4d20ca8e",
        "outputId": "0fe7dde6-e628-4624-fba2-d296dd30965a"
      },
      "outputs": [
        {
          "data": {
            "text/plain": [
              "array([20, 21, 99, 99, 99, 99, 99, 27, 28, 29, 30])"
            ]
          },
          "execution_count": 8,
          "metadata": {},
          "output_type": "execute_result"
        }
      ],
      "source": [
        "arr"
      ]
    },
    {
      "cell_type": "code",
      "execution_count": null,
      "id": "42770061",
      "metadata": {
        "id": "42770061"
      },
      "outputs": [],
      "source": [
        "arr_c = arr.copy()"
      ]
    },
    {
      "cell_type": "code",
      "execution_count": null,
      "id": "6688e098",
      "metadata": {
        "id": "6688e098",
        "outputId": "6fb715e3-585b-4d60-9fcf-abae5f592b1f"
      },
      "outputs": [
        {
          "data": {
            "text/plain": [
              "array([20, 21, 99, 99, 99, 99, 99, 27, 28, 29, 30])"
            ]
          },
          "execution_count": 10,
          "metadata": {},
          "output_type": "execute_result"
        }
      ],
      "source": [
        "arr_c"
      ]
    },
    {
      "cell_type": "code",
      "execution_count": null,
      "id": "d85df879",
      "metadata": {
        "id": "d85df879"
      },
      "outputs": [],
      "source": [
        "arr_2d= np.array([[6,4,2],[1,7,0],[3,5,8]])"
      ]
    },
    {
      "cell_type": "code",
      "execution_count": null,
      "id": "fb1264f3",
      "metadata": {
        "id": "fb1264f3",
        "outputId": "079ca2ff-24d1-484d-cf23-294d0ed4c222"
      },
      "outputs": [
        {
          "data": {
            "text/plain": [
              "array([[6, 4, 2],\n",
              "       [1, 7, 0],\n",
              "       [3, 5, 8]])"
            ]
          },
          "execution_count": 12,
          "metadata": {},
          "output_type": "execute_result"
        }
      ],
      "source": [
        "arr_2d"
      ]
    },
    {
      "cell_type": "code",
      "execution_count": null,
      "id": "6d092ca0",
      "metadata": {
        "id": "6d092ca0",
        "outputId": "f15aeebd-aac1-4a77-8c59-b63763b96269"
      },
      "outputs": [
        {
          "data": {
            "text/plain": [
              "(3, 3)"
            ]
          },
          "execution_count": 13,
          "metadata": {},
          "output_type": "execute_result"
        }
      ],
      "source": [
        "arr_2d.shape"
      ]
    },
    {
      "cell_type": "code",
      "execution_count": null,
      "id": "81dd8f4e",
      "metadata": {
        "id": "81dd8f4e",
        "outputId": "9dde5e92-b168-4265-a6ea-5694cd99c9ff"
      },
      "outputs": [
        {
          "data": {
            "text/plain": [
              "7"
            ]
          },
          "execution_count": 16,
          "metadata": {},
          "output_type": "execute_result"
        }
      ],
      "source": [
        "arr_2d[1,1]"
      ]
    },
    {
      "cell_type": "code",
      "execution_count": null,
      "id": "93fc2b43",
      "metadata": {
        "id": "93fc2b43",
        "outputId": "4e5c588d-98f0-498b-c2f4-4c4a4f5503f8"
      },
      "outputs": [
        {
          "data": {
            "text/plain": [
              "5"
            ]
          },
          "execution_count": 17,
          "metadata": {},
          "output_type": "execute_result"
        }
      ],
      "source": [
        "arr_2d[2,1]"
      ]
    },
    {
      "cell_type": "code",
      "execution_count": null,
      "id": "482fae4b",
      "metadata": {
        "id": "482fae4b",
        "outputId": "073c5d0b-295d-4612-b92d-757eea3c8f7f"
      },
      "outputs": [
        {
          "data": {
            "text/plain": [
              "array([20, 21, 99, 99, 99, 99, 99, 27, 28, 29, 30])"
            ]
          },
          "execution_count": 18,
          "metadata": {},
          "output_type": "execute_result"
        }
      ],
      "source": [
        "arr"
      ]
    },
    {
      "cell_type": "code",
      "execution_count": null,
      "id": "61e56765",
      "metadata": {
        "id": "61e56765",
        "outputId": "8b96605c-fec9-401f-ebae-a185b10c5a8c"
      },
      "outputs": [
        {
          "data": {
            "text/plain": [
              "array([False, False,  True,  True,  True,  True,  True, False, False,\n",
              "       False, False])"
            ]
          },
          "execution_count": 19,
          "metadata": {},
          "output_type": "execute_result"
        }
      ],
      "source": [
        "arr>30"
      ]
    },
    {
      "cell_type": "code",
      "execution_count": null,
      "id": "da120354",
      "metadata": {
        "id": "da120354",
        "outputId": "b5b1adb9-2e07-480d-8e0b-bdff97ab3012"
      },
      "outputs": [
        {
          "data": {
            "text/plain": [
              "array([99, 99, 99, 99, 99])"
            ]
          },
          "execution_count": 20,
          "metadata": {},
          "output_type": "execute_result"
        }
      ],
      "source": [
        "arr[arr>30]"
      ]
    },
    {
      "cell_type": "code",
      "execution_count": null,
      "id": "2e3585df",
      "metadata": {
        "id": "2e3585df",
        "outputId": "cb4dc095-b670-4f0a-c401-7924bc1a9c70"
      },
      "outputs": [
        {
          "data": {
            "text/plain": [
              "array([20, 21, 27, 28, 29])"
            ]
          },
          "execution_count": 21,
          "metadata": {},
          "output_type": "execute_result"
        }
      ],
      "source": [
        "arr[arr<30]"
      ]
    },
    {
      "cell_type": "code",
      "execution_count": null,
      "id": "f9da321d",
      "metadata": {
        "id": "f9da321d",
        "outputId": "1ac6c97a-e87c-47db-e886-062e5ec7d2f0"
      },
      "outputs": [
        {
          "data": {
            "text/plain": [
              "array([ 40,  42, 198, 198, 198, 198, 198,  54,  56,  58,  60])"
            ]
          },
          "execution_count": 23,
          "metadata": {},
          "output_type": "execute_result"
        }
      ],
      "source": [
        "arr+arr"
      ]
    },
    {
      "cell_type": "code",
      "execution_count": null,
      "id": "ac7dab39",
      "metadata": {
        "id": "ac7dab39",
        "outputId": "b76dbbf7-cb8d-428c-f42a-41e2917c8784"
      },
      "outputs": [
        {
          "data": {
            "text/plain": [
              "array([0, 0, 0, 0, 0, 0, 0, 0, 0, 0, 0])"
            ]
          },
          "execution_count": 24,
          "metadata": {},
          "output_type": "execute_result"
        }
      ],
      "source": [
        "arr-arr"
      ]
    },
    {
      "cell_type": "code",
      "execution_count": null,
      "id": "e775cf40",
      "metadata": {
        "id": "e775cf40",
        "outputId": "d5657de2-0d40-46a6-addb-a3f03fc5bfa8"
      },
      "outputs": [
        {
          "data": {
            "text/plain": [
              "array([ 400,  441, 9801, 9801, 9801, 9801, 9801,  729,  784,  841,  900])"
            ]
          },
          "execution_count": 25,
          "metadata": {},
          "output_type": "execute_result"
        }
      ],
      "source": [
        "arr*arr"
      ]
    },
    {
      "cell_type": "code",
      "execution_count": null,
      "id": "b48cc20c",
      "metadata": {
        "id": "b48cc20c",
        "outputId": "6c2d0e64-6556-42ac-c525-666e3b8d3f1e"
      },
      "outputs": [
        {
          "data": {
            "text/plain": [
              "array([ 400,  420, 1980, 1980, 1980, 1980, 1980,  540,  560,  580,  600])"
            ]
          },
          "execution_count": 26,
          "metadata": {},
          "output_type": "execute_result"
        }
      ],
      "source": [
        "arr*20"
      ]
    },
    {
      "cell_type": "code",
      "execution_count": null,
      "id": "3b925943",
      "metadata": {
        "id": "3b925943",
        "outputId": "899f5979-b37e-4477-f52e-9cce3a5aa056"
      },
      "outputs": [
        {
          "data": {
            "text/plain": [
              "array([ 2.85714286,  3.        , 14.14285714, 14.14285714, 14.14285714,\n",
              "       14.14285714, 14.14285714,  3.85714286,  4.        ,  4.14285714,\n",
              "        4.28571429])"
            ]
          },
          "execution_count": 27,
          "metadata": {},
          "output_type": "execute_result"
        }
      ],
      "source": [
        "arr/7"
      ]
    },
    {
      "cell_type": "code",
      "execution_count": null,
      "id": "f3a5ddaa",
      "metadata": {
        "id": "f3a5ddaa",
        "outputId": "d6b8fa47-3ddb-47e3-c603-072135085a89"
      },
      "outputs": [
        {
          "data": {
            "text/plain": [
              "array([20, 21, 99, 99, 99, 99, 99, 27, 28, 29, 30])"
            ]
          },
          "execution_count": 28,
          "metadata": {},
          "output_type": "execute_result"
        }
      ],
      "source": [
        "arr"
      ]
    },
    {
      "cell_type": "code",
      "execution_count": null,
      "id": "2f2a73a8",
      "metadata": {
        "id": "2f2a73a8",
        "outputId": "2f84182f-c5cb-444f-fcc2-83cb191235d6"
      },
      "outputs": [
        {
          "data": {
            "text/plain": [
              "array([4.47213595, 4.58257569, 9.94987437, 9.94987437, 9.94987437,\n",
              "       9.94987437, 9.94987437, 5.19615242, 5.29150262, 5.38516481,\n",
              "       5.47722558])"
            ]
          },
          "execution_count": 29,
          "metadata": {},
          "output_type": "execute_result"
        }
      ],
      "source": [
        "np.sqrt(arr)"
      ]
    },
    {
      "cell_type": "code",
      "execution_count": null,
      "id": "ef13df52",
      "metadata": {
        "id": "ef13df52",
        "outputId": "3a8b3f6d-2078-46af-a854-28f90f320f80"
      },
      "outputs": [
        {
          "data": {
            "text/plain": [
              "(11,)"
            ]
          },
          "execution_count": 30,
          "metadata": {},
          "output_type": "execute_result"
        }
      ],
      "source": [
        "arr.shape"
      ]
    },
    {
      "cell_type": "code",
      "execution_count": null,
      "id": "093339e8",
      "metadata": {
        "id": "093339e8",
        "outputId": "508a476f-92e5-4d8f-b9c3-a65e974fb87a"
      },
      "outputs": [
        {
          "data": {
            "text/plain": [
              "array([4.85165195e+08, 1.31881573e+09, 9.88903032e+42, 9.88903032e+42,\n",
              "       9.88903032e+42, 9.88903032e+42, 9.88903032e+42, 5.32048241e+11,\n",
              "       1.44625706e+12, 3.93133430e+12, 1.06864746e+13])"
            ]
          },
          "execution_count": 31,
          "metadata": {},
          "output_type": "execute_result"
        }
      ],
      "source": [
        "np.exp(arr)"
      ]
    },
    {
      "cell_type": "code",
      "execution_count": null,
      "id": "95c3b3cf",
      "metadata": {
        "id": "95c3b3cf",
        "outputId": "b95d2a6f-388c-43dd-ee80-f82628f66cf5"
      },
      "outputs": [
        {
          "data": {
            "text/plain": [
              "array([2.99573227, 3.04452244, 4.59511985, 4.59511985, 4.59511985,\n",
              "       4.59511985, 4.59511985, 3.29583687, 3.33220451, 3.36729583,\n",
              "       3.40119738])"
            ]
          },
          "execution_count": 32,
          "metadata": {},
          "output_type": "execute_result"
        }
      ],
      "source": [
        "np.log(arr)"
      ]
    },
    {
      "cell_type": "markdown",
      "id": "2a0ec5fa",
      "metadata": {
        "id": "2a0ec5fa"
      },
      "source": [
        "# Pandas"
      ]
    },
    {
      "cell_type": "code",
      "execution_count": null,
      "id": "5e7d28a5",
      "metadata": {
        "id": "5e7d28a5"
      },
      "outputs": [],
      "source": [
        "import numpy as np\n",
        "import pandas as pd"
      ]
    },
    {
      "cell_type": "code",
      "execution_count": null,
      "id": "a9233149",
      "metadata": {
        "id": "a9233149"
      },
      "outputs": [],
      "source": [
        "lable = ['a','b','c']"
      ]
    },
    {
      "cell_type": "code",
      "execution_count": null,
      "id": "5c417ff5",
      "metadata": {
        "id": "5c417ff5"
      },
      "outputs": [],
      "source": [
        "my_data = [10,34,29]"
      ]
    },
    {
      "cell_type": "code",
      "execution_count": null,
      "id": "647a2473",
      "metadata": {
        "id": "647a2473"
      },
      "outputs": [],
      "source": [
        "arr = np.array([23,45,67])"
      ]
    },
    {
      "cell_type": "code",
      "execution_count": null,
      "id": "1cf0a109",
      "metadata": {
        "id": "1cf0a109"
      },
      "outputs": [],
      "source": [
        "d = {'x':78, 'y':89, 'z':78}"
      ]
    },
    {
      "cell_type": "markdown",
      "id": "51d1d932",
      "metadata": {
        "id": "51d1d932"
      },
      "source": [
        "# Series (contain only 1 col)"
      ]
    },
    {
      "cell_type": "code",
      "execution_count": null,
      "id": "79d296a0",
      "metadata": {
        "id": "79d296a0",
        "outputId": "1788296b-e6a2-4885-a240-5b7fa81fe0f6"
      },
      "outputs": [
        {
          "data": {
            "text/plain": [
              "0    10\n",
              "1    34\n",
              "2    29\n",
              "dtype: int64"
            ]
          },
          "execution_count": 6,
          "metadata": {},
          "output_type": "execute_result"
        }
      ],
      "source": [
        "pd.Series(data=my_data)"
      ]
    },
    {
      "cell_type": "code",
      "execution_count": null,
      "id": "acf80635",
      "metadata": {
        "id": "acf80635",
        "outputId": "ccf9b1b5-fc22-4a51-a679-8789b7f6ca35"
      },
      "outputs": [
        {
          "data": {
            "text/plain": [
              "0    10\n",
              "1    34\n",
              "2    29\n",
              "dtype: int64"
            ]
          },
          "execution_count": 8,
          "metadata": {},
          "output_type": "execute_result"
        }
      ],
      "source": [
        "pd.Series(my_data)"
      ]
    },
    {
      "cell_type": "code",
      "execution_count": null,
      "id": "eb7b4573",
      "metadata": {
        "id": "eb7b4573",
        "outputId": "b2156e9f-f5f1-4121-8a34-16e3e0d35e24"
      },
      "outputs": [
        {
          "data": {
            "text/plain": [
              "[10, 34, 29]"
            ]
          },
          "execution_count": 9,
          "metadata": {},
          "output_type": "execute_result"
        }
      ],
      "source": [
        "my_data"
      ]
    },
    {
      "cell_type": "code",
      "execution_count": null,
      "id": "debc39dd",
      "metadata": {
        "id": "debc39dd"
      },
      "outputs": [],
      "source": [
        "s1=pd.Series(my_data)"
      ]
    },
    {
      "cell_type": "code",
      "execution_count": null,
      "id": "ba05c8f1",
      "metadata": {
        "id": "ba05c8f1",
        "outputId": "ea364071-c887-45a3-c398-8d93245bdf25"
      },
      "outputs": [
        {
          "data": {
            "text/plain": [
              "0    10\n",
              "1    34\n",
              "2    29\n",
              "dtype: int64"
            ]
          },
          "execution_count": 11,
          "metadata": {},
          "output_type": "execute_result"
        }
      ],
      "source": [
        "s1"
      ]
    },
    {
      "cell_type": "code",
      "execution_count": null,
      "id": "8c17e76e",
      "metadata": {
        "id": "8c17e76e",
        "outputId": "9359f625-e251-494d-bfa1-8ca17c4fa36a"
      },
      "outputs": [
        {
          "data": {
            "text/plain": [
              "pandas.core.series.Series"
            ]
          },
          "execution_count": 12,
          "metadata": {},
          "output_type": "execute_result"
        }
      ],
      "source": [
        "type(s1)"
      ]
    },
    {
      "cell_type": "code",
      "execution_count": null,
      "id": "a00fa5fc",
      "metadata": {
        "id": "a00fa5fc",
        "outputId": "b6adeb1c-de45-40df-be29-3dbf8321c5a8"
      },
      "outputs": [
        {
          "data": {
            "text/plain": [
              "0    10\n",
              "1    34\n",
              "2    29\n",
              "dtype: int64"
            ]
          },
          "execution_count": 13,
          "metadata": {},
          "output_type": "execute_result"
        }
      ],
      "source": [
        "s1"
      ]
    },
    {
      "cell_type": "code",
      "execution_count": null,
      "id": "225bde38",
      "metadata": {
        "id": "225bde38",
        "outputId": "de1c0362-8e59-4d49-ca9a-37f55e6a15d6"
      },
      "outputs": [
        {
          "data": {
            "text/plain": [
              "a    10\n",
              "b    34\n",
              "c    29\n",
              "dtype: int64"
            ]
          },
          "execution_count": 17,
          "metadata": {},
          "output_type": "execute_result"
        }
      ],
      "source": [
        "pd.Series(my_data,index=lable)"
      ]
    },
    {
      "cell_type": "code",
      "execution_count": null,
      "id": "c40435bc",
      "metadata": {
        "id": "c40435bc",
        "outputId": "1fd7a93f-93f4-43e4-dfb7-feca03568706"
      },
      "outputs": [
        {
          "data": {
            "text/plain": [
              "0    23\n",
              "1    45\n",
              "2    67\n",
              "dtype: int32"
            ]
          },
          "execution_count": 18,
          "metadata": {},
          "output_type": "execute_result"
        }
      ],
      "source": [
        "pd.Series(arr)"
      ]
    },
    {
      "cell_type": "code",
      "execution_count": null,
      "id": "278e8ec8",
      "metadata": {
        "id": "278e8ec8",
        "outputId": "a2e884b3-d982-4a05-ba99-7eb1e41722ee"
      },
      "outputs": [
        {
          "data": {
            "text/plain": [
              "a    23\n",
              "b    45\n",
              "c    67\n",
              "dtype: int32"
            ]
          },
          "execution_count": 19,
          "metadata": {},
          "output_type": "execute_result"
        }
      ],
      "source": [
        "pd.Series(arr,lable)"
      ]
    },
    {
      "cell_type": "code",
      "execution_count": null,
      "id": "09caf29a",
      "metadata": {
        "id": "09caf29a",
        "outputId": "2e669156-7791-4d43-874e-77dadf603d6e"
      },
      "outputs": [
        {
          "data": {
            "text/plain": [
              "a    10\n",
              "b    34\n",
              "c    29\n",
              "dtype: int64"
            ]
          },
          "execution_count": 20,
          "metadata": {},
          "output_type": "execute_result"
        }
      ],
      "source": [
        "pd.Series(my_data,lable)"
      ]
    },
    {
      "cell_type": "code",
      "execution_count": null,
      "id": "465060c4",
      "metadata": {
        "id": "465060c4",
        "outputId": "01afa56b-db5f-400f-fa90-36b0740f5265"
      },
      "outputs": [
        {
          "data": {
            "text/plain": [
              "x    78\n",
              "y    89\n",
              "z    78\n",
              "dtype: int64"
            ]
          },
          "execution_count": 21,
          "metadata": {},
          "output_type": "execute_result"
        }
      ],
      "source": [
        "pd.Series(d)"
      ]
    },
    {
      "cell_type": "code",
      "execution_count": null,
      "id": "e8706482",
      "metadata": {
        "id": "e8706482",
        "outputId": "7a0e5fdd-1a72-47b1-f8a8-79d53bc03b5b"
      },
      "outputs": [
        {
          "data": {
            "text/plain": [
              "dany    45\n",
              "ram     67\n",
              "sonu    69\n",
              "dtype: int64"
            ]
          },
          "execution_count": 22,
          "metadata": {},
          "output_type": "execute_result"
        }
      ],
      "source": [
        "pd.Series([45,67,69],['dany','ram','sonu'])"
      ]
    },
    {
      "cell_type": "code",
      "execution_count": null,
      "id": "7eca4534",
      "metadata": {
        "id": "7eca4534",
        "outputId": "a3fe5dda-977e-4c56-f30e-adc886446fd0"
      },
      "outputs": [
        {
          "data": {
            "text/plain": [
              "0    500\n",
              "1     23\n",
              "2     45\n",
              "3     25\n",
              "4    155\n",
              "dtype: int64"
            ]
          },
          "execution_count": 24,
          "metadata": {},
          "output_type": "execute_result"
        }
      ],
      "source": [
        "pd.Series([500,23,45,25,155])"
      ]
    },
    {
      "cell_type": "markdown",
      "id": "49addc15",
      "metadata": {
        "id": "49addc15"
      },
      "source": [
        "# Dataframe"
      ]
    },
    {
      "cell_type": "code",
      "execution_count": null,
      "id": "a3c5584e",
      "metadata": {
        "id": "a3c5584e"
      },
      "outputs": [],
      "source": [
        "ad = np.random.randn(4,4)"
      ]
    },
    {
      "cell_type": "code",
      "execution_count": null,
      "id": "637bb2ad",
      "metadata": {
        "id": "637bb2ad",
        "outputId": "631e5cc6-888a-42b0-b37e-8911daaa03da"
      },
      "outputs": [
        {
          "data": {
            "text/plain": [
              "array([[-0.02418393, -0.60905014,  0.94334897, -0.00305346],\n",
              "       [ 0.731237  ,  0.61191524, -0.22043677, -0.81537683],\n",
              "       [-0.50645633,  1.1618902 ,  0.22262805,  0.64502711],\n",
              "       [ 0.67564697, -0.27658277, -0.22975748, -1.64621246]])"
            ]
          },
          "execution_count": 26,
          "metadata": {},
          "output_type": "execute_result"
        }
      ],
      "source": [
        "ad"
      ]
    },
    {
      "cell_type": "code",
      "execution_count": null,
      "id": "abef10dc",
      "metadata": {
        "id": "abef10dc"
      },
      "outputs": [],
      "source": [
        "df = pd.DataFrame(ad)"
      ]
    },
    {
      "cell_type": "code",
      "execution_count": null,
      "id": "fea56d06",
      "metadata": {
        "id": "fea56d06",
        "outputId": "e8e773b1-78b7-4a16-ae9c-5c99e50f1309"
      },
      "outputs": [
        {
          "data": {
            "text/html": [
              "<div>\n",
              "<style scoped>\n",
              "    .dataframe tbody tr th:only-of-type {\n",
              "        vertical-align: middle;\n",
              "    }\n",
              "\n",
              "    .dataframe tbody tr th {\n",
              "        vertical-align: top;\n",
              "    }\n",
              "\n",
              "    .dataframe thead th {\n",
              "        text-align: right;\n",
              "    }\n",
              "</style>\n",
              "<table border=\"1\" class=\"dataframe\">\n",
              "  <thead>\n",
              "    <tr style=\"text-align: right;\">\n",
              "      <th></th>\n",
              "      <th>0</th>\n",
              "      <th>1</th>\n",
              "      <th>2</th>\n",
              "      <th>3</th>\n",
              "    </tr>\n",
              "  </thead>\n",
              "  <tbody>\n",
              "    <tr>\n",
              "      <th>0</th>\n",
              "      <td>-0.024184</td>\n",
              "      <td>-0.609050</td>\n",
              "      <td>0.943349</td>\n",
              "      <td>-0.003053</td>\n",
              "    </tr>\n",
              "    <tr>\n",
              "      <th>1</th>\n",
              "      <td>0.731237</td>\n",
              "      <td>0.611915</td>\n",
              "      <td>-0.220437</td>\n",
              "      <td>-0.815377</td>\n",
              "    </tr>\n",
              "    <tr>\n",
              "      <th>2</th>\n",
              "      <td>-0.506456</td>\n",
              "      <td>1.161890</td>\n",
              "      <td>0.222628</td>\n",
              "      <td>0.645027</td>\n",
              "    </tr>\n",
              "    <tr>\n",
              "      <th>3</th>\n",
              "      <td>0.675647</td>\n",
              "      <td>-0.276583</td>\n",
              "      <td>-0.229757</td>\n",
              "      <td>-1.646212</td>\n",
              "    </tr>\n",
              "  </tbody>\n",
              "</table>\n",
              "</div>"
            ],
            "text/plain": [
              "          0         1         2         3\n",
              "0 -0.024184 -0.609050  0.943349 -0.003053\n",
              "1  0.731237  0.611915 -0.220437 -0.815377\n",
              "2 -0.506456  1.161890  0.222628  0.645027\n",
              "3  0.675647 -0.276583 -0.229757 -1.646212"
            ]
          },
          "execution_count": 28,
          "metadata": {},
          "output_type": "execute_result"
        }
      ],
      "source": [
        "df"
      ]
    },
    {
      "cell_type": "code",
      "execution_count": null,
      "id": "b8b9682d",
      "metadata": {
        "id": "b8b9682d"
      },
      "outputs": [],
      "source": [
        "data1 = np.random.randn(5,5)"
      ]
    },
    {
      "cell_type": "code",
      "execution_count": null,
      "id": "fd6d3781",
      "metadata": {
        "id": "fd6d3781",
        "outputId": "b93391c4-7e65-4a16-ffa4-5ecd7f6b21c9"
      },
      "outputs": [
        {
          "data": {
            "text/plain": [
              "array([[ 1.01933714, -0.50459561,  1.09780156,  0.11501005, -1.02348277],\n",
              "       [-1.28944773, -0.65061898, -0.66956735, -0.97769431, -1.04069785],\n",
              "       [-1.06335598,  1.1357835 , -0.72305439, -0.24601602,  0.93163442],\n",
              "       [ 0.84125721, -0.00264595,  1.40604162, -0.01890542, -1.80737875],\n",
              "       [ 0.97535708,  0.09264861,  0.26489684, -0.41591576, -0.90788894]])"
            ]
          },
          "execution_count": 30,
          "metadata": {},
          "output_type": "execute_result"
        }
      ],
      "source": [
        "data1"
      ]
    },
    {
      "cell_type": "code",
      "execution_count": null,
      "id": "e4929a05",
      "metadata": {
        "id": "e4929a05"
      },
      "outputs": [],
      "source": [
        "df1 = pd.DataFrame(data1,columns=['ravi','avi','sara','janu','babu'])"
      ]
    },
    {
      "cell_type": "code",
      "execution_count": null,
      "id": "fbbe1e1a",
      "metadata": {
        "id": "fbbe1e1a",
        "outputId": "24cd929c-596f-42a2-d863-d7566435377e"
      },
      "outputs": [
        {
          "data": {
            "text/html": [
              "<div>\n",
              "<style scoped>\n",
              "    .dataframe tbody tr th:only-of-type {\n",
              "        vertical-align: middle;\n",
              "    }\n",
              "\n",
              "    .dataframe tbody tr th {\n",
              "        vertical-align: top;\n",
              "    }\n",
              "\n",
              "    .dataframe thead th {\n",
              "        text-align: right;\n",
              "    }\n",
              "</style>\n",
              "<table border=\"1\" class=\"dataframe\">\n",
              "  <thead>\n",
              "    <tr style=\"text-align: right;\">\n",
              "      <th></th>\n",
              "      <th>ravi</th>\n",
              "      <th>avi</th>\n",
              "      <th>sara</th>\n",
              "      <th>janu</th>\n",
              "      <th>babu</th>\n",
              "    </tr>\n",
              "  </thead>\n",
              "  <tbody>\n",
              "    <tr>\n",
              "      <th>0</th>\n",
              "      <td>1.019337</td>\n",
              "      <td>-0.504596</td>\n",
              "      <td>1.097802</td>\n",
              "      <td>0.115010</td>\n",
              "      <td>-1.023483</td>\n",
              "    </tr>\n",
              "    <tr>\n",
              "      <th>1</th>\n",
              "      <td>-1.289448</td>\n",
              "      <td>-0.650619</td>\n",
              "      <td>-0.669567</td>\n",
              "      <td>-0.977694</td>\n",
              "      <td>-1.040698</td>\n",
              "    </tr>\n",
              "    <tr>\n",
              "      <th>2</th>\n",
              "      <td>-1.063356</td>\n",
              "      <td>1.135784</td>\n",
              "      <td>-0.723054</td>\n",
              "      <td>-0.246016</td>\n",
              "      <td>0.931634</td>\n",
              "    </tr>\n",
              "    <tr>\n",
              "      <th>3</th>\n",
              "      <td>0.841257</td>\n",
              "      <td>-0.002646</td>\n",
              "      <td>1.406042</td>\n",
              "      <td>-0.018905</td>\n",
              "      <td>-1.807379</td>\n",
              "    </tr>\n",
              "    <tr>\n",
              "      <th>4</th>\n",
              "      <td>0.975357</td>\n",
              "      <td>0.092649</td>\n",
              "      <td>0.264897</td>\n",
              "      <td>-0.415916</td>\n",
              "      <td>-0.907889</td>\n",
              "    </tr>\n",
              "  </tbody>\n",
              "</table>\n",
              "</div>"
            ],
            "text/plain": [
              "       ravi       avi      sara      janu      babu\n",
              "0  1.019337 -0.504596  1.097802  0.115010 -1.023483\n",
              "1 -1.289448 -0.650619 -0.669567 -0.977694 -1.040698\n",
              "2 -1.063356  1.135784 -0.723054 -0.246016  0.931634\n",
              "3  0.841257 -0.002646  1.406042 -0.018905 -1.807379\n",
              "4  0.975357  0.092649  0.264897 -0.415916 -0.907889"
            ]
          },
          "execution_count": 34,
          "metadata": {},
          "output_type": "execute_result"
        }
      ],
      "source": [
        "df1"
      ]
    },
    {
      "cell_type": "code",
      "execution_count": null,
      "id": "c447d58b",
      "metadata": {
        "id": "c447d58b"
      },
      "outputs": [],
      "source": [
        "df2 = pd.read_csv('Position_Salaries.csv')\n"
      ]
    },
    {
      "cell_type": "code",
      "execution_count": null,
      "id": "ddbc858a",
      "metadata": {
        "id": "ddbc858a",
        "outputId": "d211132d-ce38-4f9d-9827-c11257d856e6"
      },
      "outputs": [
        {
          "data": {
            "text/html": [
              "<div>\n",
              "<style scoped>\n",
              "    .dataframe tbody tr th:only-of-type {\n",
              "        vertical-align: middle;\n",
              "    }\n",
              "\n",
              "    .dataframe tbody tr th {\n",
              "        vertical-align: top;\n",
              "    }\n",
              "\n",
              "    .dataframe thead th {\n",
              "        text-align: right;\n",
              "    }\n",
              "</style>\n",
              "<table border=\"1\" class=\"dataframe\">\n",
              "  <thead>\n",
              "    <tr style=\"text-align: right;\">\n",
              "      <th></th>\n",
              "      <th>Position</th>\n",
              "      <th>Level</th>\n",
              "      <th>Salary</th>\n",
              "    </tr>\n",
              "  </thead>\n",
              "  <tbody>\n",
              "    <tr>\n",
              "      <th>0</th>\n",
              "      <td>Business Analyst</td>\n",
              "      <td>1</td>\n",
              "      <td>45000</td>\n",
              "    </tr>\n",
              "    <tr>\n",
              "      <th>1</th>\n",
              "      <td>Junior Consultant</td>\n",
              "      <td>2</td>\n",
              "      <td>50000</td>\n",
              "    </tr>\n",
              "    <tr>\n",
              "      <th>2</th>\n",
              "      <td>Senior Consultant</td>\n",
              "      <td>3</td>\n",
              "      <td>60000</td>\n",
              "    </tr>\n",
              "    <tr>\n",
              "      <th>3</th>\n",
              "      <td>Manager</td>\n",
              "      <td>4</td>\n",
              "      <td>80000</td>\n",
              "    </tr>\n",
              "    <tr>\n",
              "      <th>4</th>\n",
              "      <td>Country Manager</td>\n",
              "      <td>5</td>\n",
              "      <td>110000</td>\n",
              "    </tr>\n",
              "    <tr>\n",
              "      <th>5</th>\n",
              "      <td>Region Manager</td>\n",
              "      <td>6</td>\n",
              "      <td>150000</td>\n",
              "    </tr>\n",
              "    <tr>\n",
              "      <th>6</th>\n",
              "      <td>Partner</td>\n",
              "      <td>7</td>\n",
              "      <td>200000</td>\n",
              "    </tr>\n",
              "    <tr>\n",
              "      <th>7</th>\n",
              "      <td>Senior Partner</td>\n",
              "      <td>8</td>\n",
              "      <td>300000</td>\n",
              "    </tr>\n",
              "    <tr>\n",
              "      <th>8</th>\n",
              "      <td>C-level</td>\n",
              "      <td>9</td>\n",
              "      <td>500000</td>\n",
              "    </tr>\n",
              "    <tr>\n",
              "      <th>9</th>\n",
              "      <td>CEO</td>\n",
              "      <td>10</td>\n",
              "      <td>1000000</td>\n",
              "    </tr>\n",
              "  </tbody>\n",
              "</table>\n",
              "</div>"
            ],
            "text/plain": [
              "            Position  Level   Salary\n",
              "0   Business Analyst      1    45000\n",
              "1  Junior Consultant      2    50000\n",
              "2  Senior Consultant      3    60000\n",
              "3            Manager      4    80000\n",
              "4    Country Manager      5   110000\n",
              "5     Region Manager      6   150000\n",
              "6            Partner      7   200000\n",
              "7     Senior Partner      8   300000\n",
              "8            C-level      9   500000\n",
              "9                CEO     10  1000000"
            ]
          },
          "execution_count": 43,
          "metadata": {},
          "output_type": "execute_result"
        }
      ],
      "source": [
        "df2"
      ]
    },
    {
      "cell_type": "code",
      "execution_count": null,
      "id": "9c03aba7",
      "metadata": {
        "id": "9c03aba7"
      },
      "outputs": [],
      "source": [
        ""
      ]
    }
  ],
  "metadata": {
    "kernelspec": {
      "display_name": "Python 3",
      "language": "python",
      "name": "python3"
    },
    "language_info": {
      "codemirror_mode": {
        "name": "ipython",
        "version": 3
      },
      "file_extension": ".py",
      "mimetype": "text/x-python",
      "name": "python",
      "nbconvert_exporter": "python",
      "pygments_lexer": "ipython3",
      "version": "3.8.8"
    },
    "colab": {
      "name": "Pract_Pandas.ipynb",
      "provenance": [],
      "collapsed_sections": [
        "2a0ec5fa",
        "51d1d932",
        "49addc15"
      ]
    }
  },
  "nbformat": 4,
  "nbformat_minor": 5
}