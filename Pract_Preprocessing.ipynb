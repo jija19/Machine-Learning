{
  "cells": [
    {
      "cell_type": "code",
      "execution_count": null,
      "id": "322a95fb",
      "metadata": {
        "id": "322a95fb"
      },
      "outputs": [],
      "source": [
        "import numpy as np\n",
        "import pandas as pd\n",
        "import matplotlib.pyplot as plt\n",
        "import seaborn as sns\n",
        "sns.set_style('whitegrid')"
      ]
    },
    {
      "cell_type": "code",
      "execution_count": null,
      "id": "e655308e",
      "metadata": {
        "id": "e655308e"
      },
      "outputs": [],
      "source": [
        "iris = pd.read_csv('iris.csv')"
      ]
    },
    {
      "cell_type": "code",
      "execution_count": null,
      "id": "cccdf4f0",
      "metadata": {
        "id": "cccdf4f0"
      },
      "outputs": [],
      "source": [
        "iris"
      ]
    },
    {
      "cell_type": "code",
      "execution_count": null,
      "id": "d25551c7",
      "metadata": {
        "id": "d25551c7"
      },
      "outputs": [],
      "source": [
        "iris = pd.read_csv('iris.csv',names=['sepal_len','sepal_wid','petal_len','petel_wid','label'])"
      ]
    },
    {
      "cell_type": "code",
      "execution_count": null,
      "id": "8b7c5567",
      "metadata": {
        "id": "8b7c5567"
      },
      "outputs": [],
      "source": [
        "iris"
      ]
    },
    {
      "cell_type": "markdown",
      "id": "11b54374",
      "metadata": {
        "id": "11b54374"
      },
      "source": [
        "# Encoding Categorical Variable"
      ]
    },
    {
      "cell_type": "code",
      "execution_count": null,
      "id": "16576634",
      "metadata": {
        "id": "16576634"
      },
      "outputs": [],
      "source": [
        "iris.describe(include='all')"
      ]
    },
    {
      "cell_type": "code",
      "execution_count": null,
      "id": "0ea52520",
      "metadata": {
        "id": "0ea52520"
      },
      "outputs": [],
      "source": [
        "from sklearn.preprocessing import LabelEncoder"
      ]
    },
    {
      "cell_type": "code",
      "execution_count": null,
      "id": "27827093",
      "metadata": {
        "id": "27827093"
      },
      "outputs": [],
      "source": [
        "le = LabelEncoder()"
      ]
    },
    {
      "cell_type": "code",
      "execution_count": null,
      "id": "0d3bd71d",
      "metadata": {
        "id": "0d3bd71d"
      },
      "outputs": [],
      "source": [
        "iris['label'] = le.fit_transform(iris['label'])"
      ]
    },
    {
      "cell_type": "code",
      "execution_count": null,
      "id": "fcb3eb97",
      "metadata": {
        "id": "fcb3eb97"
      },
      "outputs": [],
      "source": [
        "iris"
      ]
    },
    {
      "cell_type": "code",
      "execution_count": null,
      "id": "7a6db3f7",
      "metadata": {
        "id": "7a6db3f7"
      },
      "outputs": [],
      "source": [
        "y_test = iris.iloc[:,4].values"
      ]
    },
    {
      "cell_type": "code",
      "execution_count": null,
      "id": "92e1dfd5",
      "metadata": {
        "id": "92e1dfd5"
      },
      "outputs": [],
      "source": [
        "y_test"
      ]
    },
    {
      "cell_type": "code",
      "execution_count": null,
      "id": "fa547c05",
      "metadata": {
        "id": "fa547c05"
      },
      "outputs": [],
      "source": [
        "iris = pd.read_csv('iris.csv',names=['sepal_len','sepal_wid','patel_len','patel_wid','label'])"
      ]
    },
    {
      "cell_type": "code",
      "execution_count": null,
      "id": "31dd173d",
      "metadata": {
        "id": "31dd173d"
      },
      "outputs": [],
      "source": [
        "iris"
      ]
    },
    {
      "cell_type": "code",
      "execution_count": null,
      "id": "058d640c",
      "metadata": {
        "id": "058d640c"
      },
      "outputs": [],
      "source": [
        "from sklearn.preprocessing import OneHotEncoder"
      ]
    },
    {
      "cell_type": "code",
      "execution_count": null,
      "id": "c6b34e41",
      "metadata": {
        "id": "c6b34e41"
      },
      "outputs": [],
      "source": [
        "ohe = OneHotEncoder()"
      ]
    },
    {
      "cell_type": "code",
      "execution_count": null,
      "id": "1dba42b0",
      "metadata": {
        "id": "1dba42b0"
      },
      "outputs": [],
      "source": [
        "y = iris.iloc[:,4].values"
      ]
    },
    {
      "cell_type": "code",
      "execution_count": null,
      "id": "c160feb4",
      "metadata": {
        "id": "c160feb4"
      },
      "outputs": [],
      "source": [
        "y"
      ]
    },
    {
      "cell_type": "code",
      "execution_count": null,
      "id": "888b256f",
      "metadata": {
        "id": "888b256f"
      },
      "outputs": [],
      "source": [
        "y = y.reshape(-1,1)"
      ]
    },
    {
      "cell_type": "code",
      "execution_count": null,
      "id": "d8f1ddc1",
      "metadata": {
        "id": "d8f1ddc1"
      },
      "outputs": [],
      "source": [
        "y"
      ]
    },
    {
      "cell_type": "code",
      "execution_count": null,
      "id": "9e510eef",
      "metadata": {
        "id": "9e510eef"
      },
      "outputs": [],
      "source": [
        "ohe.fit_transform(y).toarray()"
      ]
    },
    {
      "cell_type": "code",
      "execution_count": null,
      "id": "ecb151d5",
      "metadata": {
        "id": "ecb151d5"
      },
      "outputs": [],
      "source": [
        "iris"
      ]
    },
    {
      "cell_type": "code",
      "execution_count": null,
      "id": "fc3281f5",
      "metadata": {
        "id": "fc3281f5"
      },
      "outputs": [],
      "source": [
        "from sklearn.preprocessing import LabelEncoder"
      ]
    },
    {
      "cell_type": "code",
      "execution_count": null,
      "id": "68da9f36",
      "metadata": {
        "id": "68da9f36"
      },
      "outputs": [],
      "source": [
        "le = LabelEncoder()"
      ]
    },
    {
      "cell_type": "code",
      "execution_count": null,
      "id": "39dd601e",
      "metadata": {
        "id": "39dd601e"
      },
      "outputs": [],
      "source": [
        "iris['label'] = le.fit_transform(iris['label'])"
      ]
    },
    {
      "cell_type": "code",
      "execution_count": null,
      "id": "585c6cc5",
      "metadata": {
        "id": "585c6cc5"
      },
      "outputs": [],
      "source": [
        "iris"
      ]
    },
    {
      "cell_type": "code",
      "execution_count": null,
      "id": "055f9d91",
      "metadata": {
        "id": "055f9d91"
      },
      "outputs": [],
      "source": [
        "X = iris.iloc[:,0:4].values"
      ]
    },
    {
      "cell_type": "code",
      "execution_count": null,
      "id": "25bd1ae2",
      "metadata": {
        "id": "25bd1ae2"
      },
      "outputs": [],
      "source": [
        "X"
      ]
    },
    {
      "cell_type": "code",
      "execution_count": null,
      "id": "72e0c734",
      "metadata": {
        "id": "72e0c734"
      },
      "outputs": [],
      "source": [
        "y = iris.iloc[:,4].values"
      ]
    },
    {
      "cell_type": "code",
      "execution_count": null,
      "id": "9cdc4389",
      "metadata": {
        "id": "9cdc4389"
      },
      "outputs": [],
      "source": [
        "y"
      ]
    },
    {
      "cell_type": "code",
      "execution_count": null,
      "id": "dad294b4",
      "metadata": {
        "id": "dad294b4"
      },
      "outputs": [],
      "source": [
        "from sklearn.model_selection import train_test_split"
      ]
    },
    {
      "cell_type": "code",
      "execution_count": null,
      "id": "4be59f98",
      "metadata": {
        "id": "4be59f98"
      },
      "outputs": [],
      "source": [
        "X_train,X_test,y_train,y_test = train_test_split(X,y,test_size=0.2,random_state=0)"
      ]
    },
    {
      "cell_type": "markdown",
      "id": "2d4ba070",
      "metadata": {
        "id": "2d4ba070"
      },
      "source": [
        "# StandardScaler"
      ]
    },
    {
      "cell_type": "code",
      "execution_count": null,
      "id": "bb25a30c",
      "metadata": {
        "id": "bb25a30c"
      },
      "outputs": [],
      "source": [
        "from sklearn.preprocessing import StandardScaler"
      ]
    },
    {
      "cell_type": "code",
      "execution_count": null,
      "id": "df13b17c",
      "metadata": {
        "id": "df13b17c"
      },
      "outputs": [],
      "source": [
        "scaler = StandardScaler()"
      ]
    },
    {
      "cell_type": "code",
      "execution_count": null,
      "id": "365a19f5",
      "metadata": {
        "id": "365a19f5"
      },
      "outputs": [],
      "source": [
        "X_train = scaler.fit_transform(X_train)"
      ]
    },
    {
      "cell_type": "code",
      "execution_count": null,
      "id": "aade1b2c",
      "metadata": {
        "id": "aade1b2c"
      },
      "outputs": [],
      "source": [
        "X_train"
      ]
    },
    {
      "cell_type": "code",
      "execution_count": null,
      "id": "7bf779ea",
      "metadata": {
        "id": "7bf779ea"
      },
      "outputs": [],
      "source": [
        "X_test = scaler.transform(X_test)"
      ]
    },
    {
      "cell_type": "code",
      "execution_count": null,
      "id": "6c48d843",
      "metadata": {
        "id": "6c48d843"
      },
      "outputs": [],
      "source": [
        "X_test"
      ]
    },
    {
      "cell_type": "markdown",
      "id": "a130a9fb",
      "metadata": {
        "id": "a130a9fb"
      },
      "source": [
        "# MinMaxScaler"
      ]
    },
    {
      "cell_type": "code",
      "execution_count": null,
      "id": "e67f6043",
      "metadata": {
        "id": "e67f6043"
      },
      "outputs": [],
      "source": [
        "X = iris.iloc[:,0:4].values\n",
        "y = iris.iloc[:,4].values\n",
        "X_train,X_test,y_train,y_test = train_test_split(X,y,test_size=0.2,random_state=0)"
      ]
    },
    {
      "cell_type": "code",
      "execution_count": null,
      "id": "7d70243f",
      "metadata": {
        "id": "7d70243f"
      },
      "outputs": [],
      "source": [
        "X_train"
      ]
    },
    {
      "cell_type": "code",
      "execution_count": null,
      "id": "461f726e",
      "metadata": {
        "id": "461f726e"
      },
      "outputs": [],
      "source": [
        "from sklearn.preprocessing import MinMaxScaler"
      ]
    },
    {
      "cell_type": "code",
      "execution_count": null,
      "id": "7ac80eaf",
      "metadata": {
        "id": "7ac80eaf"
      },
      "outputs": [],
      "source": [
        "min_max_scaler = MinMaxScaler(feature_range=(0,1))"
      ]
    },
    {
      "cell_type": "code",
      "execution_count": null,
      "id": "16b76ce2",
      "metadata": {
        "id": "16b76ce2"
      },
      "outputs": [],
      "source": [
        "X_train_min_max = min_max_scaler.fit_transform(X_train)"
      ]
    },
    {
      "cell_type": "code",
      "execution_count": null,
      "id": "feb80fad",
      "metadata": {
        "id": "feb80fad"
      },
      "outputs": [],
      "source": [
        "X_train_min_max"
      ]
    },
    {
      "cell_type": "code",
      "execution_count": null,
      "id": "f827f4b3",
      "metadata": {
        "id": "f827f4b3"
      },
      "outputs": [],
      "source": [
        "X_test_min_max = min_max_scaler.transform(X_test)"
      ]
    },
    {
      "cell_type": "markdown",
      "id": "8f7f9434",
      "metadata": {
        "id": "8f7f9434"
      },
      "source": [
        "# MaxABSScaler"
      ]
    },
    {
      "cell_type": "code",
      "execution_count": null,
      "id": "66266de2",
      "metadata": {
        "id": "66266de2"
      },
      "outputs": [],
      "source": [
        "from sklearn.preprocessing import MaxAbsScaler"
      ]
    },
    {
      "cell_type": "code",
      "execution_count": null,
      "id": "ba59dc0b",
      "metadata": {
        "id": "ba59dc0b"
      },
      "outputs": [],
      "source": [
        "max_abs = MaxAbsScaler()"
      ]
    },
    {
      "cell_type": "code",
      "execution_count": null,
      "id": "743cb6c3",
      "metadata": {
        "id": "743cb6c3"
      },
      "outputs": [],
      "source": [
        "X_train_max_abs = max_abs.fit_transform(X_train)"
      ]
    },
    {
      "cell_type": "code",
      "execution_count": null,
      "id": "f50b8a7e",
      "metadata": {
        "id": "f50b8a7e"
      },
      "outputs": [],
      "source": [
        "X_train_max_abs"
      ]
    },
    {
      "cell_type": "code",
      "execution_count": null,
      "id": "d460be42",
      "metadata": {
        "id": "d460be42"
      },
      "outputs": [],
      "source": [
        "X_test_max_abs = max_abs.transform(X_test)"
      ]
    },
    {
      "cell_type": "code",
      "execution_count": null,
      "id": "1217e395",
      "metadata": {
        "id": "1217e395"
      },
      "outputs": [],
      "source": [
        "X_test_max_abs"
      ]
    },
    {
      "cell_type": "markdown",
      "id": "c66cce8d",
      "metadata": {
        "id": "c66cce8d"
      },
      "source": [
        "# Inputing Missing Values"
      ]
    },
    {
      "cell_type": "code",
      "execution_count": null,
      "id": "dca73683",
      "metadata": {
        "id": "dca73683"
      },
      "outputs": [],
      "source": [
        "test = np.array([[1,2],[7,8],[1,8],[np.nan,np.nan]])"
      ]
    },
    {
      "cell_type": "code",
      "execution_count": null,
      "id": "85924113",
      "metadata": {
        "id": "85924113"
      },
      "outputs": [],
      "source": [
        "test"
      ]
    },
    {
      "cell_type": "code",
      "execution_count": null,
      "id": "670253d6",
      "metadata": {
        "id": "670253d6"
      },
      "outputs": [],
      "source": [
        "from sklearn.impute import SimpleImputer"
      ]
    },
    {
      "cell_type": "code",
      "execution_count": null,
      "id": "f515d155",
      "metadata": {
        "id": "f515d155"
      },
      "outputs": [],
      "source": [
        "imp = SimpleImputer(missing_values=np.nan, strategy='most_frequent')"
      ]
    },
    {
      "cell_type": "code",
      "execution_count": null,
      "id": "e051b4a1",
      "metadata": {
        "id": "e051b4a1"
      },
      "outputs": [],
      "source": [
        "test_1 = imp.fit_transform(test)"
      ]
    },
    {
      "cell_type": "code",
      "execution_count": null,
      "id": "473ee6ee",
      "metadata": {
        "id": "473ee6ee"
      },
      "outputs": [],
      "source": [
        "test_1"
      ]
    },
    {
      "cell_type": "code",
      "execution_count": null,
      "id": "a16b8c42",
      "metadata": {
        "id": "a16b8c42"
      },
      "outputs": [],
      "source": [
        "imp = SimpleImputer(missing_values=np.nan, strategy='mean')"
      ]
    },
    {
      "cell_type": "code",
      "execution_count": null,
      "id": "67854c89",
      "metadata": {
        "id": "67854c89"
      },
      "outputs": [],
      "source": [
        "test_2 = imp.fit_transform(test)"
      ]
    },
    {
      "cell_type": "code",
      "execution_count": null,
      "id": "aaa3d429",
      "metadata": {
        "id": "aaa3d429"
      },
      "outputs": [],
      "source": [
        "test_2"
      ]
    },
    {
      "cell_type": "code",
      "execution_count": null,
      "id": "abe20d31",
      "metadata": {
        "id": "abe20d31"
      },
      "outputs": [],
      "source": [
        "imp = SimpleImputer(missing_values=np.nan, strategy='median')"
      ]
    },
    {
      "cell_type": "code",
      "execution_count": null,
      "id": "3ec75507",
      "metadata": {
        "id": "3ec75507"
      },
      "outputs": [],
      "source": [
        "test_3 = imp.fit_transform(test)"
      ]
    },
    {
      "cell_type": "code",
      "execution_count": null,
      "id": "285777bf",
      "metadata": {
        "id": "285777bf"
      },
      "outputs": [],
      "source": [
        "test_3"
      ]
    },
    {
      "cell_type": "code",
      "execution_count": null,
      "id": "cb4034fe",
      "metadata": {
        "id": "cb4034fe"
      },
      "outputs": [],
      "source": [
        "imp = SimpleImputer(missing_values=np.nan, strategy='constant')"
      ]
    },
    {
      "cell_type": "code",
      "execution_count": null,
      "id": "08a113c5",
      "metadata": {
        "id": "08a113c5"
      },
      "outputs": [],
      "source": [
        "test_4 = imp.fit_transform(test)"
      ]
    },
    {
      "cell_type": "code",
      "execution_count": null,
      "id": "4e24de4e",
      "metadata": {
        "id": "4e24de4e"
      },
      "outputs": [],
      "source": [
        "test_4"
      ]
    },
    {
      "cell_type": "code",
      "execution_count": null,
      "id": "7e9e42bd",
      "metadata": {
        "id": "7e9e42bd"
      },
      "outputs": [],
      "source": [
        ""
      ]
    }
  ],
  "metadata": {
    "kernelspec": {
      "display_name": "Python 3",
      "language": "python",
      "name": "python3"
    },
    "language_info": {
      "codemirror_mode": {
        "name": "ipython",
        "version": 3
      },
      "file_extension": ".py",
      "mimetype": "text/x-python",
      "name": "python",
      "nbconvert_exporter": "python",
      "pygments_lexer": "ipython3",
      "version": "3.8.8"
    },
    "colab": {
      "name": "Pract_Preprocessing.ipynb",
      "provenance": [],
      "collapsed_sections": [
        "2d4ba070",
        "a130a9fb",
        "8f7f9434",
        "c66cce8d"
      ]
    }
  },
  "nbformat": 4,
  "nbformat_minor": 5
}