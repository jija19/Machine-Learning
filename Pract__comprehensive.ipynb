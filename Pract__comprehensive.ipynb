{
  "cells": [
    {
      "cell_type": "markdown",
      "id": "9dcb16b3",
      "metadata": {
        "id": "9dcb16b3"
      },
      "source": [
        "# List Comprehensive"
      ]
    },
    {
      "cell_type": "code",
      "execution_count": null,
      "id": "d7966e5d",
      "metadata": {
        "id": "d7966e5d"
      },
      "outputs": [],
      "source": [
        "import numpy as np\n",
        "import pandas as pd"
      ]
    },
    {
      "cell_type": "code",
      "execution_count": null,
      "id": "911d1455",
      "metadata": {
        "id": "911d1455"
      },
      "outputs": [],
      "source": [
        "x = [1,2,3,4,5]"
      ]
    },
    {
      "cell_type": "code",
      "execution_count": null,
      "id": "dddeb1a0",
      "metadata": {
        "id": "dddeb1a0",
        "outputId": "a0140fe0-0c49-406c-beff-27b387373db7"
      },
      "outputs": [
        {
          "data": {
            "text/plain": [
              "5"
            ]
          },
          "execution_count": 3,
          "metadata": {},
          "output_type": "execute_result"
        }
      ],
      "source": [
        "len(x)"
      ]
    },
    {
      "cell_type": "code",
      "execution_count": null,
      "id": "f4695e68",
      "metadata": {
        "id": "f4695e68"
      },
      "outputs": [],
      "source": [
        "out = []\n",
        "for i in x:\n",
        "    out.append(i**2)"
      ]
    },
    {
      "cell_type": "code",
      "execution_count": null,
      "id": "09a2b32d",
      "metadata": {
        "id": "09a2b32d",
        "outputId": "3e67a3e6-9c5e-4f29-a3e0-469b65f653cc"
      },
      "outputs": [
        {
          "data": {
            "text/plain": [
              "[1, 4, 9, 16, 25]"
            ]
          },
          "execution_count": 5,
          "metadata": {},
          "output_type": "execute_result"
        }
      ],
      "source": [
        "out"
      ]
    },
    {
      "cell_type": "code",
      "execution_count": null,
      "id": "89d471e2",
      "metadata": {
        "id": "89d471e2",
        "outputId": "f02fa28e-9fd0-4b23-b942-be6a45075e59"
      },
      "outputs": [
        {
          "data": {
            "text/plain": [
              "[1, 4, 9, 16, 25]"
            ]
          },
          "execution_count": 6,
          "metadata": {},
          "output_type": "execute_result"
        }
      ],
      "source": [
        "[i**2 for i in x]"
      ]
    },
    {
      "cell_type": "code",
      "execution_count": null,
      "id": "8b72a327",
      "metadata": {
        "id": "8b72a327"
      },
      "outputs": [],
      "source": [
        "out1 = [i**3 for i in x]"
      ]
    },
    {
      "cell_type": "code",
      "execution_count": null,
      "id": "17becd83",
      "metadata": {
        "id": "17becd83",
        "outputId": "c1aec60d-fa12-4164-bce8-7734f7451346"
      },
      "outputs": [
        {
          "data": {
            "text/plain": [
              "[1, 8, 27, 64, 125]"
            ]
          },
          "execution_count": 8,
          "metadata": {},
          "output_type": "execute_result"
        }
      ],
      "source": [
        "out1"
      ]
    },
    {
      "cell_type": "code",
      "execution_count": null,
      "id": "41c5f024",
      "metadata": {
        "id": "41c5f024"
      },
      "outputs": [],
      "source": [
        "def add_1(a,b):\n",
        "    c = a+b\n",
        "    return c"
      ]
    },
    {
      "cell_type": "code",
      "execution_count": null,
      "id": "b23a5887",
      "metadata": {
        "id": "b23a5887",
        "outputId": "db320908-b411-42d1-9e58-d79ad888af20"
      },
      "outputs": [
        {
          "data": {
            "text/plain": [
              "function"
            ]
          },
          "execution_count": 10,
          "metadata": {},
          "output_type": "execute_result"
        }
      ],
      "source": [
        "type(add_1)"
      ]
    },
    {
      "cell_type": "code",
      "execution_count": null,
      "id": "1664ea63",
      "metadata": {
        "id": "1664ea63",
        "outputId": "3ac119ff-858a-4637-bebd-96eb6debe35c"
      },
      "outputs": [
        {
          "data": {
            "text/plain": [
              "39"
            ]
          },
          "execution_count": 11,
          "metadata": {},
          "output_type": "execute_result"
        }
      ],
      "source": [
        "add_1 (10,29)"
      ]
    },
    {
      "cell_type": "code",
      "execution_count": null,
      "id": "0930862d",
      "metadata": {
        "id": "0930862d",
        "outputId": "508b8bed-b85d-4496-caf3-58e87f2df1ff"
      },
      "outputs": [
        {
          "data": {
            "text/plain": [
              "666"
            ]
          },
          "execution_count": 12,
          "metadata": {},
          "output_type": "execute_result"
        }
      ],
      "source": [
        "add_1(435,231)"
      ]
    },
    {
      "cell_type": "code",
      "execution_count": null,
      "id": "ae0d478c",
      "metadata": {
        "id": "ae0d478c"
      },
      "outputs": [],
      "source": [
        "def royal(ravi):  #royal ke jagah par koi bhi name likh sakate\n",
        "    print(ravi)"
      ]
    },
    {
      "cell_type": "code",
      "execution_count": null,
      "id": "80c5ccd6",
      "metadata": {
        "id": "80c5ccd6",
        "outputId": "040c08b5-985c-4565-f320-4255c889bf58"
      },
      "outputs": [
        {
          "name": "stdout",
          "output_type": "stream",
          "text": [
            "jija\n"
          ]
        }
      ],
      "source": [
        "royal('jija')"
      ]
    },
    {
      "cell_type": "code",
      "execution_count": null,
      "id": "6547c753",
      "metadata": {
        "id": "6547c753"
      },
      "outputs": [],
      "source": [
        "def square(num):\n",
        "    return num**2"
      ]
    },
    {
      "cell_type": "code",
      "execution_count": null,
      "id": "991838dc",
      "metadata": {
        "id": "991838dc",
        "outputId": "61d66962-6bfa-4940-fd08-521e7b6dd5be"
      },
      "outputs": [
        {
          "data": {
            "text/plain": [
              "81"
            ]
          },
          "execution_count": 16,
          "metadata": {},
          "output_type": "execute_result"
        }
      ],
      "source": [
        "square(9)"
      ]
    },
    {
      "cell_type": "code",
      "execution_count": null,
      "id": "afc3ed64",
      "metadata": {
        "id": "afc3ed64",
        "outputId": "5e240060-1a6d-42cc-ba5b-278addc46181"
      },
      "outputs": [
        {
          "data": {
            "text/plain": [
              "64"
            ]
          },
          "execution_count": 17,
          "metadata": {},
          "output_type": "execute_result"
        }
      ],
      "source": [
        "square(8)"
      ]
    },
    {
      "cell_type": "code",
      "execution_count": null,
      "id": "4131dd98",
      "metadata": {
        "id": "4131dd98"
      },
      "outputs": [],
      "source": [
        "x = [3,4,2,5,6,7]"
      ]
    },
    {
      "cell_type": "code",
      "execution_count": null,
      "id": "4810e0b1",
      "metadata": {
        "id": "4810e0b1",
        "outputId": "f4d7e010-0bbb-43e5-9734-f91ff1e28dd8"
      },
      "outputs": [
        {
          "data": {
            "text/plain": [
              "[3, 4, 2, 5, 6, 7]"
            ]
          },
          "execution_count": 19,
          "metadata": {},
          "output_type": "execute_result"
        }
      ],
      "source": [
        "x"
      ]
    },
    {
      "cell_type": "code",
      "execution_count": null,
      "id": "e50c4dde",
      "metadata": {
        "id": "e50c4dde",
        "outputId": "4d30d091-ddd7-44cd-839b-f9a18be1e36f"
      },
      "outputs": [
        {
          "data": {
            "text/plain": [
              "<map at 0x208e9f05910>"
            ]
          },
          "execution_count": 20,
          "metadata": {},
          "output_type": "execute_result"
        }
      ],
      "source": [
        "map(square,x)"
      ]
    },
    {
      "cell_type": "code",
      "execution_count": null,
      "id": "d0a4ea7f",
      "metadata": {
        "id": "d0a4ea7f",
        "outputId": "22fe0157-09aa-4913-afeb-988668d5b956"
      },
      "outputs": [
        {
          "data": {
            "text/plain": [
              "[9, 16, 4, 25, 36, 49]"
            ]
          },
          "execution_count": 21,
          "metadata": {},
          "output_type": "execute_result"
        }
      ],
      "source": [
        "list(map(square,x))"
      ]
    },
    {
      "cell_type": "code",
      "execution_count": null,
      "id": "88e767ac",
      "metadata": {
        "id": "88e767ac"
      },
      "outputs": [],
      "source": [
        "def times2(num):return num**2"
      ]
    },
    {
      "cell_type": "code",
      "execution_count": null,
      "id": "ee869275",
      "metadata": {
        "id": "ee869275",
        "outputId": "18f27a61-2612-4ffb-9a5b-0f7bd37e1d22"
      },
      "outputs": [
        {
          "data": {
            "text/plain": [
              "4"
            ]
          },
          "execution_count": 23,
          "metadata": {},
          "output_type": "execute_result"
        }
      ],
      "source": [
        "times2(2)"
      ]
    },
    {
      "cell_type": "code",
      "execution_count": null,
      "id": "ca36c9d7",
      "metadata": {
        "id": "ca36c9d7",
        "outputId": "71e1f6a9-d6d5-43f6-d11b-e5c487ab735a"
      },
      "outputs": [
        {
          "data": {
            "text/plain": [
              "<function __main__.<lambda>(num)>"
            ]
          },
          "execution_count": 24,
          "metadata": {},
          "output_type": "execute_result"
        }
      ],
      "source": [
        "lambda num:num**2"
      ]
    },
    {
      "cell_type": "code",
      "execution_count": null,
      "id": "440391aa",
      "metadata": {
        "id": "440391aa"
      },
      "outputs": [],
      "source": [
        "f= lambda num:num**2"
      ]
    },
    {
      "cell_type": "code",
      "execution_count": null,
      "id": "9a9087c2",
      "metadata": {
        "id": "9a9087c2",
        "outputId": "db31a2ce-8845-4972-a628-b72a6370bfce"
      },
      "outputs": [
        {
          "data": {
            "text/plain": [
              "16"
            ]
          },
          "execution_count": 26,
          "metadata": {},
          "output_type": "execute_result"
        }
      ],
      "source": [
        "f(4)"
      ]
    },
    {
      "cell_type": "code",
      "execution_count": null,
      "id": "24484db0",
      "metadata": {
        "id": "24484db0",
        "outputId": "cf949561-ae87-45f9-ca20-f49a59c437ca"
      },
      "outputs": [
        {
          "data": {
            "text/plain": [
              "[9, 16, 4, 25, 36, 49]"
            ]
          },
          "execution_count": 27,
          "metadata": {},
          "output_type": "execute_result"
        }
      ],
      "source": [
        "list (map(f,x))"
      ]
    },
    {
      "cell_type": "code",
      "execution_count": null,
      "id": "d137951d",
      "metadata": {
        "id": "d137951d",
        "outputId": "2c954d3d-44cc-4222-8ea5-b0951b6f629a"
      },
      "outputs": [
        {
          "data": {
            "text/plain": [
              "[27, 64, 8, 125, 216, 343]"
            ]
          },
          "execution_count": 28,
          "metadata": {},
          "output_type": "execute_result"
        }
      ],
      "source": [
        "list(map(lambda num:num**3,x))"
      ]
    },
    {
      "cell_type": "code",
      "execution_count": null,
      "id": "d6058261",
      "metadata": {
        "id": "d6058261"
      },
      "outputs": [],
      "source": [
        "#pip install pytube"
      ]
    },
    {
      "cell_type": "code",
      "execution_count": null,
      "id": "77166aa5",
      "metadata": {
        "id": "77166aa5"
      },
      "outputs": [],
      "source": [
        "from pytube import YouTube"
      ]
    },
    {
      "cell_type": "code",
      "execution_count": null,
      "id": "30776e9e",
      "metadata": {
        "id": "30776e9e"
      },
      "outputs": [],
      "source": [
        "link = input(\"https://www.youtube.com/watch?v=0Y-ppmAYIQE\")\n",
        "video = YouTube(link)\n",
        "stream = video.stream.get_highest_resolution()\n",
        "stream.download()\n"
      ]
    },
    {
      "cell_type": "code",
      "execution_count": null,
      "id": "37ddbcee",
      "metadata": {
        "id": "37ddbcee"
      },
      "outputs": [],
      "source": [
        ""
      ]
    }
  ],
  "metadata": {
    "kernelspec": {
      "display_name": "Python 3",
      "language": "python",
      "name": "python3"
    },
    "language_info": {
      "codemirror_mode": {
        "name": "ipython",
        "version": 3
      },
      "file_extension": ".py",
      "mimetype": "text/x-python",
      "name": "python",
      "nbconvert_exporter": "python",
      "pygments_lexer": "ipython3",
      "version": "3.8.8"
    },
    "colab": {
      "name": "Pract_ comprehensive.ipynb",
      "provenance": [],
      "collapsed_sections": []
    }
  },
  "nbformat": 4,
  "nbformat_minor": 5
}