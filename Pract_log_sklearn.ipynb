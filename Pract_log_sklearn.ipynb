{
  "cells": [
    {
      "cell_type": "code",
      "execution_count": null,
      "id": "e20b101a",
      "metadata": {
        "id": "e20b101a"
      },
      "outputs": [],
      "source": [
        "import numpy as np\n",
        "import pandas as pd\n",
        "import matplotlib.pyplot as plt\n",
        "import seaborn as sns\n",
        "sns.set_style('whitegrid')"
      ]
    },
    {
      "cell_type": "code",
      "execution_count": null,
      "id": "839ae713",
      "metadata": {
        "id": "839ae713"
      },
      "outputs": [],
      "source": [
        "data = pd.read_csv('binary_log.csv')"
      ]
    },
    {
      "cell_type": "code",
      "execution_count": null,
      "id": "535377ab",
      "metadata": {
        "id": "535377ab",
        "outputId": "d6221c69-e28b-478d-a646-503b1aaca0f4"
      },
      "outputs": [
        {
          "data": {
            "text/html": [
              "<div>\n",
              "<style scoped>\n",
              "    .dataframe tbody tr th:only-of-type {\n",
              "        vertical-align: middle;\n",
              "    }\n",
              "\n",
              "    .dataframe tbody tr th {\n",
              "        vertical-align: top;\n",
              "    }\n",
              "\n",
              "    .dataframe thead th {\n",
              "        text-align: right;\n",
              "    }\n",
              "</style>\n",
              "<table border=\"1\" class=\"dataframe\">\n",
              "  <thead>\n",
              "    <tr style=\"text-align: right;\">\n",
              "      <th></th>\n",
              "      <th>SAT</th>\n",
              "      <th>Admitted</th>\n",
              "      <th>Gender</th>\n",
              "    </tr>\n",
              "  </thead>\n",
              "  <tbody>\n",
              "    <tr>\n",
              "      <th>0</th>\n",
              "      <td>1363</td>\n",
              "      <td>No</td>\n",
              "      <td>Male</td>\n",
              "    </tr>\n",
              "    <tr>\n",
              "      <th>1</th>\n",
              "      <td>1792</td>\n",
              "      <td>Yes</td>\n",
              "      <td>Female</td>\n",
              "    </tr>\n",
              "    <tr>\n",
              "      <th>2</th>\n",
              "      <td>1954</td>\n",
              "      <td>Yes</td>\n",
              "      <td>Female</td>\n",
              "    </tr>\n",
              "    <tr>\n",
              "      <th>3</th>\n",
              "      <td>1653</td>\n",
              "      <td>No</td>\n",
              "      <td>Male</td>\n",
              "    </tr>\n",
              "    <tr>\n",
              "      <th>4</th>\n",
              "      <td>1593</td>\n",
              "      <td>No</td>\n",
              "      <td>Male</td>\n",
              "    </tr>\n",
              "    <tr>\n",
              "      <th>...</th>\n",
              "      <td>...</td>\n",
              "      <td>...</td>\n",
              "      <td>...</td>\n",
              "    </tr>\n",
              "    <tr>\n",
              "      <th>163</th>\n",
              "      <td>1722</td>\n",
              "      <td>Yes</td>\n",
              "      <td>Female</td>\n",
              "    </tr>\n",
              "    <tr>\n",
              "      <th>164</th>\n",
              "      <td>1750</td>\n",
              "      <td>Yes</td>\n",
              "      <td>Male</td>\n",
              "    </tr>\n",
              "    <tr>\n",
              "      <th>165</th>\n",
              "      <td>1555</td>\n",
              "      <td>No</td>\n",
              "      <td>Male</td>\n",
              "    </tr>\n",
              "    <tr>\n",
              "      <th>166</th>\n",
              "      <td>1524</td>\n",
              "      <td>No</td>\n",
              "      <td>Male</td>\n",
              "    </tr>\n",
              "    <tr>\n",
              "      <th>167</th>\n",
              "      <td>1461</td>\n",
              "      <td>No</td>\n",
              "      <td>Male</td>\n",
              "    </tr>\n",
              "  </tbody>\n",
              "</table>\n",
              "<p>168 rows × 3 columns</p>\n",
              "</div>"
            ],
            "text/plain": [
              "      SAT Admitted  Gender\n",
              "0    1363       No    Male\n",
              "1    1792      Yes  Female\n",
              "2    1954      Yes  Female\n",
              "3    1653       No    Male\n",
              "4    1593       No    Male\n",
              "..    ...      ...     ...\n",
              "163  1722      Yes  Female\n",
              "164  1750      Yes    Male\n",
              "165  1555       No    Male\n",
              "166  1524       No    Male\n",
              "167  1461       No    Male\n",
              "\n",
              "[168 rows x 3 columns]"
            ]
          },
          "execution_count": 3,
          "metadata": {},
          "output_type": "execute_result"
        }
      ],
      "source": [
        "data"
      ]
    },
    {
      "cell_type": "code",
      "execution_count": null,
      "id": "f5f32f18",
      "metadata": {
        "id": "f5f32f18"
      },
      "outputs": [],
      "source": [
        "data['Admitted'] = data['Admitted'].map({'Yes':1,'No':0})\n",
        "data['Gender'] = data['Gender'].map({'Female':1,'Male':0})"
      ]
    },
    {
      "cell_type": "code",
      "execution_count": null,
      "id": "3c35f94b",
      "metadata": {
        "id": "3c35f94b",
        "outputId": "631a39db-467c-43f6-f34d-0ec75a3f3a4d"
      },
      "outputs": [
        {
          "data": {
            "text/html": [
              "<div>\n",
              "<style scoped>\n",
              "    .dataframe tbody tr th:only-of-type {\n",
              "        vertical-align: middle;\n",
              "    }\n",
              "\n",
              "    .dataframe tbody tr th {\n",
              "        vertical-align: top;\n",
              "    }\n",
              "\n",
              "    .dataframe thead th {\n",
              "        text-align: right;\n",
              "    }\n",
              "</style>\n",
              "<table border=\"1\" class=\"dataframe\">\n",
              "  <thead>\n",
              "    <tr style=\"text-align: right;\">\n",
              "      <th></th>\n",
              "      <th>SAT</th>\n",
              "      <th>Admitted</th>\n",
              "      <th>Gender</th>\n",
              "    </tr>\n",
              "  </thead>\n",
              "  <tbody>\n",
              "    <tr>\n",
              "      <th>0</th>\n",
              "      <td>1363</td>\n",
              "      <td>0</td>\n",
              "      <td>0</td>\n",
              "    </tr>\n",
              "    <tr>\n",
              "      <th>1</th>\n",
              "      <td>1792</td>\n",
              "      <td>1</td>\n",
              "      <td>1</td>\n",
              "    </tr>\n",
              "    <tr>\n",
              "      <th>2</th>\n",
              "      <td>1954</td>\n",
              "      <td>1</td>\n",
              "      <td>1</td>\n",
              "    </tr>\n",
              "    <tr>\n",
              "      <th>3</th>\n",
              "      <td>1653</td>\n",
              "      <td>0</td>\n",
              "      <td>0</td>\n",
              "    </tr>\n",
              "    <tr>\n",
              "      <th>4</th>\n",
              "      <td>1593</td>\n",
              "      <td>0</td>\n",
              "      <td>0</td>\n",
              "    </tr>\n",
              "    <tr>\n",
              "      <th>...</th>\n",
              "      <td>...</td>\n",
              "      <td>...</td>\n",
              "      <td>...</td>\n",
              "    </tr>\n",
              "    <tr>\n",
              "      <th>163</th>\n",
              "      <td>1722</td>\n",
              "      <td>1</td>\n",
              "      <td>1</td>\n",
              "    </tr>\n",
              "    <tr>\n",
              "      <th>164</th>\n",
              "      <td>1750</td>\n",
              "      <td>1</td>\n",
              "      <td>0</td>\n",
              "    </tr>\n",
              "    <tr>\n",
              "      <th>165</th>\n",
              "      <td>1555</td>\n",
              "      <td>0</td>\n",
              "      <td>0</td>\n",
              "    </tr>\n",
              "    <tr>\n",
              "      <th>166</th>\n",
              "      <td>1524</td>\n",
              "      <td>0</td>\n",
              "      <td>0</td>\n",
              "    </tr>\n",
              "    <tr>\n",
              "      <th>167</th>\n",
              "      <td>1461</td>\n",
              "      <td>0</td>\n",
              "      <td>0</td>\n",
              "    </tr>\n",
              "  </tbody>\n",
              "</table>\n",
              "<p>168 rows × 3 columns</p>\n",
              "</div>"
            ],
            "text/plain": [
              "      SAT  Admitted  Gender\n",
              "0    1363         0       0\n",
              "1    1792         1       1\n",
              "2    1954         1       1\n",
              "3    1653         0       0\n",
              "4    1593         0       0\n",
              "..    ...       ...     ...\n",
              "163  1722         1       1\n",
              "164  1750         1       0\n",
              "165  1555         0       0\n",
              "166  1524         0       0\n",
              "167  1461         0       0\n",
              "\n",
              "[168 rows x 3 columns]"
            ]
          },
          "execution_count": 5,
          "metadata": {},
          "output_type": "execute_result"
        }
      ],
      "source": [
        "data"
      ]
    },
    {
      "cell_type": "code",
      "execution_count": null,
      "id": "64785bfd",
      "metadata": {
        "id": "64785bfd"
      },
      "outputs": [],
      "source": [
        "y = data['Admitted'] "
      ]
    },
    {
      "cell_type": "code",
      "execution_count": null,
      "id": "1452bb8c",
      "metadata": {
        "id": "1452bb8c",
        "outputId": "c4d809e4-2c97-48ee-d788-cccb0306ecd2"
      },
      "outputs": [
        {
          "data": {
            "text/plain": [
              "0      0\n",
              "1      1\n",
              "2      1\n",
              "3      0\n",
              "4      0\n",
              "      ..\n",
              "163    1\n",
              "164    1\n",
              "165    0\n",
              "166    0\n",
              "167    0\n",
              "Name: Admitted, Length: 168, dtype: int64"
            ]
          },
          "execution_count": 7,
          "metadata": {},
          "output_type": "execute_result"
        }
      ],
      "source": [
        "y"
      ]
    },
    {
      "cell_type": "code",
      "execution_count": null,
      "id": "ed2f3f90",
      "metadata": {
        "id": "ed2f3f90"
      },
      "outputs": [],
      "source": [
        "x=  data[['SAT','Gender']] "
      ]
    },
    {
      "cell_type": "code",
      "execution_count": null,
      "id": "87c3d2bf",
      "metadata": {
        "id": "87c3d2bf",
        "outputId": "d12a990f-50d0-41be-8d73-55cabe4e1bfa"
      },
      "outputs": [
        {
          "data": {
            "text/html": [
              "<div>\n",
              "<style scoped>\n",
              "    .dataframe tbody tr th:only-of-type {\n",
              "        vertical-align: middle;\n",
              "    }\n",
              "\n",
              "    .dataframe tbody tr th {\n",
              "        vertical-align: top;\n",
              "    }\n",
              "\n",
              "    .dataframe thead th {\n",
              "        text-align: right;\n",
              "    }\n",
              "</style>\n",
              "<table border=\"1\" class=\"dataframe\">\n",
              "  <thead>\n",
              "    <tr style=\"text-align: right;\">\n",
              "      <th></th>\n",
              "      <th>SAT</th>\n",
              "      <th>Gender</th>\n",
              "    </tr>\n",
              "  </thead>\n",
              "  <tbody>\n",
              "    <tr>\n",
              "      <th>0</th>\n",
              "      <td>1363</td>\n",
              "      <td>0</td>\n",
              "    </tr>\n",
              "    <tr>\n",
              "      <th>1</th>\n",
              "      <td>1792</td>\n",
              "      <td>1</td>\n",
              "    </tr>\n",
              "    <tr>\n",
              "      <th>2</th>\n",
              "      <td>1954</td>\n",
              "      <td>1</td>\n",
              "    </tr>\n",
              "    <tr>\n",
              "      <th>3</th>\n",
              "      <td>1653</td>\n",
              "      <td>0</td>\n",
              "    </tr>\n",
              "    <tr>\n",
              "      <th>4</th>\n",
              "      <td>1593</td>\n",
              "      <td>0</td>\n",
              "    </tr>\n",
              "    <tr>\n",
              "      <th>...</th>\n",
              "      <td>...</td>\n",
              "      <td>...</td>\n",
              "    </tr>\n",
              "    <tr>\n",
              "      <th>163</th>\n",
              "      <td>1722</td>\n",
              "      <td>1</td>\n",
              "    </tr>\n",
              "    <tr>\n",
              "      <th>164</th>\n",
              "      <td>1750</td>\n",
              "      <td>0</td>\n",
              "    </tr>\n",
              "    <tr>\n",
              "      <th>165</th>\n",
              "      <td>1555</td>\n",
              "      <td>0</td>\n",
              "    </tr>\n",
              "    <tr>\n",
              "      <th>166</th>\n",
              "      <td>1524</td>\n",
              "      <td>0</td>\n",
              "    </tr>\n",
              "    <tr>\n",
              "      <th>167</th>\n",
              "      <td>1461</td>\n",
              "      <td>0</td>\n",
              "    </tr>\n",
              "  </tbody>\n",
              "</table>\n",
              "<p>168 rows × 2 columns</p>\n",
              "</div>"
            ],
            "text/plain": [
              "      SAT  Gender\n",
              "0    1363       0\n",
              "1    1792       1\n",
              "2    1954       1\n",
              "3    1653       0\n",
              "4    1593       0\n",
              "..    ...     ...\n",
              "163  1722       1\n",
              "164  1750       0\n",
              "165  1555       0\n",
              "166  1524       0\n",
              "167  1461       0\n",
              "\n",
              "[168 rows x 2 columns]"
            ]
          },
          "execution_count": 9,
          "metadata": {},
          "output_type": "execute_result"
        }
      ],
      "source": [
        "x"
      ]
    },
    {
      "cell_type": "code",
      "execution_count": null,
      "id": "40eec66e",
      "metadata": {
        "id": "40eec66e"
      },
      "outputs": [],
      "source": [
        "from sklearn.model_selection import train_test_split"
      ]
    },
    {
      "cell_type": "code",
      "execution_count": null,
      "id": "b92ed489",
      "metadata": {
        "id": "b92ed489"
      },
      "outputs": [],
      "source": [
        "X_train,X_test,y_train,y_test = train_test_split(x,y,test_size=0.20,random_state=0)"
      ]
    },
    {
      "cell_type": "code",
      "execution_count": null,
      "id": "ce2e48c7",
      "metadata": {
        "id": "ce2e48c7",
        "outputId": "722786d3-ff84-49d3-cf56-67ad39da2190"
      },
      "outputs": [
        {
          "data": {
            "text/plain": [
              "(134, 2)"
            ]
          },
          "execution_count": 12,
          "metadata": {},
          "output_type": "execute_result"
        }
      ],
      "source": [
        "X_train.shape"
      ]
    },
    {
      "cell_type": "code",
      "execution_count": null,
      "id": "7d47f5d1",
      "metadata": {
        "id": "7d47f5d1",
        "outputId": "f4016cf3-90ea-4227-800f-e4ba57490b50"
      },
      "outputs": [
        {
          "data": {
            "text/plain": [
              "(34, 2)"
            ]
          },
          "execution_count": 13,
          "metadata": {},
          "output_type": "execute_result"
        }
      ],
      "source": [
        "X_test.shape"
      ]
    },
    {
      "cell_type": "code",
      "execution_count": null,
      "id": "2af717ef",
      "metadata": {
        "id": "2af717ef"
      },
      "outputs": [],
      "source": [
        "from sklearn.linear_model import LogisticRegression"
      ]
    },
    {
      "cell_type": "code",
      "execution_count": null,
      "id": "13be4ea2",
      "metadata": {
        "id": "13be4ea2"
      },
      "outputs": [],
      "source": [
        "log_reg = LogisticRegression()"
      ]
    },
    {
      "cell_type": "code",
      "execution_count": null,
      "id": "2e750eb2",
      "metadata": {
        "id": "2e750eb2",
        "outputId": "975de675-60c2-4610-d267-4593f54454d5"
      },
      "outputs": [
        {
          "data": {
            "text/plain": [
              "LogisticRegression()"
            ]
          },
          "execution_count": 16,
          "metadata": {},
          "output_type": "execute_result"
        }
      ],
      "source": [
        "log_reg.fit(X_train,y_train)"
      ]
    },
    {
      "cell_type": "code",
      "execution_count": null,
      "id": "d365bd85",
      "metadata": {
        "id": "d365bd85"
      },
      "outputs": [],
      "source": [
        "pred = log_reg.predict(X_test)"
      ]
    },
    {
      "cell_type": "code",
      "execution_count": null,
      "id": "ad1d1886",
      "metadata": {
        "id": "ad1d1886",
        "outputId": "0d7d460e-49d3-4ed7-b979-1fad8d5ee501"
      },
      "outputs": [
        {
          "data": {
            "text/plain": [
              "array([1, 0, 0, 0, 1, 1, 1, 1, 0, 0, 1, 0, 1, 0, 1, 0, 1, 0, 0, 1, 1, 1,\n",
              "       1, 0, 0, 1, 0, 1, 0, 1, 1, 0, 0, 1], dtype=int64)"
            ]
          },
          "execution_count": 18,
          "metadata": {},
          "output_type": "execute_result"
        }
      ],
      "source": [
        "pred"
      ]
    },
    {
      "cell_type": "code",
      "execution_count": null,
      "id": "667f5338",
      "metadata": {
        "id": "667f5338",
        "outputId": "0a01b18a-8f10-4b22-edb4-475cd9e0c4ec"
      },
      "outputs": [
        {
          "data": {
            "text/plain": [
              "151    1\n",
              "56     0\n",
              "123    0\n",
              "60     0\n",
              "100    1\n",
              "51     1\n",
              "7      1\n",
              "5      1\n",
              "86     0\n",
              "135    0\n",
              "54     1\n",
              "94     0\n",
              "157    1\n",
              "101    0\n",
              "73     1\n",
              "45     0\n",
              "74     1\n",
              "97     0\n",
              "139    0\n",
              "96     1\n",
              "107    1\n",
              "106    1\n",
              "150    1\n",
              "166    0\n",
              "55     0\n",
              "152    1\n",
              "26     1\n",
              "143    1\n",
              "155    0\n",
              "33     1\n",
              "8      1\n",
              "108    0\n",
              "122    0\n",
              "37     1\n",
              "Name: Admitted, dtype: int64"
            ]
          },
          "execution_count": 19,
          "metadata": {},
          "output_type": "execute_result"
        }
      ],
      "source": [
        "y_test"
      ]
    },
    {
      "cell_type": "code",
      "execution_count": null,
      "id": "41ef002d",
      "metadata": {
        "id": "41ef002d",
        "outputId": "f9cffebd-1196-4ece-82c8-12d51cfed27c"
      },
      "outputs": [
        {
          "data": {
            "text/plain": [
              "array([[0.  , 1.  ],\n",
              "       [0.55, 0.45],\n",
              "       [1.  , 0.  ],\n",
              "       [0.99, 0.01],\n",
              "       [0.01, 0.99],\n",
              "       [0.  , 1.  ],\n",
              "       [0.  , 1.  ],\n",
              "       [0.01, 0.99],\n",
              "       [1.  , 0.  ],\n",
              "       [1.  , 0.  ],\n",
              "       [0.  , 1.  ],\n",
              "       [1.  , 0.  ],\n",
              "       [0.  , 1.  ],\n",
              "       [1.  , 0.  ],\n",
              "       [0.01, 0.99],\n",
              "       [1.  , 0.  ],\n",
              "       [0.  , 1.  ],\n",
              "       [0.99, 0.01],\n",
              "       [0.99, 0.01],\n",
              "       [0.  , 1.  ],\n",
              "       [0.  , 1.  ],\n",
              "       [0.01, 0.99],\n",
              "       [0.  , 1.  ],\n",
              "       [1.  , 0.  ],\n",
              "       [1.  , 0.  ],\n",
              "       [0.  , 1.  ],\n",
              "       [0.68, 0.32],\n",
              "       [0.01, 0.99],\n",
              "       [1.  , 0.  ],\n",
              "       [0.  , 1.  ],\n",
              "       [0.  , 1.  ],\n",
              "       [1.  , 0.  ],\n",
              "       [1.  , 0.  ],\n",
              "       [0.  , 1.  ]])"
            ]
          },
          "execution_count": 20,
          "metadata": {},
          "output_type": "execute_result"
        }
      ],
      "source": [
        "log_reg.predict_proba(X_test).round(2)"
      ]
    },
    {
      "cell_type": "code",
      "execution_count": null,
      "id": "329f7dc6",
      "metadata": {
        "id": "329f7dc6"
      },
      "outputs": [],
      "source": [
        "from sklearn.metrics import confusion_matrix"
      ]
    },
    {
      "cell_type": "code",
      "execution_count": null,
      "id": "4322baed",
      "metadata": {
        "id": "4322baed",
        "outputId": "90b9a2ab-662c-46a5-ff97-8eb8efbfa029"
      },
      "outputs": [
        {
          "name": "stdout",
          "output_type": "stream",
          "text": [
            "[[15  0]\n",
            " [ 1 18]]\n"
          ]
        }
      ],
      "source": [
        "print(confusion_matrix(y_test,pred))"
      ]
    },
    {
      "cell_type": "code",
      "execution_count": null,
      "id": "6412cc17",
      "metadata": {
        "id": "6412cc17"
      },
      "outputs": [],
      "source": [
        "from sklearn.metrics import classification_report"
      ]
    },
    {
      "cell_type": "code",
      "execution_count": null,
      "id": "604b99a1",
      "metadata": {
        "id": "604b99a1",
        "outputId": "1d7b1be0-fce4-496f-e2ed-15e55b899d1f"
      },
      "outputs": [
        {
          "name": "stdout",
          "output_type": "stream",
          "text": [
            "              precision    recall  f1-score   support\n",
            "\n",
            "           0       0.94      1.00      0.97        15\n",
            "           1       1.00      0.95      0.97        19\n",
            "\n",
            "    accuracy                           0.97        34\n",
            "   macro avg       0.97      0.97      0.97        34\n",
            "weighted avg       0.97      0.97      0.97        34\n",
            "\n"
          ]
        }
      ],
      "source": [
        "print(classification_report(y_test,pred))"
      ]
    },
    {
      "cell_type": "code",
      "execution_count": null,
      "id": "a7fb837d",
      "metadata": {
        "id": "a7fb837d"
      },
      "outputs": [],
      "source": [
        ""
      ]
    }
  ],
  "metadata": {
    "kernelspec": {
      "display_name": "Python 3",
      "language": "python",
      "name": "python3"
    },
    "language_info": {
      "codemirror_mode": {
        "name": "ipython",
        "version": 3
      },
      "file_extension": ".py",
      "mimetype": "text/x-python",
      "name": "python",
      "nbconvert_exporter": "python",
      "pygments_lexer": "ipython3",
      "version": "3.8.8"
    },
    "colab": {
      "name": "Pract-log_sklearn.ipynb",
      "provenance": [],
      "collapsed_sections": []
    }
  },
  "nbformat": 4,
  "nbformat_minor": 5
}