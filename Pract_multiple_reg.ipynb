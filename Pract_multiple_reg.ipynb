{
  "cells": [
    {
      "cell_type": "code",
      "execution_count": null,
      "id": "2436fc6f",
      "metadata": {
        "id": "2436fc6f"
      },
      "outputs": [],
      "source": [
        "import numpy as np\n",
        "import pandas as pd\n",
        "import matplotlib.pyplot as plt\n",
        "import seaborn as sns\n",
        "import statsmodels.api as sm\n",
        "sns.set_style('whitegrid')"
      ]
    },
    {
      "cell_type": "code",
      "execution_count": null,
      "id": "a4270694",
      "metadata": {
        "id": "a4270694"
      },
      "outputs": [],
      "source": [
        "# Regression\n",
        "from sklearn.linear_model import LinearRegression"
      ]
    },
    {
      "cell_type": "code",
      "execution_count": null,
      "id": "1fbd36ae",
      "metadata": {
        "id": "1fbd36ae"
      },
      "outputs": [],
      "source": [
        "data = pd.read_csv('sat.csv')"
      ]
    },
    {
      "cell_type": "code",
      "execution_count": null,
      "id": "bfdebacd",
      "metadata": {
        "id": "bfdebacd",
        "outputId": "5dfea9d6-7923-4aab-cb2c-27a4fac9de04"
      },
      "outputs": [
        {
          "data": {
            "text/html": [
              "<div>\n",
              "<style scoped>\n",
              "    .dataframe tbody tr th:only-of-type {\n",
              "        vertical-align: middle;\n",
              "    }\n",
              "\n",
              "    .dataframe tbody tr th {\n",
              "        vertical-align: top;\n",
              "    }\n",
              "\n",
              "    .dataframe thead th {\n",
              "        text-align: right;\n",
              "    }\n",
              "</style>\n",
              "<table border=\"1\" class=\"dataframe\">\n",
              "  <thead>\n",
              "    <tr style=\"text-align: right;\">\n",
              "      <th></th>\n",
              "      <th>SAT</th>\n",
              "      <th>GPA</th>\n",
              "    </tr>\n",
              "  </thead>\n",
              "  <tbody>\n",
              "    <tr>\n",
              "      <th>0</th>\n",
              "      <td>1714</td>\n",
              "      <td>2.40</td>\n",
              "    </tr>\n",
              "    <tr>\n",
              "      <th>1</th>\n",
              "      <td>1664</td>\n",
              "      <td>2.52</td>\n",
              "    </tr>\n",
              "    <tr>\n",
              "      <th>2</th>\n",
              "      <td>1760</td>\n",
              "      <td>2.54</td>\n",
              "    </tr>\n",
              "    <tr>\n",
              "      <th>3</th>\n",
              "      <td>1685</td>\n",
              "      <td>2.74</td>\n",
              "    </tr>\n",
              "    <tr>\n",
              "      <th>4</th>\n",
              "      <td>1693</td>\n",
              "      <td>2.83</td>\n",
              "    </tr>\n",
              "    <tr>\n",
              "      <th>...</th>\n",
              "      <td>...</td>\n",
              "      <td>...</td>\n",
              "    </tr>\n",
              "    <tr>\n",
              "      <th>79</th>\n",
              "      <td>1936</td>\n",
              "      <td>3.71</td>\n",
              "    </tr>\n",
              "    <tr>\n",
              "      <th>80</th>\n",
              "      <td>1810</td>\n",
              "      <td>3.71</td>\n",
              "    </tr>\n",
              "    <tr>\n",
              "      <th>81</th>\n",
              "      <td>1987</td>\n",
              "      <td>3.73</td>\n",
              "    </tr>\n",
              "    <tr>\n",
              "      <th>82</th>\n",
              "      <td>1962</td>\n",
              "      <td>3.76</td>\n",
              "    </tr>\n",
              "    <tr>\n",
              "      <th>83</th>\n",
              "      <td>2050</td>\n",
              "      <td>3.81</td>\n",
              "    </tr>\n",
              "  </tbody>\n",
              "</table>\n",
              "<p>84 rows × 2 columns</p>\n",
              "</div>"
            ],
            "text/plain": [
              "     SAT   GPA\n",
              "0   1714  2.40\n",
              "1   1664  2.52\n",
              "2   1760  2.54\n",
              "3   1685  2.74\n",
              "4   1693  2.83\n",
              "..   ...   ...\n",
              "79  1936  3.71\n",
              "80  1810  3.71\n",
              "81  1987  3.73\n",
              "82  1962  3.76\n",
              "83  2050  3.81\n",
              "\n",
              "[84 rows x 2 columns]"
            ]
          },
          "execution_count": 4,
          "metadata": {},
          "output_type": "execute_result"
        }
      ],
      "source": [
        "data"
      ]
    },
    {
      "cell_type": "code",
      "execution_count": null,
      "id": "93bcbaa4",
      "metadata": {
        "id": "93bcbaa4"
      },
      "outputs": [],
      "source": [
        "X = data['SAT']"
      ]
    },
    {
      "cell_type": "code",
      "execution_count": null,
      "id": "edc127c5",
      "metadata": {
        "id": "edc127c5",
        "outputId": "4b5b5001-1ce6-4b4e-c8dd-0c5400a09624"
      },
      "outputs": [
        {
          "data": {
            "text/plain": [
              "0     1714\n",
              "1     1664\n",
              "2     1760\n",
              "3     1685\n",
              "4     1693\n",
              "      ... \n",
              "79    1936\n",
              "80    1810\n",
              "81    1987\n",
              "82    1962\n",
              "83    2050\n",
              "Name: SAT, Length: 84, dtype: int64"
            ]
          },
          "execution_count": 6,
          "metadata": {},
          "output_type": "execute_result"
        }
      ],
      "source": [
        "X"
      ]
    },
    {
      "cell_type": "code",
      "execution_count": null,
      "id": "50cb5659",
      "metadata": {
        "id": "50cb5659"
      },
      "outputs": [],
      "source": [
        "y = data['GPA']"
      ]
    },
    {
      "cell_type": "code",
      "execution_count": null,
      "id": "aebc1759",
      "metadata": {
        "id": "aebc1759",
        "outputId": "bc0b7833-1062-41af-ff65-21dc91d20d87"
      },
      "outputs": [
        {
          "data": {
            "text/plain": [
              "0     2.40\n",
              "1     2.52\n",
              "2     2.54\n",
              "3     2.74\n",
              "4     2.83\n",
              "      ... \n",
              "79    3.71\n",
              "80    3.71\n",
              "81    3.73\n",
              "82    3.76\n",
              "83    3.81\n",
              "Name: GPA, Length: 84, dtype: float64"
            ]
          },
          "execution_count": 8,
          "metadata": {},
          "output_type": "execute_result"
        }
      ],
      "source": [
        "y"
      ]
    },
    {
      "cell_type": "code",
      "execution_count": null,
      "id": "09d5b3b1",
      "metadata": {
        "id": "09d5b3b1",
        "outputId": "eb8ef033-abb2-408f-c51a-4b6e66478d97"
      },
      "outputs": [
        {
          "data": {
            "text/plain": [
              "(84,)"
            ]
          },
          "execution_count": 9,
          "metadata": {},
          "output_type": "execute_result"
        }
      ],
      "source": [
        "y.shape"
      ]
    },
    {
      "cell_type": "code",
      "execution_count": null,
      "id": "c80f7296",
      "metadata": {
        "id": "c80f7296"
      },
      "outputs": [],
      "source": [
        "reg = LinearRegression()"
      ]
    },
    {
      "cell_type": "code",
      "execution_count": null,
      "id": "c6a00aa8",
      "metadata": {
        "id": "c6a00aa8",
        "outputId": "bf237c68-b7f6-4d8f-c393-281ac6bcd194"
      },
      "outputs": [
        {
          "data": {
            "text/plain": [
              "LinearRegression()"
            ]
          },
          "execution_count": 11,
          "metadata": {},
          "output_type": "execute_result"
        }
      ],
      "source": [
        "reg.fit(np.array(X).reshape(-1,1),y)"
      ]
    },
    {
      "cell_type": "code",
      "execution_count": null,
      "id": "2ced0646",
      "metadata": {
        "id": "2ced0646"
      },
      "outputs": [],
      "source": [
        "new_data = pd.DataFrame(data= [1740,1860], columns= ['SAT'])"
      ]
    },
    {
      "cell_type": "code",
      "execution_count": null,
      "id": "f999f55b",
      "metadata": {
        "id": "f999f55b",
        "outputId": "c179fb4a-88b6-4b41-94d7-c840a6055dcd"
      },
      "outputs": [
        {
          "data": {
            "text/html": [
              "<div>\n",
              "<style scoped>\n",
              "    .dataframe tbody tr th:only-of-type {\n",
              "        vertical-align: middle;\n",
              "    }\n",
              "\n",
              "    .dataframe tbody tr th {\n",
              "        vertical-align: top;\n",
              "    }\n",
              "\n",
              "    .dataframe thead th {\n",
              "        text-align: right;\n",
              "    }\n",
              "</style>\n",
              "<table border=\"1\" class=\"dataframe\">\n",
              "  <thead>\n",
              "    <tr style=\"text-align: right;\">\n",
              "      <th></th>\n",
              "      <th>SAT</th>\n",
              "    </tr>\n",
              "  </thead>\n",
              "  <tbody>\n",
              "    <tr>\n",
              "      <th>0</th>\n",
              "      <td>1740</td>\n",
              "    </tr>\n",
              "    <tr>\n",
              "      <th>1</th>\n",
              "      <td>1860</td>\n",
              "    </tr>\n",
              "  </tbody>\n",
              "</table>\n",
              "</div>"
            ],
            "text/plain": [
              "    SAT\n",
              "0  1740\n",
              "1  1860"
            ]
          },
          "execution_count": 13,
          "metadata": {},
          "output_type": "execute_result"
        }
      ],
      "source": [
        "new_data"
      ]
    },
    {
      "cell_type": "code",
      "execution_count": null,
      "id": "c58453c2",
      "metadata": {
        "id": "c58453c2",
        "outputId": "42736b91-43d7-4ee3-cb4b-270e4f013ff4"
      },
      "outputs": [
        {
          "data": {
            "text/plain": [
              "array([3.15593751, 3.35462007])"
            ]
          },
          "execution_count": 14,
          "metadata": {},
          "output_type": "execute_result"
        }
      ],
      "source": [
        "reg.predict(new_data)"
      ]
    },
    {
      "cell_type": "code",
      "execution_count": null,
      "id": "94834aec",
      "metadata": {
        "id": "94834aec",
        "outputId": "e570dded-3986-4a47-d78a-dfdf2caf6bc2"
      },
      "outputs": [
        {
          "data": {
            "text/plain": [
              "array([0.00165569])"
            ]
          },
          "execution_count": 15,
          "metadata": {},
          "output_type": "execute_result"
        }
      ],
      "source": [
        "reg.coef_"
      ]
    },
    {
      "cell_type": "code",
      "execution_count": null,
      "id": "cb4ca941",
      "metadata": {
        "id": "cb4ca941",
        "outputId": "cdb831d7-42d9-455d-ed4e-aea74c506f5a"
      },
      "outputs": [
        {
          "data": {
            "text/plain": [
              "0.2750402996602803"
            ]
          },
          "execution_count": 16,
          "metadata": {},
          "output_type": "execute_result"
        }
      ],
      "source": [
        "reg.intercept_"
      ]
    },
    {
      "cell_type": "code",
      "execution_count": null,
      "id": "2196dec2",
      "metadata": {
        "id": "2196dec2",
        "outputId": "0596249f-3d86-4c29-d188-58c1097b0d6c"
      },
      "outputs": [
        {
          "data": {
            "text/plain": [
              "0.40600391479679765"
            ]
          },
          "execution_count": 17,
          "metadata": {},
          "output_type": "execute_result"
        }
      ],
      "source": [
        "reg.score(np.array(X).reshape(-1,1),y)"
      ]
    },
    {
      "cell_type": "markdown",
      "id": "15c7165d",
      "metadata": {
        "id": "15c7165d"
      },
      "source": [
        "# Multiple Regression"
      ]
    },
    {
      "cell_type": "code",
      "execution_count": null,
      "id": "0c1372a1",
      "metadata": {
        "id": "0c1372a1"
      },
      "outputs": [],
      "source": [
        "import numpy as np\n",
        "import pandas as pd\n",
        "import matplotlib.pyplot as plt\n",
        "import seaborn as sns\n",
        "sns.set_style('whitegrid')"
      ]
    },
    {
      "cell_type": "code",
      "execution_count": null,
      "id": "a530cc13",
      "metadata": {
        "id": "a530cc13"
      },
      "outputs": [],
      "source": [
        "from sklearn.linear_model import LinearRegression"
      ]
    },
    {
      "cell_type": "code",
      "execution_count": null,
      "id": "9ae5e153",
      "metadata": {
        "id": "9ae5e153"
      },
      "outputs": [],
      "source": [
        "data = pd.read_csv('multisat.csv')"
      ]
    },
    {
      "cell_type": "code",
      "execution_count": null,
      "id": "71d303a7",
      "metadata": {
        "id": "71d303a7",
        "outputId": "1ca8c064-c6dc-45d9-ea66-bea5ff6812c9"
      },
      "outputs": [
        {
          "data": {
            "text/html": [
              "<div>\n",
              "<style scoped>\n",
              "    .dataframe tbody tr th:only-of-type {\n",
              "        vertical-align: middle;\n",
              "    }\n",
              "\n",
              "    .dataframe tbody tr th {\n",
              "        vertical-align: top;\n",
              "    }\n",
              "\n",
              "    .dataframe thead th {\n",
              "        text-align: right;\n",
              "    }\n",
              "</style>\n",
              "<table border=\"1\" class=\"dataframe\">\n",
              "  <thead>\n",
              "    <tr style=\"text-align: right;\">\n",
              "      <th></th>\n",
              "      <th>SAT</th>\n",
              "      <th>GPA</th>\n",
              "      <th>Rand 1,2,3</th>\n",
              "    </tr>\n",
              "  </thead>\n",
              "  <tbody>\n",
              "    <tr>\n",
              "      <th>0</th>\n",
              "      <td>1714</td>\n",
              "      <td>2.40</td>\n",
              "      <td>1</td>\n",
              "    </tr>\n",
              "    <tr>\n",
              "      <th>1</th>\n",
              "      <td>1664</td>\n",
              "      <td>2.52</td>\n",
              "      <td>3</td>\n",
              "    </tr>\n",
              "    <tr>\n",
              "      <th>2</th>\n",
              "      <td>1760</td>\n",
              "      <td>2.54</td>\n",
              "      <td>3</td>\n",
              "    </tr>\n",
              "    <tr>\n",
              "      <th>3</th>\n",
              "      <td>1685</td>\n",
              "      <td>2.74</td>\n",
              "      <td>3</td>\n",
              "    </tr>\n",
              "    <tr>\n",
              "      <th>4</th>\n",
              "      <td>1693</td>\n",
              "      <td>2.83</td>\n",
              "      <td>2</td>\n",
              "    </tr>\n",
              "    <tr>\n",
              "      <th>...</th>\n",
              "      <td>...</td>\n",
              "      <td>...</td>\n",
              "      <td>...</td>\n",
              "    </tr>\n",
              "    <tr>\n",
              "      <th>79</th>\n",
              "      <td>1936</td>\n",
              "      <td>3.71</td>\n",
              "      <td>3</td>\n",
              "    </tr>\n",
              "    <tr>\n",
              "      <th>80</th>\n",
              "      <td>1810</td>\n",
              "      <td>3.71</td>\n",
              "      <td>1</td>\n",
              "    </tr>\n",
              "    <tr>\n",
              "      <th>81</th>\n",
              "      <td>1987</td>\n",
              "      <td>3.73</td>\n",
              "      <td>3</td>\n",
              "    </tr>\n",
              "    <tr>\n",
              "      <th>82</th>\n",
              "      <td>1962</td>\n",
              "      <td>3.76</td>\n",
              "      <td>1</td>\n",
              "    </tr>\n",
              "    <tr>\n",
              "      <th>83</th>\n",
              "      <td>2050</td>\n",
              "      <td>3.81</td>\n",
              "      <td>2</td>\n",
              "    </tr>\n",
              "  </tbody>\n",
              "</table>\n",
              "<p>84 rows × 3 columns</p>\n",
              "</div>"
            ],
            "text/plain": [
              "     SAT   GPA  Rand 1,2,3\n",
              "0   1714  2.40           1\n",
              "1   1664  2.52           3\n",
              "2   1760  2.54           3\n",
              "3   1685  2.74           3\n",
              "4   1693  2.83           2\n",
              "..   ...   ...         ...\n",
              "79  1936  3.71           3\n",
              "80  1810  3.71           1\n",
              "81  1987  3.73           3\n",
              "82  1962  3.76           1\n",
              "83  2050  3.81           2\n",
              "\n",
              "[84 rows x 3 columns]"
            ]
          },
          "execution_count": 21,
          "metadata": {},
          "output_type": "execute_result"
        }
      ],
      "source": [
        "data"
      ]
    },
    {
      "cell_type": "code",
      "execution_count": null,
      "id": "af7e9434",
      "metadata": {
        "id": "af7e9434"
      },
      "outputs": [],
      "source": [
        "X = data[['SAT','Rand 1,2,3']]"
      ]
    },
    {
      "cell_type": "code",
      "execution_count": null,
      "id": "2dcabd46",
      "metadata": {
        "id": "2dcabd46",
        "outputId": "f0ef4230-8b12-4396-8485-0c54809b4b73"
      },
      "outputs": [
        {
          "data": {
            "text/html": [
              "<div>\n",
              "<style scoped>\n",
              "    .dataframe tbody tr th:only-of-type {\n",
              "        vertical-align: middle;\n",
              "    }\n",
              "\n",
              "    .dataframe tbody tr th {\n",
              "        vertical-align: top;\n",
              "    }\n",
              "\n",
              "    .dataframe thead th {\n",
              "        text-align: right;\n",
              "    }\n",
              "</style>\n",
              "<table border=\"1\" class=\"dataframe\">\n",
              "  <thead>\n",
              "    <tr style=\"text-align: right;\">\n",
              "      <th></th>\n",
              "      <th>SAT</th>\n",
              "      <th>Rand 1,2,3</th>\n",
              "    </tr>\n",
              "  </thead>\n",
              "  <tbody>\n",
              "    <tr>\n",
              "      <th>0</th>\n",
              "      <td>1714</td>\n",
              "      <td>1</td>\n",
              "    </tr>\n",
              "    <tr>\n",
              "      <th>1</th>\n",
              "      <td>1664</td>\n",
              "      <td>3</td>\n",
              "    </tr>\n",
              "    <tr>\n",
              "      <th>2</th>\n",
              "      <td>1760</td>\n",
              "      <td>3</td>\n",
              "    </tr>\n",
              "    <tr>\n",
              "      <th>3</th>\n",
              "      <td>1685</td>\n",
              "      <td>3</td>\n",
              "    </tr>\n",
              "    <tr>\n",
              "      <th>4</th>\n",
              "      <td>1693</td>\n",
              "      <td>2</td>\n",
              "    </tr>\n",
              "    <tr>\n",
              "      <th>...</th>\n",
              "      <td>...</td>\n",
              "      <td>...</td>\n",
              "    </tr>\n",
              "    <tr>\n",
              "      <th>79</th>\n",
              "      <td>1936</td>\n",
              "      <td>3</td>\n",
              "    </tr>\n",
              "    <tr>\n",
              "      <th>80</th>\n",
              "      <td>1810</td>\n",
              "      <td>1</td>\n",
              "    </tr>\n",
              "    <tr>\n",
              "      <th>81</th>\n",
              "      <td>1987</td>\n",
              "      <td>3</td>\n",
              "    </tr>\n",
              "    <tr>\n",
              "      <th>82</th>\n",
              "      <td>1962</td>\n",
              "      <td>1</td>\n",
              "    </tr>\n",
              "    <tr>\n",
              "      <th>83</th>\n",
              "      <td>2050</td>\n",
              "      <td>2</td>\n",
              "    </tr>\n",
              "  </tbody>\n",
              "</table>\n",
              "<p>84 rows × 2 columns</p>\n",
              "</div>"
            ],
            "text/plain": [
              "     SAT  Rand 1,2,3\n",
              "0   1714           1\n",
              "1   1664           3\n",
              "2   1760           3\n",
              "3   1685           3\n",
              "4   1693           2\n",
              "..   ...         ...\n",
              "79  1936           3\n",
              "80  1810           1\n",
              "81  1987           3\n",
              "82  1962           1\n",
              "83  2050           2\n",
              "\n",
              "[84 rows x 2 columns]"
            ]
          },
          "execution_count": 23,
          "metadata": {},
          "output_type": "execute_result"
        }
      ],
      "source": [
        "X"
      ]
    },
    {
      "cell_type": "code",
      "execution_count": null,
      "id": "209c4855",
      "metadata": {
        "id": "209c4855"
      },
      "outputs": [],
      "source": [
        "y = data['GPA']"
      ]
    },
    {
      "cell_type": "code",
      "execution_count": null,
      "id": "be0ee1fd",
      "metadata": {
        "id": "be0ee1fd"
      },
      "outputs": [],
      "source": [
        "mul_reg = LinearRegression()"
      ]
    },
    {
      "cell_type": "code",
      "execution_count": null,
      "id": "3643f409",
      "metadata": {
        "id": "3643f409",
        "outputId": "0073b4cf-035c-48a5-8eba-5aa6603c3c97"
      },
      "outputs": [
        {
          "data": {
            "text/plain": [
              "LinearRegression()"
            ]
          },
          "execution_count": 26,
          "metadata": {},
          "output_type": "execute_result"
        }
      ],
      "source": [
        "mul_reg.fit(X,y)"
      ]
    },
    {
      "cell_type": "code",
      "execution_count": null,
      "id": "0e559120",
      "metadata": {
        "id": "0e559120",
        "outputId": "4eb4df32-402a-4f91-8c20-b6fca376a34c"
      },
      "outputs": [
        {
          "data": {
            "text/plain": [
              "array([ 0.00165354, -0.00826982])"
            ]
          },
          "execution_count": 27,
          "metadata": {},
          "output_type": "execute_result"
        }
      ],
      "source": [
        "mul_reg.coef_"
      ]
    },
    {
      "cell_type": "code",
      "execution_count": null,
      "id": "b81a921e",
      "metadata": {
        "id": "b81a921e",
        "outputId": "c8f83f5e-ddb4-4537-f21b-c8f60c657ddd"
      },
      "outputs": [
        {
          "data": {
            "text/plain": [
              "0.40668119528142843"
            ]
          },
          "execution_count": 28,
          "metadata": {},
          "output_type": "execute_result"
        }
      ],
      "source": [
        "mul_reg.score(X,y)"
      ]
    },
    {
      "cell_type": "code",
      "execution_count": null,
      "id": "aa0c6b31",
      "metadata": {
        "id": "aa0c6b31"
      },
      "outputs": [],
      "source": [
        "from sklearn.feature_selection import f_regression"
      ]
    },
    {
      "cell_type": "code",
      "execution_count": null,
      "id": "a356fd1c",
      "metadata": {
        "id": "a356fd1c",
        "outputId": "ddc87476-e7b0-4d5e-8b18-cb87d68fdc67"
      },
      "outputs": [
        {
          "data": {
            "text/plain": [
              "(array([56.04804786,  0.17558437]), array([7.19951844e-11, 6.76291372e-01]))"
            ]
          },
          "execution_count": 30,
          "metadata": {},
          "output_type": "execute_result"
        }
      ],
      "source": [
        "f_regression(X,y)"
      ]
    },
    {
      "cell_type": "code",
      "execution_count": null,
      "id": "cb45ac12",
      "metadata": {
        "id": "cb45ac12",
        "outputId": "7b4976fe-8408-4bb2-db18-97ea4f14e7dd"
      },
      "outputs": [
        {
          "data": {
            "text/plain": [
              "array([7.19951844e-11, 6.76291372e-01])"
            ]
          },
          "execution_count": 31,
          "metadata": {},
          "output_type": "execute_result"
        }
      ],
      "source": [
        "f_regression(X,y) [1]"
      ]
    },
    {
      "cell_type": "code",
      "execution_count": null,
      "id": "e5b4370f",
      "metadata": {
        "id": "e5b4370f"
      },
      "outputs": [],
      "source": [
        "p_value = f_regression(X,y) [1]"
      ]
    },
    {
      "cell_type": "code",
      "execution_count": null,
      "id": "ac7c1e76",
      "metadata": {
        "id": "ac7c1e76",
        "outputId": "7cac77d6-3786-4d32-f391-7691e8592eba"
      },
      "outputs": [
        {
          "data": {
            "text/plain": [
              "array([7.19951844e-11, 6.76291372e-01])"
            ]
          },
          "execution_count": 33,
          "metadata": {},
          "output_type": "execute_result"
        }
      ],
      "source": [
        "p_value"
      ]
    },
    {
      "cell_type": "code",
      "execution_count": null,
      "id": "12172400",
      "metadata": {
        "id": "12172400",
        "outputId": "0c76165a-dc82-4205-c104-617ff1501f7a"
      },
      "outputs": [
        {
          "data": {
            "text/plain": [
              "array([0.   , 0.676])"
            ]
          },
          "execution_count": 34,
          "metadata": {},
          "output_type": "execute_result"
        }
      ],
      "source": [
        "p_value.round(3)"
      ]
    },
    {
      "cell_type": "code",
      "execution_count": null,
      "id": "81242ee8",
      "metadata": {
        "id": "81242ee8"
      },
      "outputs": [],
      "source": [
        "reg_summary = pd.DataFrame(data=['SAT','Rand 1,2,3'],columns=['features'])"
      ]
    },
    {
      "cell_type": "code",
      "execution_count": null,
      "id": "154132a2",
      "metadata": {
        "id": "154132a2",
        "outputId": "9bda63b7-4a10-4bf8-e3e2-e61ef4ec7b46"
      },
      "outputs": [
        {
          "data": {
            "text/html": [
              "<div>\n",
              "<style scoped>\n",
              "    .dataframe tbody tr th:only-of-type {\n",
              "        vertical-align: middle;\n",
              "    }\n",
              "\n",
              "    .dataframe tbody tr th {\n",
              "        vertical-align: top;\n",
              "    }\n",
              "\n",
              "    .dataframe thead th {\n",
              "        text-align: right;\n",
              "    }\n",
              "</style>\n",
              "<table border=\"1\" class=\"dataframe\">\n",
              "  <thead>\n",
              "    <tr style=\"text-align: right;\">\n",
              "      <th></th>\n",
              "      <th>features</th>\n",
              "    </tr>\n",
              "  </thead>\n",
              "  <tbody>\n",
              "    <tr>\n",
              "      <th>0</th>\n",
              "      <td>SAT</td>\n",
              "    </tr>\n",
              "    <tr>\n",
              "      <th>1</th>\n",
              "      <td>Rand 1,2,3</td>\n",
              "    </tr>\n",
              "  </tbody>\n",
              "</table>\n",
              "</div>"
            ],
            "text/plain": [
              "     features\n",
              "0         SAT\n",
              "1  Rand 1,2,3"
            ]
          },
          "execution_count": 36,
          "metadata": {},
          "output_type": "execute_result"
        }
      ],
      "source": [
        "reg_summary"
      ]
    },
    {
      "cell_type": "code",
      "execution_count": null,
      "id": "30f72df4",
      "metadata": {
        "id": "30f72df4"
      },
      "outputs": [],
      "source": [
        "reg_summary['coefficent'] = mul_reg.coef_"
      ]
    },
    {
      "cell_type": "code",
      "execution_count": null,
      "id": "cc0a6730",
      "metadata": {
        "id": "cc0a6730",
        "outputId": "54586292-f487-4839-82ae-b18871c25e0b"
      },
      "outputs": [
        {
          "data": {
            "text/html": [
              "<div>\n",
              "<style scoped>\n",
              "    .dataframe tbody tr th:only-of-type {\n",
              "        vertical-align: middle;\n",
              "    }\n",
              "\n",
              "    .dataframe tbody tr th {\n",
              "        vertical-align: top;\n",
              "    }\n",
              "\n",
              "    .dataframe thead th {\n",
              "        text-align: right;\n",
              "    }\n",
              "</style>\n",
              "<table border=\"1\" class=\"dataframe\">\n",
              "  <thead>\n",
              "    <tr style=\"text-align: right;\">\n",
              "      <th></th>\n",
              "      <th>features</th>\n",
              "      <th>coefficent</th>\n",
              "    </tr>\n",
              "  </thead>\n",
              "  <tbody>\n",
              "    <tr>\n",
              "      <th>0</th>\n",
              "      <td>SAT</td>\n",
              "      <td>0.001654</td>\n",
              "    </tr>\n",
              "    <tr>\n",
              "      <th>1</th>\n",
              "      <td>Rand 1,2,3</td>\n",
              "      <td>-0.008270</td>\n",
              "    </tr>\n",
              "  </tbody>\n",
              "</table>\n",
              "</div>"
            ],
            "text/plain": [
              "     features  coefficent\n",
              "0         SAT    0.001654\n",
              "1  Rand 1,2,3   -0.008270"
            ]
          },
          "execution_count": 38,
          "metadata": {},
          "output_type": "execute_result"
        }
      ],
      "source": [
        "reg_summary"
      ]
    },
    {
      "cell_type": "code",
      "execution_count": null,
      "id": "a8a7c825",
      "metadata": {
        "id": "a8a7c825"
      },
      "outputs": [],
      "source": [
        "reg_summary['p_value'] = p_value.round(3)"
      ]
    },
    {
      "cell_type": "code",
      "execution_count": null,
      "id": "9a7fdf07",
      "metadata": {
        "id": "9a7fdf07",
        "outputId": "65c881ff-b7b6-439e-b392-bca5bad278da"
      },
      "outputs": [
        {
          "data": {
            "text/html": [
              "<div>\n",
              "<style scoped>\n",
              "    .dataframe tbody tr th:only-of-type {\n",
              "        vertical-align: middle;\n",
              "    }\n",
              "\n",
              "    .dataframe tbody tr th {\n",
              "        vertical-align: top;\n",
              "    }\n",
              "\n",
              "    .dataframe thead th {\n",
              "        text-align: right;\n",
              "    }\n",
              "</style>\n",
              "<table border=\"1\" class=\"dataframe\">\n",
              "  <thead>\n",
              "    <tr style=\"text-align: right;\">\n",
              "      <th></th>\n",
              "      <th>features</th>\n",
              "      <th>coefficent</th>\n",
              "      <th>p_value</th>\n",
              "    </tr>\n",
              "  </thead>\n",
              "  <tbody>\n",
              "    <tr>\n",
              "      <th>0</th>\n",
              "      <td>SAT</td>\n",
              "      <td>0.001654</td>\n",
              "      <td>0.000</td>\n",
              "    </tr>\n",
              "    <tr>\n",
              "      <th>1</th>\n",
              "      <td>Rand 1,2,3</td>\n",
              "      <td>-0.008270</td>\n",
              "      <td>0.676</td>\n",
              "    </tr>\n",
              "  </tbody>\n",
              "</table>\n",
              "</div>"
            ],
            "text/plain": [
              "     features  coefficent  p_value\n",
              "0         SAT    0.001654    0.000\n",
              "1  Rand 1,2,3   -0.008270    0.676"
            ]
          },
          "execution_count": 40,
          "metadata": {},
          "output_type": "execute_result"
        }
      ],
      "source": [
        "reg_summary"
      ]
    },
    {
      "cell_type": "code",
      "execution_count": null,
      "id": "bf1b2c06",
      "metadata": {
        "id": "bf1b2c06"
      },
      "outputs": [],
      "source": [
        ""
      ]
    }
  ],
  "metadata": {
    "kernelspec": {
      "display_name": "Python 3",
      "language": "python",
      "name": "python3"
    },
    "language_info": {
      "codemirror_mode": {
        "name": "ipython",
        "version": 3
      },
      "file_extension": ".py",
      "mimetype": "text/x-python",
      "name": "python",
      "nbconvert_exporter": "python",
      "pygments_lexer": "ipython3",
      "version": "3.8.8"
    },
    "colab": {
      "name": "Pract_multiple_reg.ipynb",
      "provenance": [],
      "collapsed_sections": [
        "15c7165d"
      ]
    }
  },
  "nbformat": 4,
  "nbformat_minor": 5
}