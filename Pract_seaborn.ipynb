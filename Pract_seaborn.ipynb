{
  "cells": [
    {
      "cell_type": "code",
      "execution_count": null,
      "id": "617d49ab",
      "metadata": {
        "id": "617d49ab"
      },
      "outputs": [],
      "source": [
        "import numpy as np\n",
        "import pandas as pd\n",
        "import seaborn as sns\n",
        "sns.set_style('whitegrid')"
      ]
    },
    {
      "cell_type": "code",
      "execution_count": null,
      "id": "9f764702",
      "metadata": {
        "id": "9f764702"
      },
      "outputs": [],
      "source": [
        "tips = sns.load_dataset('tips')"
      ]
    },
    {
      "cell_type": "code",
      "execution_count": null,
      "id": "7dcbdd31",
      "metadata": {
        "id": "7dcbdd31",
        "outputId": "487866e1-22fc-47fc-abd1-2c9884e3db9b"
      },
      "outputs": [
        {
          "data": {
            "text/html": [
              "<div>\n",
              "<style scoped>\n",
              "    .dataframe tbody tr th:only-of-type {\n",
              "        vertical-align: middle;\n",
              "    }\n",
              "\n",
              "    .dataframe tbody tr th {\n",
              "        vertical-align: top;\n",
              "    }\n",
              "\n",
              "    .dataframe thead th {\n",
              "        text-align: right;\n",
              "    }\n",
              "</style>\n",
              "<table border=\"1\" class=\"dataframe\">\n",
              "  <thead>\n",
              "    <tr style=\"text-align: right;\">\n",
              "      <th></th>\n",
              "      <th>total_bill</th>\n",
              "      <th>tip</th>\n",
              "      <th>sex</th>\n",
              "      <th>smoker</th>\n",
              "      <th>day</th>\n",
              "      <th>time</th>\n",
              "      <th>size</th>\n",
              "    </tr>\n",
              "  </thead>\n",
              "  <tbody>\n",
              "    <tr>\n",
              "      <th>0</th>\n",
              "      <td>16.99</td>\n",
              "      <td>1.01</td>\n",
              "      <td>Female</td>\n",
              "      <td>No</td>\n",
              "      <td>Sun</td>\n",
              "      <td>Dinner</td>\n",
              "      <td>2</td>\n",
              "    </tr>\n",
              "    <tr>\n",
              "      <th>1</th>\n",
              "      <td>10.34</td>\n",
              "      <td>1.66</td>\n",
              "      <td>Male</td>\n",
              "      <td>No</td>\n",
              "      <td>Sun</td>\n",
              "      <td>Dinner</td>\n",
              "      <td>3</td>\n",
              "    </tr>\n",
              "    <tr>\n",
              "      <th>2</th>\n",
              "      <td>21.01</td>\n",
              "      <td>3.50</td>\n",
              "      <td>Male</td>\n",
              "      <td>No</td>\n",
              "      <td>Sun</td>\n",
              "      <td>Dinner</td>\n",
              "      <td>3</td>\n",
              "    </tr>\n",
              "    <tr>\n",
              "      <th>3</th>\n",
              "      <td>23.68</td>\n",
              "      <td>3.31</td>\n",
              "      <td>Male</td>\n",
              "      <td>No</td>\n",
              "      <td>Sun</td>\n",
              "      <td>Dinner</td>\n",
              "      <td>2</td>\n",
              "    </tr>\n",
              "    <tr>\n",
              "      <th>4</th>\n",
              "      <td>24.59</td>\n",
              "      <td>3.61</td>\n",
              "      <td>Female</td>\n",
              "      <td>No</td>\n",
              "      <td>Sun</td>\n",
              "      <td>Dinner</td>\n",
              "      <td>4</td>\n",
              "    </tr>\n",
              "    <tr>\n",
              "      <th>...</th>\n",
              "      <td>...</td>\n",
              "      <td>...</td>\n",
              "      <td>...</td>\n",
              "      <td>...</td>\n",
              "      <td>...</td>\n",
              "      <td>...</td>\n",
              "      <td>...</td>\n",
              "    </tr>\n",
              "    <tr>\n",
              "      <th>239</th>\n",
              "      <td>29.03</td>\n",
              "      <td>5.92</td>\n",
              "      <td>Male</td>\n",
              "      <td>No</td>\n",
              "      <td>Sat</td>\n",
              "      <td>Dinner</td>\n",
              "      <td>3</td>\n",
              "    </tr>\n",
              "    <tr>\n",
              "      <th>240</th>\n",
              "      <td>27.18</td>\n",
              "      <td>2.00</td>\n",
              "      <td>Female</td>\n",
              "      <td>Yes</td>\n",
              "      <td>Sat</td>\n",
              "      <td>Dinner</td>\n",
              "      <td>2</td>\n",
              "    </tr>\n",
              "    <tr>\n",
              "      <th>241</th>\n",
              "      <td>22.67</td>\n",
              "      <td>2.00</td>\n",
              "      <td>Male</td>\n",
              "      <td>Yes</td>\n",
              "      <td>Sat</td>\n",
              "      <td>Dinner</td>\n",
              "      <td>2</td>\n",
              "    </tr>\n",
              "    <tr>\n",
              "      <th>242</th>\n",
              "      <td>17.82</td>\n",
              "      <td>1.75</td>\n",
              "      <td>Male</td>\n",
              "      <td>No</td>\n",
              "      <td>Sat</td>\n",
              "      <td>Dinner</td>\n",
              "      <td>2</td>\n",
              "    </tr>\n",
              "    <tr>\n",
              "      <th>243</th>\n",
              "      <td>18.78</td>\n",
              "      <td>3.00</td>\n",
              "      <td>Female</td>\n",
              "      <td>No</td>\n",
              "      <td>Thur</td>\n",
              "      <td>Dinner</td>\n",
              "      <td>2</td>\n",
              "    </tr>\n",
              "  </tbody>\n",
              "</table>\n",
              "<p>244 rows × 7 columns</p>\n",
              "</div>"
            ],
            "text/plain": [
              "     total_bill   tip     sex smoker   day    time  size\n",
              "0         16.99  1.01  Female     No   Sun  Dinner     2\n",
              "1         10.34  1.66    Male     No   Sun  Dinner     3\n",
              "2         21.01  3.50    Male     No   Sun  Dinner     3\n",
              "3         23.68  3.31    Male     No   Sun  Dinner     2\n",
              "4         24.59  3.61  Female     No   Sun  Dinner     4\n",
              "..          ...   ...     ...    ...   ...     ...   ...\n",
              "239       29.03  5.92    Male     No   Sat  Dinner     3\n",
              "240       27.18  2.00  Female    Yes   Sat  Dinner     2\n",
              "241       22.67  2.00    Male    Yes   Sat  Dinner     2\n",
              "242       17.82  1.75    Male     No   Sat  Dinner     2\n",
              "243       18.78  3.00  Female     No  Thur  Dinner     2\n",
              "\n",
              "[244 rows x 7 columns]"
            ]
          },
          "execution_count": 3,
          "metadata": {},
          "output_type": "execute_result"
        }
      ],
      "source": [
        "tips"
      ]
    },
    {
      "cell_type": "code",
      "execution_count": null,
      "id": "99424c61",
      "metadata": {
        "id": "99424c61",
        "outputId": "4f3290d5-b951-4388-be0f-d553fd6753cc"
      },
      "outputs": [
        {
          "data": {
            "text/plain": [
              "<AxesSubplot:xlabel='total_bill', ylabel='Density'>"
            ]
          },
          "execution_count": 4,
          "metadata": {},
          "output_type": "execute_result"
        },
        {
          "data": {
            "image/png": "[encoded data removed]",
            "text/plain": [
              "<Figure size 432x288 with 1 Axes>"
            ]
          },
          "metadata": {},
          "output_type": "display_data"
        }
      ],
      "source": [
        "sns.kdeplot(tips['total_bill'])"
      ]
    },
    {
      "cell_type": "code",
      "execution_count": null,
      "id": "f0e79d62",
      "metadata": {
        "id": "f0e79d62",
        "outputId": "cd160839-074e-46ed-bcc8-834b84a0902f"
      },
      "outputs": [
        {
          "data": {
            "text/plain": [
              "<AxesSubplot:xlabel='total_bill'>"
            ]
          },
          "execution_count": 5,
          "metadata": {},
          "output_type": "execute_result"
        },
        {
          "data": {
            "image/png": "[encoded data removed]",
            "text/plain": [
              "<Figure size 432x288 with 1 Axes>"
            ]
          },
          "metadata": {},
          "output_type": "display_data"
        }
      ],
      "source": [
        "sns.rugplot(tips['total_bill'])"
      ]
    },
    {
      "cell_type": "code",
      "execution_count": null,
      "id": "3d6618a7",
      "metadata": {
        "id": "3d6618a7",
        "outputId": "a3208127-9551-4397-f05c-803df6e316fe"
      },
      "outputs": [
        {
          "data": {
            "text/plain": [
              "<AxesSubplot:xlabel='sex', ylabel='total_bill'>"
            ]
          },
          "execution_count": 10,
          "metadata": {},
          "output_type": "execute_result"
        },
        {
          "data": {
            "image/png": "[encoded data removed]",
            "text/plain": [
              "<Figure size 432x288 with 1 Axes>"
            ]
          },
          "metadata": {},
          "output_type": "display_data"
        }
      ],
      "source": [
        "sns.barplot(x='sex',y='total_bill', data=tips)"
      ]
    },
    {
      "cell_type": "code",
      "execution_count": null,
      "id": "f02466b2",
      "metadata": {
        "id": "f02466b2",
        "outputId": "4ef722d2-4ffc-4740-9979-68d6e1985853"
      },
      "outputs": [
        {
          "data": {
            "text/plain": [
              "<AxesSubplot:xlabel='sex', ylabel='count'>"
            ]
          },
          "execution_count": 11,
          "metadata": {},
          "output_type": "execute_result"
        },
        {
          "data": {
            "image/png": "[encoded data removed]",
            "text/plain": [
              "<Figure size 432x288 with 1 Axes>"
            ]
          },
          "metadata": {},
          "output_type": "display_data"
        }
      ],
      "source": [
        "sns.countplot(x='sex', data=tips)"
      ]
    },
    {
      "cell_type": "code",
      "execution_count": null,
      "id": "9bc7a0fc",
      "metadata": {
        "id": "9bc7a0fc",
        "outputId": "59a1b0e2-eab4-4475-a4b8-6bb87421e72f"
      },
      "outputs": [
        {
          "data": {
            "text/plain": [
              "<AxesSubplot:xlabel='day', ylabel='total_bill'>"
            ]
          },
          "execution_count": 12,
          "metadata": {},
          "output_type": "execute_result"
        },
        {
          "data": {
            "image/png": "[encoded data removed]",
            "text/plain": [
              "<Figure size 432x288 with 1 Axes>"
            ]
          },
          "metadata": {},
          "output_type": "display_data"
        }
      ],
      "source": [
        "sns.boxplot(x='day',y='total_bill',data=tips)"
      ]
    },
    {
      "cell_type": "code",
      "execution_count": null,
      "id": "83892e92",
      "metadata": {
        "id": "83892e92",
        "outputId": "db2dfb62-788c-48c4-cf45-a159aecac3a1"
      },
      "outputs": [
        {
          "data": {
            "text/plain": [
              "<AxesSubplot:xlabel='day', ylabel='total_bill'>"
            ]
          },
          "execution_count": 13,
          "metadata": {},
          "output_type": "execute_result"
        },
        {
          "data": {
            "image/png": "[encoded data removed]",
            "text/plain": [
              "<Figure size 432x288 with 1 Axes>"
            ]
          },
          "metadata": {},
          "output_type": "display_data"
        }
      ],
      "source": [
        "sns.violinplot(x='day',y='total_bill',data=tips)"
      ]
    },
    {
      "cell_type": "markdown",
      "id": "49accf7b",
      "metadata": {
        "id": "49accf7b"
      },
      "source": [
        "# if and else"
      ]
    },
    {
      "cell_type": "code",
      "execution_count": null,
      "id": "3961492d",
      "metadata": {
        "id": "3961492d",
        "outputId": "d7051857-f9ba-41a8-ab4a-3a00d4959c69"
      },
      "outputs": [
        {
          "name": "stdout",
          "output_type": "stream",
          "text": [
            "hi\n"
          ]
        }
      ],
      "source": [
        "if 1<2: #true\n",
        "    print('hi')"
      ]
    },
    {
      "cell_type": "code",
      "execution_count": null,
      "id": "9ee11542",
      "metadata": {
        "id": "9ee11542"
      },
      "outputs": [],
      "source": [
        "if 1 > 2: #false  in case of false statement did not print in if condition\n",
        "    print('hi')"
      ]
    },
    {
      "cell_type": "code",
      "execution_count": null,
      "id": "c82011ed",
      "metadata": {
        "id": "c82011ed",
        "outputId": "afeec17a-2815-4e4c-e34c-cee2556f9e12"
      },
      "outputs": [
        {
          "name": "stdout",
          "output_type": "stream",
          "text": [
            "hi\n"
          ]
        }
      ],
      "source": [
        "if True:\n",
        "    print('hi')"
      ]
    },
    {
      "cell_type": "code",
      "execution_count": null,
      "id": "c6282f7f",
      "metadata": {
        "id": "c6282f7f"
      },
      "outputs": [],
      "source": [
        "if False:\n",
        "    print('hi')"
      ]
    },
    {
      "cell_type": "code",
      "execution_count": null,
      "id": "f19c9d97",
      "metadata": {
        "id": "f19c9d97",
        "outputId": "229146bf-8e43-48ab-c094-613360855919"
      },
      "outputs": [
        {
          "name": "stdout",
          "output_type": "stream",
          "text": [
            "4\n"
          ]
        }
      ],
      "source": [
        "if True:\n",
        "    x= 2+2\n",
        "    print(x)"
      ]
    },
    {
      "cell_type": "code",
      "execution_count": null,
      "id": "5b6a40d9",
      "metadata": {
        "id": "5b6a40d9"
      },
      "outputs": [],
      "source": [
        "if False:\n",
        "    x = 2+2\n",
        "    print(x)"
      ]
    },
    {
      "cell_type": "code",
      "execution_count": null,
      "id": "8fb6757c",
      "metadata": {
        "id": "8fb6757c",
        "outputId": "24b73248-30db-43c4-d3da-0fea4b321f52"
      },
      "outputs": [
        {
          "name": "stdout",
          "output_type": "stream",
          "text": [
            "hi\n"
          ]
        }
      ],
      "source": [
        "if 1 < 2:\n",
        "    print('hi')"
      ]
    },
    {
      "cell_type": "markdown",
      "id": "d4851828",
      "metadata": {
        "id": "d4851828"
      },
      "source": [
        "# if else"
      ]
    },
    {
      "cell_type": "code",
      "execution_count": null,
      "id": "f366e1ab",
      "metadata": {
        "id": "f366e1ab",
        "outputId": "276de64e-901c-4293-8873-65b5da2caa4b"
      },
      "outputs": [
        {
          "name": "stdout",
          "output_type": "stream",
          "text": [
            "hello\n"
          ]
        }
      ],
      "source": [
        "if 1==2:\n",
        "    print('hi')\n",
        "else:\n",
        "    print('hello')"
      ]
    },
    {
      "cell_type": "code",
      "execution_count": null,
      "id": "bbb201b1",
      "metadata": {
        "id": "bbb201b1",
        "outputId": "144346d6-fd5f-40d6-aa46-ae8218bc8f4c"
      },
      "outputs": [
        {
          "name": "stdout",
          "output_type": "stream",
          "text": [
            "hi\n"
          ]
        }
      ],
      "source": [
        "if 1==1:\n",
        "    print('hi')\n",
        "else:\n",
        "    print('hello')"
      ]
    },
    {
      "cell_type": "code",
      "execution_count": null,
      "id": "d606802c",
      "metadata": {
        "id": "d606802c",
        "outputId": "5284c7c2-9020-491f-8351-80a2882dfe27"
      },
      "outputs": [
        {
          "name": "stdout",
          "output_type": "stream",
          "text": [
            "pepsi\n"
          ]
        }
      ],
      "source": [
        "if 1==2:\n",
        "    print('coke')\n",
        "elif 3==3:\n",
        "    print('pepsi')\n",
        "else:\n",
        "    print('anysoftdrink')"
      ]
    },
    {
      "cell_type": "code",
      "execution_count": null,
      "id": "1d73d514",
      "metadata": {
        "id": "1d73d514",
        "outputId": "a506bd63-e179-4412-be82-65262d12d26b"
      },
      "outputs": [
        {
          "name": "stdout",
          "output_type": "stream",
          "text": [
            "coke\n"
          ]
        }
      ],
      "source": [
        "if 1==1:\n",
        "    print('coke')\n",
        "elif 4==4:\n",
        "    print('maza')\n",
        "elif 3==3:\n",
        "    print('pepsi')\n",
        "else:\n",
        "    print('anysoftdrink')"
      ]
    },
    {
      "cell_type": "markdown",
      "id": "7cc96bb3",
      "metadata": {
        "id": "7cc96bb3"
      },
      "source": [
        "# Loops"
      ]
    },
    {
      "cell_type": "markdown",
      "id": "3fb80285",
      "metadata": {
        "id": "3fb80285"
      },
      "source": [
        "## For"
      ]
    },
    {
      "cell_type": "code",
      "execution_count": null,
      "id": "a0340d4a",
      "metadata": {
        "id": "a0340d4a"
      },
      "outputs": [],
      "source": [
        "x = [2,3,4,5,4,7]"
      ]
    },
    {
      "cell_type": "code",
      "execution_count": null,
      "id": "0df5a6be",
      "metadata": {
        "id": "0df5a6be",
        "outputId": "5b640537-ed0a-4e77-b639-c0dda1bad325"
      },
      "outputs": [
        {
          "data": {
            "text/plain": [
              "6"
            ]
          },
          "execution_count": 28,
          "metadata": {},
          "output_type": "execute_result"
        }
      ],
      "source": [
        "len(x)"
      ]
    },
    {
      "cell_type": "code",
      "execution_count": null,
      "id": "fb39f3b3",
      "metadata": {
        "id": "fb39f3b3",
        "outputId": "61e3584c-2441-4fdf-ff12-e582b2f9023e"
      },
      "outputs": [
        {
          "name": "stdout",
          "output_type": "stream",
          "text": [
            "2\n",
            "3\n",
            "4\n",
            "5\n",
            "4\n",
            "7\n"
          ]
        }
      ],
      "source": [
        "for item in x:\n",
        "    print(item)"
      ]
    },
    {
      "cell_type": "code",
      "execution_count": null,
      "id": "59b884e6",
      "metadata": {
        "id": "59b884e6",
        "outputId": "64cc623e-1e5d-4f10-9da9-ab32ffed86ef"
      },
      "outputs": [
        {
          "data": {
            "text/plain": [
              "range(0, 9)"
            ]
          },
          "execution_count": 30,
          "metadata": {},
          "output_type": "execute_result"
        }
      ],
      "source": [
        "range(0,9)"
      ]
    },
    {
      "cell_type": "code",
      "execution_count": null,
      "id": "4a00eb3b",
      "metadata": {
        "id": "4a00eb3b",
        "outputId": "5eb7e936-07f1-463e-d960-da85ecb7ae08"
      },
      "outputs": [
        {
          "name": "stdout",
          "output_type": "stream",
          "text": [
            "12\n",
            "13\n",
            "14\n",
            "15\n",
            "16\n"
          ]
        }
      ],
      "source": [
        "for i in range(12,17):\n",
        "    print(i)"
      ]
    },
    {
      "cell_type": "code",
      "execution_count": null,
      "id": "44efba03",
      "metadata": {
        "id": "44efba03",
        "outputId": "7a491afb-a743-46a8-e92a-94c475f9eae8"
      },
      "outputs": [
        {
          "name": "stdout",
          "output_type": "stream",
          "text": [
            "1\n",
            "2\n",
            "3\n",
            "4\n",
            "5\n",
            "6\n",
            "7\n",
            "8\n",
            "9\n"
          ]
        }
      ],
      "source": [
        "i = 1\n",
        "while i<10:\n",
        "    print(i)\n",
        "    i = i+1"
      ]
    },
    {
      "cell_type": "code",
      "execution_count": null,
      "id": "d6abcd69",
      "metadata": {
        "id": "d6abcd69",
        "outputId": "b3dec49d-50ea-489f-f692-b647556acb87"
      },
      "outputs": [
        {
          "name": "stdout",
          "output_type": "stream",
          "text": [
            "1\n",
            "3\n",
            "5\n",
            "7\n",
            "9\n"
          ]
        }
      ],
      "source": [
        "i = 1\n",
        "while i<10:\n",
        "    print(i)\n",
        "    i = i+2"
      ]
    },
    {
      "cell_type": "code",
      "execution_count": null,
      "id": "e7a7520f",
      "metadata": {
        "id": "e7a7520f"
      },
      "outputs": [],
      "source": [
        ""
      ]
    }
  ],
  "metadata": {
    "kernelspec": {
      "display_name": "Python 3",
      "language": "python",
      "name": "python3"
    },
    "language_info": {
      "codemirror_mode": {
        "name": "ipython",
        "version": 3
      },
      "file_extension": ".py",
      "mimetype": "text/x-python",
      "name": "python",
      "nbconvert_exporter": "python",
      "pygments_lexer": "ipython3",
      "version": "3.6.13"
    },
    "colab": {
      "name": "Pract.seaborn.ipynb",
      "provenance": [],
      "collapsed_sections": []
    }
  },
  "nbformat": 4,
  "nbformat_minor": 5
}