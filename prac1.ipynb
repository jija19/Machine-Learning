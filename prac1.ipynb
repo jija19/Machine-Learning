{
  "cells": [
    {
      "cell_type": "code",
      "execution_count": null,
      "id": "b76cee2d",
      "metadata": {
        "id": "b76cee2d"
      },
      "outputs": [],
      "source": [
        "my_list = [2,65,4,32,4,54,100]"
      ]
    },
    {
      "cell_type": "code",
      "execution_count": null,
      "id": "f86d3b48",
      "metadata": {
        "id": "f86d3b48",
        "outputId": "d5068fb0-e7ec-43a5-fe1d-3dfe2f22f107"
      },
      "outputs": [
        {
          "name": "stdout",
          "output_type": "stream",
          "text": [
            "[2, 65, 4, 32, 4, 54, 100]\n"
          ]
        }
      ],
      "source": [
        "print(my_list)"
      ]
    },
    {
      "cell_type": "code",
      "execution_count": null,
      "id": "1d913cf5",
      "metadata": {
        "id": "1d913cf5",
        "outputId": "0ac20aca-da79-42f3-eeab-02c850b42b96"
      },
      "outputs": [
        {
          "data": {
            "text/plain": [
              "7"
            ]
          },
          "execution_count": 3,
          "metadata": {},
          "output_type": "execute_result"
        }
      ],
      "source": [
        "len(my_list)"
      ]
    },
    {
      "cell_type": "code",
      "execution_count": null,
      "id": "943d83de",
      "metadata": {
        "id": "943d83de",
        "outputId": "19ab8a77-8714-4b2d-c348-27cc443177a3"
      },
      "outputs": [
        {
          "data": {
            "text/plain": [
              "65"
            ]
          },
          "execution_count": 4,
          "metadata": {},
          "output_type": "execute_result"
        }
      ],
      "source": [
        "my_list[1]"
      ]
    },
    {
      "cell_type": "code",
      "execution_count": null,
      "id": "3cf20bdf",
      "metadata": {
        "id": "3cf20bdf",
        "outputId": "b5ae446b-8c82-4492-eb7a-a2b15ff741e4"
      },
      "outputs": [
        {
          "data": {
            "text/plain": [
              "54"
            ]
          },
          "execution_count": 5,
          "metadata": {},
          "output_type": "execute_result"
        }
      ],
      "source": [
        "my_list[5]"
      ]
    },
    {
      "cell_type": "code",
      "execution_count": null,
      "id": "db425a8b",
      "metadata": {
        "id": "db425a8b",
        "outputId": "f3c94cb8-ac29-4848-9bfc-a356417f4259"
      },
      "outputs": [
        {
          "data": {
            "text/plain": [
              "[2, 65, 4, 32, 4, 54, 100]"
            ]
          },
          "execution_count": 5,
          "metadata": {},
          "output_type": "execute_result"
        }
      ],
      "source": [
        "my_list"
      ]
    },
    {
      "cell_type": "code",
      "execution_count": null,
      "id": "e1c63752",
      "metadata": {
        "id": "e1c63752",
        "outputId": "4c5224d5-ffaf-47e5-ea03-2d072337db25"
      },
      "outputs": [
        {
          "data": {
            "text/plain": [
              "[65, 4, 32]"
            ]
          },
          "execution_count": 6,
          "metadata": {},
          "output_type": "execute_result"
        }
      ],
      "source": [
        "my_list[1:4]"
      ]
    },
    {
      "cell_type": "code",
      "execution_count": null,
      "id": "c1309e78",
      "metadata": {
        "id": "c1309e78",
        "outputId": "5fbfe1e4-7d43-4e74-9ac7-99e4c0ff45bb"
      },
      "outputs": [
        {
          "data": {
            "text/plain": [
              "[2, 65, 4, 32]"
            ]
          },
          "execution_count": 8,
          "metadata": {},
          "output_type": "execute_result"
        }
      ],
      "source": [
        "my_list[:4]"
      ]
    },
    {
      "cell_type": "code",
      "execution_count": null,
      "id": "7223056b",
      "metadata": {
        "id": "7223056b",
        "outputId": "644fb2b3-afaa-486e-8d64-f1bf52fb4869"
      },
      "outputs": [
        {
          "data": {
            "text/plain": [
              "[4, 32, 4, 54]"
            ]
          },
          "execution_count": 9,
          "metadata": {},
          "output_type": "execute_result"
        }
      ],
      "source": [
        "my_list[2:]"
      ]
    },
    {
      "cell_type": "markdown",
      "id": "c186ca86",
      "metadata": {
        "id": "c186ca86"
      },
      "source": [
        "# Nested List"
      ]
    },
    {
      "cell_type": "code",
      "execution_count": null,
      "id": "6c7b57f6",
      "metadata": {
        "id": "6c7b57f6"
      },
      "outputs": [],
      "source": [
        "nest = [3,45,67,[45,69,17]] # we can create list into list"
      ]
    },
    {
      "cell_type": "code",
      "execution_count": null,
      "id": "424a451b",
      "metadata": {
        "id": "424a451b",
        "outputId": "25e57a6d-de5d-4c36-91f6-ac0a40f47180"
      },
      "outputs": [
        {
          "data": {
            "text/plain": [
              "[3, 45, 67, [45, 69, 17]]"
            ]
          },
          "execution_count": 11,
          "metadata": {},
          "output_type": "execute_result"
        }
      ],
      "source": [
        "nest"
      ]
    },
    {
      "cell_type": "code",
      "execution_count": null,
      "id": "324120e2",
      "metadata": {
        "id": "324120e2",
        "outputId": "0ab5d6b6-2be0-478e-a283-be9a1960bdd0"
      },
      "outputs": [
        {
          "data": {
            "text/plain": [
              "4"
            ]
          },
          "execution_count": 12,
          "metadata": {},
          "output_type": "execute_result"
        }
      ],
      "source": [
        "len(nest)"
      ]
    },
    {
      "cell_type": "code",
      "execution_count": null,
      "id": "1cc379dc",
      "metadata": {
        "id": "1cc379dc",
        "outputId": "8d1d789c-889d-4054-9f73-1fea81f53188"
      },
      "outputs": [
        {
          "data": {
            "text/plain": [
              "[45, 69, 17]"
            ]
          },
          "execution_count": 13,
          "metadata": {},
          "output_type": "execute_result"
        }
      ],
      "source": [
        "nest[3]"
      ]
    },
    {
      "cell_type": "code",
      "execution_count": null,
      "id": "313ee357",
      "metadata": {
        "id": "313ee357",
        "outputId": "273c3c3b-07ef-4234-c35a-056bab9071d6"
      },
      "outputs": [
        {
          "data": {
            "text/plain": [
              "45"
            ]
          },
          "execution_count": 14,
          "metadata": {},
          "output_type": "execute_result"
        }
      ],
      "source": [
        "nest[1]"
      ]
    },
    {
      "cell_type": "code",
      "execution_count": null,
      "id": "5caeb693",
      "metadata": {
        "id": "5caeb693",
        "outputId": "09df0857-a23d-4436-9677-84a645d98e4d"
      },
      "outputs": [
        {
          "data": {
            "text/plain": [
              "69"
            ]
          },
          "execution_count": 15,
          "metadata": {},
          "output_type": "execute_result"
        }
      ],
      "source": [
        "nest[3][1]"
      ]
    },
    {
      "cell_type": "code",
      "execution_count": null,
      "id": "40ca87d0",
      "metadata": {
        "id": "40ca87d0",
        "outputId": "052ff90b-8b0f-4b97-9c23-be33310cdbfa"
      },
      "outputs": [
        {
          "data": {
            "text/plain": [
              "17"
            ]
          },
          "execution_count": 16,
          "metadata": {},
          "output_type": "execute_result"
        }
      ],
      "source": [
        "nest[3][2]"
      ]
    },
    {
      "cell_type": "code",
      "execution_count": null,
      "id": "01da5f1d",
      "metadata": {
        "id": "01da5f1d"
      },
      "outputs": [],
      "source": [
        "nest1 = [4,5,8,[78,39,['good']]]"
      ]
    },
    {
      "cell_type": "code",
      "execution_count": null,
      "id": "9a5c13ac",
      "metadata": {
        "id": "9a5c13ac",
        "outputId": "ad08b563-2e9e-4da1-8a68-5615d095ca64"
      },
      "outputs": [
        {
          "data": {
            "text/plain": [
              "[78, 39, ['good']]"
            ]
          },
          "execution_count": 18,
          "metadata": {},
          "output_type": "execute_result"
        }
      ],
      "source": [
        "nest1[3]"
      ]
    },
    {
      "cell_type": "code",
      "execution_count": null,
      "id": "c07773f9",
      "metadata": {
        "id": "c07773f9",
        "outputId": "7cbd6307-fa16-4d38-be42-d19006b0d104"
      },
      "outputs": [
        {
          "data": {
            "text/plain": [
              "['good']"
            ]
          },
          "execution_count": 19,
          "metadata": {},
          "output_type": "execute_result"
        }
      ],
      "source": [
        "nest1 [3][2]"
      ]
    },
    {
      "cell_type": "code",
      "execution_count": null,
      "id": "8ec2c5f9",
      "metadata": {
        "id": "8ec2c5f9",
        "outputId": "65b960fe-aaee-4921-a655-2887983c631f"
      },
      "outputs": [
        {
          "data": {
            "text/plain": [
              "'good'"
            ]
          },
          "execution_count": 20,
          "metadata": {},
          "output_type": "execute_result"
        }
      ],
      "source": [
        "nest1 [3][2][0]"
      ]
    },
    {
      "cell_type": "markdown",
      "id": "39882309",
      "metadata": {
        "id": "39882309"
      },
      "source": [
        "# Dictionary"
      ]
    },
    {
      "cell_type": "code",
      "execution_count": null,
      "id": "154fa531",
      "metadata": {
        "id": "154fa531"
      },
      "outputs": [],
      "source": [
        "d = {'name':'ashish', 'city':'nagpur', 'age':22, 'mobile':957866}"
      ]
    },
    {
      "cell_type": "code",
      "execution_count": null,
      "id": "a1d877f0",
      "metadata": {
        "id": "a1d877f0",
        "outputId": "1b175299-c3bb-44c4-ae76-9d29734eb7a2"
      },
      "outputs": [
        {
          "data": {
            "text/plain": [
              "{'name': 'ashish', 'city': 'nagpur', 'age': 22, 'mobile': 957866}"
            ]
          },
          "execution_count": 22,
          "metadata": {},
          "output_type": "execute_result"
        }
      ],
      "source": [
        "d"
      ]
    },
    {
      "cell_type": "code",
      "execution_count": null,
      "id": "2fdff1df",
      "metadata": {
        "id": "2fdff1df",
        "outputId": "4bfed8de-411b-42ae-9510-4cfbf185de34"
      },
      "outputs": [
        {
          "data": {
            "text/plain": [
              "dict_keys(['name', 'city', 'age', 'mobile'])"
            ]
          },
          "execution_count": 24,
          "metadata": {},
          "output_type": "execute_result"
        }
      ],
      "source": [
        "d.keys()"
      ]
    },
    {
      "cell_type": "code",
      "execution_count": null,
      "id": "364c6d67",
      "metadata": {
        "id": "364c6d67",
        "outputId": "fb9c9129-9964-4507-edaf-295d5c1336d2"
      },
      "outputs": [
        {
          "data": {
            "text/plain": [
              "dict_values(['ashish', 'nagpur', 22, 957866])"
            ]
          },
          "execution_count": 25,
          "metadata": {},
          "output_type": "execute_result"
        }
      ],
      "source": [
        "d.values()"
      ]
    },
    {
      "cell_type": "code",
      "execution_count": null,
      "id": "125115f6",
      "metadata": {
        "id": "125115f6",
        "outputId": "1222b978-586a-45cf-ee1c-9d6e49f14df3"
      },
      "outputs": [
        {
          "data": {
            "text/plain": [
              "'ashish'"
            ]
          },
          "execution_count": 26,
          "metadata": {},
          "output_type": "execute_result"
        }
      ],
      "source": [
        "d['name']"
      ]
    },
    {
      "cell_type": "code",
      "execution_count": null,
      "id": "49c42d71",
      "metadata": {
        "id": "49c42d71",
        "outputId": "a8403e98-550d-481d-c637-f4fcde6d5fe3"
      },
      "outputs": [
        {
          "data": {
            "text/plain": [
              "22"
            ]
          },
          "execution_count": 27,
          "metadata": {},
          "output_type": "execute_result"
        }
      ],
      "source": [
        "d['age']"
      ]
    },
    {
      "cell_type": "code",
      "execution_count": null,
      "id": "f02586bf",
      "metadata": {
        "id": "f02586bf"
      },
      "outputs": [],
      "source": [
        "d = {'k1':[2,35,58]}"
      ]
    },
    {
      "cell_type": "code",
      "execution_count": null,
      "id": "0a16a42f",
      "metadata": {
        "id": "0a16a42f",
        "outputId": "058805d3-8425-40a1-856f-93c6f7107574"
      },
      "outputs": [
        {
          "data": {
            "text/plain": [
              "[2, 35, 58]"
            ]
          },
          "execution_count": 31,
          "metadata": {},
          "output_type": "execute_result"
        }
      ],
      "source": [
        "d['k1']"
      ]
    },
    {
      "cell_type": "code",
      "execution_count": null,
      "id": "ccd2d6bb",
      "metadata": {
        "id": "ccd2d6bb",
        "outputId": "7823e4b2-50ed-40d9-dc06-0c6038313154"
      },
      "outputs": [
        {
          "data": {
            "text/plain": [
              "58"
            ]
          },
          "execution_count": 32,
          "metadata": {},
          "output_type": "execute_result"
        }
      ],
      "source": [
        "d['k1'][2]"
      ]
    },
    {
      "cell_type": "code",
      "execution_count": null,
      "id": "ef233260",
      "metadata": {
        "id": "ef233260"
      },
      "outputs": [],
      "source": [
        "d = {'k1':{'innerkey':[89,56,668]}}"
      ]
    },
    {
      "cell_type": "code",
      "execution_count": null,
      "id": "47841ee0",
      "metadata": {
        "id": "47841ee0",
        "outputId": "de12163c-e80e-45d5-df32-fed49d36e590"
      },
      "outputs": [
        {
          "data": {
            "text/plain": [
              "{'k1': {'innerkey': [89, 56, 668]}}"
            ]
          },
          "execution_count": 34,
          "metadata": {},
          "output_type": "execute_result"
        }
      ],
      "source": [
        "d"
      ]
    },
    {
      "cell_type": "code",
      "execution_count": null,
      "id": "a0cf1f1e",
      "metadata": {
        "id": "a0cf1f1e",
        "outputId": "39ae0542-bcb2-4fcc-80ad-4bfaa0524c31"
      },
      "outputs": [
        {
          "data": {
            "text/plain": [
              "{'innerkey': [89, 56, 668]}"
            ]
          },
          "execution_count": 35,
          "metadata": {},
          "output_type": "execute_result"
        }
      ],
      "source": [
        "d['k1']"
      ]
    },
    {
      "cell_type": "code",
      "execution_count": null,
      "id": "fded5772",
      "metadata": {
        "id": "fded5772",
        "outputId": "e94ef750-7f2d-48ee-a03b-4f9195ea1011"
      },
      "outputs": [
        {
          "data": {
            "text/plain": [
              "[89, 56, 668]"
            ]
          },
          "execution_count": 36,
          "metadata": {},
          "output_type": "execute_result"
        }
      ],
      "source": [
        "d['k1']['innerkey']"
      ]
    },
    {
      "cell_type": "code",
      "execution_count": null,
      "id": "e2359070",
      "metadata": {
        "id": "e2359070",
        "outputId": "b37a756e-8077-4735-837b-0ac4b6df5b69"
      },
      "outputs": [
        {
          "data": {
            "text/plain": [
              "56"
            ]
          },
          "execution_count": 37,
          "metadata": {},
          "output_type": "execute_result"
        }
      ],
      "source": [
        "d['k1']['innerkey'][1]"
      ]
    },
    {
      "cell_type": "markdown",
      "id": "1a2f8a68",
      "metadata": {
        "id": "1a2f8a68"
      },
      "source": [
        "# Tupple"
      ]
    },
    {
      "cell_type": "code",
      "execution_count": null,
      "id": "aeb21653",
      "metadata": {
        "id": "aeb21653"
      },
      "outputs": [],
      "source": [
        "t = (2,4,6,7,9,9)"
      ]
    },
    {
      "cell_type": "code",
      "execution_count": null,
      "id": "aa5ab6d4",
      "metadata": {
        "id": "aa5ab6d4",
        "outputId": "8029b0eb-acaf-4760-ad90-f9b1ce8619a1"
      },
      "outputs": [
        {
          "data": {
            "text/plain": [
              "(2, 4, 6, 7, 9, 9)"
            ]
          },
          "execution_count": 39,
          "metadata": {},
          "output_type": "execute_result"
        }
      ],
      "source": [
        "t"
      ]
    },
    {
      "cell_type": "markdown",
      "id": "292aa425",
      "metadata": {
        "id": "292aa425"
      },
      "source": [
        "# Set"
      ]
    },
    {
      "cell_type": "code",
      "execution_count": null,
      "id": "e444f154",
      "metadata": {
        "id": "e444f154"
      },
      "outputs": [],
      "source": [
        "s = {1,2,3,4,5,6,6} # not a duplicate values , curly bracket"
      ]
    },
    {
      "cell_type": "code",
      "execution_count": null,
      "id": "9c00b034",
      "metadata": {
        "id": "9c00b034",
        "outputId": "1e12fa60-1879-4015-9105-14d5e04b3288"
      },
      "outputs": [
        {
          "data": {
            "text/plain": [
              "{1, 2, 3, 4, 5, 6}"
            ]
          },
          "execution_count": 43,
          "metadata": {},
          "output_type": "execute_result"
        }
      ],
      "source": [
        "s"
      ]
    },
    {
      "cell_type": "code",
      "execution_count": null,
      "id": "0c201703",
      "metadata": {
        "id": "0c201703"
      },
      "outputs": [],
      "source": [
        ""
      ]
    }
  ],
  "metadata": {
    "kernelspec": {
      "display_name": "Python 3",
      "language": "python",
      "name": "python3"
    },
    "language_info": {
      "codemirror_mode": {
        "name": "ipython",
        "version": 3
      },
      "file_extension": ".py",
      "mimetype": "text/x-python",
      "name": "python",
      "nbconvert_exporter": "python",
      "pygments_lexer": "ipython3",
      "version": "3.8.8"
    },
    "colab": {
      "name": "prac1.ipynb",
      "provenance": []
    }
  },
  "nbformat": 4,
  "nbformat_minor": 5
}